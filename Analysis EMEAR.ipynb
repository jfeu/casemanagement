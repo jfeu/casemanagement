{
 "cells": [
  {
   "cell_type": "code",
   "execution_count": 1,
   "metadata": {},
   "outputs": [],
   "source": [
    "import pandas as pd\n",
    "pd.set_option('display.max_columns', 500)"
   ]
  },
  {
   "cell_type": "code",
   "execution_count": 2,
   "metadata": {},
   "outputs": [],
   "source": [
    "import matplotlib.pyplot as plt\n",
    "import seaborn as sns\n",
    "sns.set_style('whitegrid')\n",
    "%matplotlib inline"
   ]
  },
  {
   "cell_type": "code",
   "execution_count": 3,
   "metadata": {},
   "outputs": [
    {
     "name": "stdout",
     "output_type": "stream",
     "text": [
      "4.1.1\n"
     ]
    },
    {
     "data": {
      "text/html": [
       "        <script type=\"text/javascript\">\n",
       "        window.PlotlyConfig = {MathJaxConfig: 'local'};\n",
       "        if (window.MathJax) {MathJax.Hub.Config({SVG: {font: \"STIX-Web\"}});}\n",
       "        if (typeof require !== 'undefined') {\n",
       "        require.undef(\"plotly\");\n",
       "        requirejs.config({\n",
       "            paths: {\n",
       "                'plotly': ['https://cdn.plot.ly/plotly-latest.min']\n",
       "            }\n",
       "        });\n",
       "        require(['plotly'], function(Plotly) {\n",
       "            window._Plotly = Plotly;\n",
       "        });\n",
       "        }\n",
       "        </script>\n",
       "        "
      ]
     },
     "metadata": {},
     "output_type": "display_data"
    },
    {
     "data": {
      "text/html": [
       "        <script type=\"text/javascript\">\n",
       "        window.PlotlyConfig = {MathJaxConfig: 'local'};\n",
       "        if (window.MathJax) {MathJax.Hub.Config({SVG: {font: \"STIX-Web\"}});}\n",
       "        if (typeof require !== 'undefined') {\n",
       "        require.undef(\"plotly\");\n",
       "        requirejs.config({\n",
       "            paths: {\n",
       "                'plotly': ['https://cdn.plot.ly/plotly-latest.min']\n",
       "            }\n",
       "        });\n",
       "        require(['plotly'], function(Plotly) {\n",
       "            window._Plotly = Plotly;\n",
       "        });\n",
       "        }\n",
       "        </script>\n",
       "        "
      ]
     },
     "metadata": {},
     "output_type": "display_data"
    }
   ],
   "source": [
    "from plotly import __version__\n",
    "from plotly.offline import download_plotlyjs, init_notebook_mode, plot, iplot\n",
    "from datetime import datetime\n",
    "\n",
    "print(__version__) # requires version >= 1.9.0\n",
    "import cufflinks as cf\n",
    "# For Notebooks\n",
    "init_notebook_mode(connected=True)\n",
    "# For offline use\n",
    "cf.go_offline()"
   ]
  },
  {
   "cell_type": "code",
   "execution_count": 4,
   "metadata": {},
   "outputs": [],
   "source": [
    "data = pd.read_csv('./EMEAR_IT_CASES.csv',encoding = \"ISO-8859-1\", engine='python',parse_dates=['INCIDENT_OPENED_AT_DATE'])"
   ]
  },
  {
   "cell_type": "code",
   "execution_count": 5,
   "metadata": {},
   "outputs": [
    {
     "data": {
      "text/plain": [
       "(84419, 34)"
      ]
     },
     "execution_count": 5,
     "metadata": {},
     "output_type": "execute_result"
    }
   ],
   "source": [
    "data.shape"
   ]
  },
  {
   "cell_type": "code",
   "execution_count": 6,
   "metadata": {},
   "outputs": [
    {
     "data": {
      "text/html": [
       "<div>\n",
       "<style scoped>\n",
       "    .dataframe tbody tr th:only-of-type {\n",
       "        vertical-align: middle;\n",
       "    }\n",
       "\n",
       "    .dataframe tbody tr th {\n",
       "        vertical-align: top;\n",
       "    }\n",
       "\n",
       "    .dataframe thead th {\n",
       "        text-align: right;\n",
       "    }\n",
       "</style>\n",
       "<table border=\"1\" class=\"dataframe\">\n",
       "  <thead>\n",
       "    <tr style=\"text-align: right;\">\n",
       "      <th></th>\n",
       "      <th>INCIDENT_NUMBER</th>\n",
       "      <th>INCIDENT_IMPACTED_USER</th>\n",
       "      <th>LABEL</th>\n",
       "      <th>ASSIGNEE_EMAIL</th>\n",
       "      <th>INCIDENT_SUMMARY</th>\n",
       "      <th>INCIDENT_NOTES</th>\n",
       "      <th>INCIDENT_STATE</th>\n",
       "      <th>IMPACTED_SERVICE</th>\n",
       "      <th>IMPACTED_SERVICE_OFFERING</th>\n",
       "      <th>ASSIGNMENT_GROUP</th>\n",
       "      <th>ASSIGNEMENT_SUPPORT_LEVEL</th>\n",
       "      <th>INCIDENT_CATEGORY</th>\n",
       "      <th>INCIDENT_SUBCATEGORY</th>\n",
       "      <th>FIRST_ASSIGNED_TIME</th>\n",
       "      <th>INCIDENT_OPENED_AT_DATE</th>\n",
       "      <th>INCIDENT_OPENED_FIS_MONTH</th>\n",
       "      <th>INCIDENT_OPENED_FIS_QUARTER</th>\n",
       "      <th>INCIDENT_OPENED_FIS_YEAR</th>\n",
       "      <th>INCIDENT_RESOLVED_AT_DATE</th>\n",
       "      <th>INCIDENT_CLOSED_AT_DATE</th>\n",
       "      <th>HR_COUNTRY</th>\n",
       "      <th>REGION</th>\n",
       "      <th>HR_THEATRE</th>\n",
       "      <th>DV_BUILDING</th>\n",
       "      <th>INCIDENT_RESOLVED_FIS_WEEK</th>\n",
       "      <th>INCIDENT_RESOLVED_FIS_MONTH</th>\n",
       "      <th>INCIDENT_RESOLVED_FIS_QUARTER</th>\n",
       "      <th>INCIDENT_RESOLVED_FIS_YEAR</th>\n",
       "      <th>INCIDENT_RESOLUTION_DOMAIN</th>\n",
       "      <th>INCIDENT_RESOLUTION_ACTION</th>\n",
       "      <th>INCIDENT_RESOLUTION_AREA</th>\n",
       "      <th>INCIDENT_RESOLUTION_NOTES</th>\n",
       "      <th>INCIDENT_IMPACTED_AREA</th>\n",
       "      <th>Priority</th>\n",
       "    </tr>\n",
       "  </thead>\n",
       "  <tbody>\n",
       "    <tr>\n",
       "      <th>0</th>\n",
       "      <td>INC1603712</td>\n",
       "      <td>NaN</td>\n",
       "      <td>Monitoring</td>\n",
       "      <td>vinwilso@cisco.com</td>\n",
       "      <td>EUROPE1 - dbi03-lmr-gw1.cisco.com: Device not ...</td>\n",
       "      <td>EUROPE1 - dbi03-lmr-gw1.cisco.com: Device not ...</td>\n",
       "      <td>Cancelled</td>\n",
       "      <td>Corporate Network</td>\n",
       "      <td>Secure WAN Access</td>\n",
       "      <td>Network-Ops-Premise-NOC</td>\n",
       "      <td>Tier 2</td>\n",
       "      <td>Performance</td>\n",
       "      <td>Degraded</td>\n",
       "      <td>11-Jun-19</td>\n",
       "      <td>12-JUN-19 06.55.34.000000000</td>\n",
       "      <td>FY2019 MON 11 (JUN)</td>\n",
       "      <td>FY2019 Q4</td>\n",
       "      <td>FY2019</td>\n",
       "      <td>NaN</td>\n",
       "      <td>12-JUN-19 07.10.15.000000000</td>\n",
       "      <td>UNITED ARAB EMIRATES</td>\n",
       "      <td>EMERGING</td>\n",
       "      <td>EUROPE, MIDDLE EAST, AFRICA and RUSSIA</td>\n",
       "      <td>NaN</td>\n",
       "      <td>NaN</td>\n",
       "      <td>NaN</td>\n",
       "      <td>NaN</td>\n",
       "      <td>NaN</td>\n",
       "      <td>NaN</td>\n",
       "      <td>NaN</td>\n",
       "      <td>NaN</td>\n",
       "      <td>NaN</td>\n",
       "      <td>NaN</td>\n",
       "      <td>5 - Standard</td>\n",
       "    </tr>\n",
       "    <tr>\n",
       "      <th>1</th>\n",
       "      <td>INC2987458</td>\n",
       "      <td>francig3</td>\n",
       "      <td>Phone</td>\n",
       "      <td>mmartenc@cisco.com</td>\n",
       "      <td>Audio Issues (Poor Quality)</td>\n",
       "      <td>*** Incident Reported ***\\r\\n\\r\\n Reported By...</td>\n",
       "      <td>Pending</td>\n",
       "      <td>Cloud Collaboration</td>\n",
       "      <td>Webex Teams</td>\n",
       "      <td>RCSS</td>\n",
       "      <td>Tier 1</td>\n",
       "      <td>Performance</td>\n",
       "      <td>Degraded</td>\n",
       "      <td>12-Jan-21</td>\n",
       "      <td>12-JAN-21 15.44.37.000000000</td>\n",
       "      <td>FY2021 MON 06 (JAN)</td>\n",
       "      <td>FY2021 Q2</td>\n",
       "      <td>FY2021</td>\n",
       "      <td>NaN</td>\n",
       "      <td>NaN</td>\n",
       "      <td>PORTUGAL</td>\n",
       "      <td>EMEAR-SOUTH</td>\n",
       "      <td>EUROPE, MIDDLE EAST, AFRICA and RUSSIA</td>\n",
       "      <td>OEIRAS 5</td>\n",
       "      <td>NaN</td>\n",
       "      <td>NaN</td>\n",
       "      <td>NaN</td>\n",
       "      <td>NaN</td>\n",
       "      <td>NaN</td>\n",
       "      <td>NaN</td>\n",
       "      <td>NaN</td>\n",
       "      <td>NaN</td>\n",
       "      <td>Voice - windows</td>\n",
       "      <td>5 - Standard</td>\n",
       "    </tr>\n",
       "  </tbody>\n",
       "</table>\n",
       "</div>"
      ],
      "text/plain": [
       "  INCIDENT_NUMBER INCIDENT_IMPACTED_USER       LABEL      ASSIGNEE_EMAIL  \\\n",
       "0      INC1603712                    NaN  Monitoring  vinwilso@cisco.com   \n",
       "1      INC2987458               francig3       Phone  mmartenc@cisco.com   \n",
       "\n",
       "                                    INCIDENT_SUMMARY  \\\n",
       "0  EUROPE1 - dbi03-lmr-gw1.cisco.com: Device not ...   \n",
       "1                        Audio Issues (Poor Quality)   \n",
       "\n",
       "                                      INCIDENT_NOTES INCIDENT_STATE  \\\n",
       "0  EUROPE1 - dbi03-lmr-gw1.cisco.com: Device not ...      Cancelled   \n",
       "1  *** Incident Reported ***\\r\\n\\r\\n Reported By...        Pending   \n",
       "\n",
       "      IMPACTED_SERVICE IMPACTED_SERVICE_OFFERING         ASSIGNMENT_GROUP  \\\n",
       "0    Corporate Network         Secure WAN Access  Network-Ops-Premise-NOC   \n",
       "1  Cloud Collaboration               Webex Teams                     RCSS   \n",
       "\n",
       "  ASSIGNEMENT_SUPPORT_LEVEL INCIDENT_CATEGORY INCIDENT_SUBCATEGORY  \\\n",
       "0                    Tier 2       Performance             Degraded   \n",
       "1                    Tier 1       Performance             Degraded   \n",
       "\n",
       "  FIRST_ASSIGNED_TIME       INCIDENT_OPENED_AT_DATE INCIDENT_OPENED_FIS_MONTH  \\\n",
       "0           11-Jun-19  12-JUN-19 06.55.34.000000000       FY2019 MON 11 (JUN)   \n",
       "1           12-Jan-21  12-JAN-21 15.44.37.000000000       FY2021 MON 06 (JAN)   \n",
       "\n",
       "  INCIDENT_OPENED_FIS_QUARTER INCIDENT_OPENED_FIS_YEAR  \\\n",
       "0                   FY2019 Q4                   FY2019   \n",
       "1                   FY2021 Q2                   FY2021   \n",
       "\n",
       "  INCIDENT_RESOLVED_AT_DATE       INCIDENT_CLOSED_AT_DATE  \\\n",
       "0                       NaN  12-JUN-19 07.10.15.000000000   \n",
       "1                       NaN                           NaN   \n",
       "\n",
       "             HR_COUNTRY       REGION                              HR_THEATRE  \\\n",
       "0  UNITED ARAB EMIRATES     EMERGING  EUROPE, MIDDLE EAST, AFRICA and RUSSIA   \n",
       "1              PORTUGAL  EMEAR-SOUTH  EUROPE, MIDDLE EAST, AFRICA and RUSSIA   \n",
       "\n",
       "  DV_BUILDING INCIDENT_RESOLVED_FIS_WEEK INCIDENT_RESOLVED_FIS_MONTH  \\\n",
       "0         NaN                        NaN                         NaN   \n",
       "1    OEIRAS 5                        NaN                         NaN   \n",
       "\n",
       "  INCIDENT_RESOLVED_FIS_QUARTER INCIDENT_RESOLVED_FIS_YEAR  \\\n",
       "0                           NaN                        NaN   \n",
       "1                           NaN                        NaN   \n",
       "\n",
       "  INCIDENT_RESOLUTION_DOMAIN INCIDENT_RESOLUTION_ACTION  \\\n",
       "0                        NaN                        NaN   \n",
       "1                        NaN                        NaN   \n",
       "\n",
       "  INCIDENT_RESOLUTION_AREA INCIDENT_RESOLUTION_NOTES INCIDENT_IMPACTED_AREA  \\\n",
       "0                      NaN                       NaN                    NaN   \n",
       "1                      NaN                       NaN        Voice - windows   \n",
       "\n",
       "       Priority  \n",
       "0  5 - Standard  \n",
       "1  5 - Standard  "
      ]
     },
     "execution_count": 6,
     "metadata": {},
     "output_type": "execute_result"
    }
   ],
   "source": [
    "data.head(2)"
   ]
  },
  {
   "cell_type": "code",
   "execution_count": 7,
   "metadata": {},
   "outputs": [],
   "source": [
    "#import plotly.plotly as ply\n",
    "import cufflinks as cf"
   ]
  },
  {
   "cell_type": "markdown",
   "metadata": {},
   "source": [
    "#### It may not include all high incident as they are way high than what is in here"
   ]
  },
  {
   "cell_type": "code",
   "execution_count": 8,
   "metadata": {},
   "outputs": [
    {
     "data": {
      "text/plain": [
       "5 - Standard    81528\n",
       "3 - Moderate     1520\n",
       "4 - Minor        1262\n",
       "1 - Critical       71\n",
       "2 - High           38\n",
       "Name: Priority, dtype: int64"
      ]
     },
     "execution_count": 8,
     "metadata": {},
     "output_type": "execute_result"
    }
   ],
   "source": [
    "data.Priority.value_counts()"
   ]
  },
  {
   "cell_type": "code",
   "execution_count": 9,
   "metadata": {},
   "outputs": [
    {
     "data": {
      "text/html": [
       "<div>\n",
       "<style scoped>\n",
       "    .dataframe tbody tr th:only-of-type {\n",
       "        vertical-align: middle;\n",
       "    }\n",
       "\n",
       "    .dataframe tbody tr th {\n",
       "        vertical-align: top;\n",
       "    }\n",
       "\n",
       "    .dataframe thead th {\n",
       "        text-align: right;\n",
       "    }\n",
       "</style>\n",
       "<table border=\"1\" class=\"dataframe\">\n",
       "  <thead>\n",
       "    <tr style=\"text-align: right;\">\n",
       "      <th></th>\n",
       "      <th>INCIDENT_OPENED_FIS_QUARTER</th>\n",
       "      <th>Priority</th>\n",
       "      <th>LABEL</th>\n",
       "      <th>Count</th>\n",
       "    </tr>\n",
       "  </thead>\n",
       "  <tbody>\n",
       "    <tr>\n",
       "      <th>0</th>\n",
       "      <td>FY2020 Q2</td>\n",
       "      <td>2 - High</td>\n",
       "      <td>Phone</td>\n",
       "      <td>1</td>\n",
       "    </tr>\n",
       "    <tr>\n",
       "      <th>1</th>\n",
       "      <td>FY2020 Q2</td>\n",
       "      <td>2 - High</td>\n",
       "      <td>Portal</td>\n",
       "      <td>1</td>\n",
       "    </tr>\n",
       "  </tbody>\n",
       "</table>\n",
       "</div>"
      ],
      "text/plain": [
       "  INCIDENT_OPENED_FIS_QUARTER  Priority   LABEL  Count\n",
       "0                   FY2020 Q2  2 - High   Phone      1\n",
       "1                   FY2020 Q2  2 - High  Portal      1"
      ]
     },
     "execution_count": 9,
     "metadata": {},
     "output_type": "execute_result"
    }
   ],
   "source": [
    "# this data does not include all the high incidents\n",
    "data[(data['INCIDENT_OPENED_FIS_QUARTER']=='FY2020 Q2')& (data['Priority'] =='2 - High')].groupby(['INCIDENT_OPENED_FIS_QUARTER','Priority','LABEL']).size().reset_index(name=\"Count\").sort_values(by='Count', ascending=False)\n"
   ]
  },
  {
   "cell_type": "markdown",
   "metadata": {},
   "source": [
    "#### We can see howz the trend for SLA , how fast we are closing ? "
   ]
  },
  {
   "cell_type": "code",
   "execution_count": 10,
   "metadata": {},
   "outputs": [
    {
     "data": {
      "text/plain": [
       "Closed                 83330\n",
       "Cancelled                495\n",
       "Resolved                 288\n",
       "Pending                  160\n",
       "Work In Progress         114\n",
       "Awaiting Assignment       31\n",
       "Name: INCIDENT_STATE, dtype: int64"
      ]
     },
     "execution_count": 10,
     "metadata": {},
     "output_type": "execute_result"
    }
   ],
   "source": [
    "data.INCIDENT_STATE.value_counts()"
   ]
  },
  {
   "cell_type": "markdown",
   "metadata": {},
   "source": [
    "#### Mostly open incident are in current quarter"
   ]
  },
  {
   "cell_type": "code",
   "execution_count": 11,
   "metadata": {},
   "outputs": [
    {
     "data": {
      "text/plain": [
       "FY2018 Q4      1\n",
       "FY2019 Q1      1\n",
       "FY2019 Q2      3\n",
       "FY2019 Q3     10\n",
       "FY2019 Q4      7\n",
       "FY2020 Q1      2\n",
       "FY2020 Q2      5\n",
       "FY2020 Q3      4\n",
       "FY2020 Q4      3\n",
       "FY2021 Q1     16\n",
       "FY2021 Q2    253\n",
       "Name: INCIDENT_OPENED_FIS_QUARTER, dtype: int64"
      ]
     },
     "execution_count": 11,
     "metadata": {},
     "output_type": "execute_result"
    }
   ],
   "source": [
    "data[((data.INCIDENT_STATE=='Work In Progress' )| \n",
    "     (data.INCIDENT_STATE=='Awaiting Assignment') | (data.INCIDENT_STATE=='Pending')) & (data.INCIDENT_STATE != 'Cancelled')].INCIDENT_OPENED_FIS_QUARTER.value_counts().sort_index()"
   ]
  },
  {
   "cell_type": "code",
   "execution_count": 12,
   "metadata": {},
   "outputs": [
    {
     "data": {
      "text/plain": [
       "Phone              37577\n",
       "Portal             23896\n",
       "Walk-in             8063\n",
       "Web                 5106\n",
       "Chat                3878\n",
       "Monitoring          3182\n",
       "Email                967\n",
       "Self-Service         878\n",
       "Scheduled            710\n",
       "Service Request      156\n",
       "ServiceGrid            6\n",
       "Name: LABEL, dtype: int64"
      ]
     },
     "execution_count": 12,
     "metadata": {},
     "output_type": "execute_result"
    }
   ],
   "source": [
    "data.LABEL.value_counts()"
   ]
  },
  {
   "cell_type": "code",
   "execution_count": 13,
   "metadata": {},
   "outputs": [],
   "source": [
    "dnew =data.groupby(['INCIDENT_OPENED_FIS_QUARTER','LABEL']).size().reset_index(name=\"Count\").sort_values(by='INCIDENT_OPENED_FIS_QUARTER', ascending=False).reset_index()\n"
   ]
  },
  {
   "cell_type": "code",
   "execution_count": 14,
   "metadata": {},
   "outputs": [
    {
     "data": {
      "text/html": [
       "<div>\n",
       "<style scoped>\n",
       "    .dataframe tbody tr th:only-of-type {\n",
       "        vertical-align: middle;\n",
       "    }\n",
       "\n",
       "    .dataframe tbody tr th {\n",
       "        vertical-align: top;\n",
       "    }\n",
       "\n",
       "    .dataframe thead th {\n",
       "        text-align: right;\n",
       "    }\n",
       "</style>\n",
       "<table border=\"1\" class=\"dataframe\">\n",
       "  <thead>\n",
       "    <tr style=\"text-align: right;\">\n",
       "      <th></th>\n",
       "      <th>index</th>\n",
       "      <th>INCIDENT_OPENED_FIS_QUARTER</th>\n",
       "      <th>LABEL</th>\n",
       "      <th>Count</th>\n",
       "    </tr>\n",
       "  </thead>\n",
       "  <tbody>\n",
       "    <tr>\n",
       "      <th>0</th>\n",
       "      <td>136</td>\n",
       "      <td>FY2021 Q2</td>\n",
       "      <td>Web</td>\n",
       "      <td>9</td>\n",
       "    </tr>\n",
       "    <tr>\n",
       "      <th>1</th>\n",
       "      <td>135</td>\n",
       "      <td>FY2021 Q2</td>\n",
       "      <td>Walk-in</td>\n",
       "      <td>154</td>\n",
       "    </tr>\n",
       "    <tr>\n",
       "      <th>2</th>\n",
       "      <td>134</td>\n",
       "      <td>FY2021 Q2</td>\n",
       "      <td>Service Request</td>\n",
       "      <td>11</td>\n",
       "    </tr>\n",
       "    <tr>\n",
       "      <th>3</th>\n",
       "      <td>133</td>\n",
       "      <td>FY2021 Q2</td>\n",
       "      <td>Self-Service</td>\n",
       "      <td>198</td>\n",
       "    </tr>\n",
       "    <tr>\n",
       "      <th>4</th>\n",
       "      <td>132</td>\n",
       "      <td>FY2021 Q2</td>\n",
       "      <td>Scheduled</td>\n",
       "      <td>14</td>\n",
       "    </tr>\n",
       "  </tbody>\n",
       "</table>\n",
       "</div>"
      ],
      "text/plain": [
       "   index INCIDENT_OPENED_FIS_QUARTER            LABEL  Count\n",
       "0    136                   FY2021 Q2              Web      9\n",
       "1    135                   FY2021 Q2          Walk-in    154\n",
       "2    134                   FY2021 Q2  Service Request     11\n",
       "3    133                   FY2021 Q2     Self-Service    198\n",
       "4    132                   FY2021 Q2        Scheduled     14"
      ]
     },
     "execution_count": 14,
     "metadata": {},
     "output_type": "execute_result"
    }
   ],
   "source": [
    "dnew.head()"
   ]
  },
  {
   "cell_type": "code",
   "execution_count": 15,
   "metadata": {},
   "outputs": [
    {
     "data": {
      "application/vnd.plotly.v1+json": {
       "config": {
        "plotlyServerURL": "https://plot.ly"
       },
       "data": [
        {
         "alignmentgroup": "True",
         "hoverlabel": {
          "namelength": 0
         },
         "hovertemplate": "LABEL=Web<br>INCIDENT_OPENED_FIS_QUARTER=%{x}<br>Count=%{y}",
         "legendgroup": "LABEL=Web",
         "marker": {
          "color": "#636efa"
         },
         "name": "LABEL=Web",
         "offsetgroup": "LABEL=Web",
         "orientation": "v",
         "showlegend": true,
         "textposition": "auto",
         "type": "bar",
         "x": [
          "FY2021 Q2",
          "FY2021 Q1",
          "FY2020 Q4",
          "FY2020 Q3",
          "FY2020 Q2",
          "FY2020 Q1",
          "FY2019 Q4",
          "FY2019 Q3",
          "FY2019 Q2",
          "FY2019 Q1",
          "FY2018 Q4",
          "FY2018 Q3",
          "FY2018 Q2",
          "FY2018 Q1"
         ],
         "xaxis": "x",
         "y": [
          9,
          14,
          8,
          19,
          359,
          494,
          524,
          784,
          700,
          521,
          476,
          556,
          502,
          140
         ],
         "yaxis": "y"
        },
        {
         "alignmentgroup": "True",
         "hoverlabel": {
          "namelength": 0
         },
         "hovertemplate": "LABEL=Walk-in<br>INCIDENT_OPENED_FIS_QUARTER=%{x}<br>Count=%{y}",
         "legendgroup": "LABEL=Walk-in",
         "marker": {
          "color": "#EF553B"
         },
         "name": "LABEL=Walk-in",
         "offsetgroup": "LABEL=Walk-in",
         "orientation": "v",
         "showlegend": true,
         "textposition": "auto",
         "type": "bar",
         "x": [
          "FY2021 Q2",
          "FY2021 Q1",
          "FY2020 Q4",
          "FY2020 Q3",
          "FY2020 Q2",
          "FY2020 Q1",
          "FY2019 Q4",
          "FY2019 Q3",
          "FY2019 Q2",
          "FY2019 Q1",
          "FY2018 Q4",
          "FY2018 Q3",
          "FY2018 Q2",
          "FY2018 Q1"
         ],
         "xaxis": "x",
         "y": [
          154,
          176,
          139,
          573,
          812,
          1006,
          876,
          662,
          538,
          605,
          586,
          891,
          793,
          252
         ],
         "yaxis": "y"
        },
        {
         "alignmentgroup": "True",
         "hoverlabel": {
          "namelength": 0
         },
         "hovertemplate": "LABEL=Service Request<br>INCIDENT_OPENED_FIS_QUARTER=%{x}<br>Count=%{y}",
         "legendgroup": "LABEL=Service Request",
         "marker": {
          "color": "#00cc96"
         },
         "name": "LABEL=Service Request",
         "offsetgroup": "LABEL=Service Request",
         "orientation": "v",
         "showlegend": true,
         "textposition": "auto",
         "type": "bar",
         "x": [
          "FY2021 Q2",
          "FY2021 Q1",
          "FY2020 Q4",
          "FY2020 Q3",
          "FY2020 Q2",
          "FY2020 Q1",
          "FY2019 Q4"
         ],
         "xaxis": "x",
         "y": [
          11,
          38,
          19,
          15,
          34,
          20,
          19
         ],
         "yaxis": "y"
        },
        {
         "alignmentgroup": "True",
         "hoverlabel": {
          "namelength": 0
         },
         "hovertemplate": "LABEL=Self-Service<br>INCIDENT_OPENED_FIS_QUARTER=%{x}<br>Count=%{y}",
         "legendgroup": "LABEL=Self-Service",
         "marker": {
          "color": "#ab63fa"
         },
         "name": "LABEL=Self-Service",
         "offsetgroup": "LABEL=Self-Service",
         "orientation": "v",
         "showlegend": true,
         "textposition": "auto",
         "type": "bar",
         "x": [
          "FY2021 Q2",
          "FY2021 Q1",
          "FY2020 Q4",
          "FY2020 Q3",
          "FY2020 Q2",
          "FY2020 Q1",
          "FY2019 Q4",
          "FY2019 Q3",
          "FY2019 Q2",
          "FY2019 Q1",
          "FY2018 Q4",
          "FY2018 Q3",
          "FY2018 Q2",
          "FY2018 Q1"
         ],
         "xaxis": "x",
         "y": [
          198,
          291,
          90,
          16,
          24,
          27,
          35,
          32,
          39,
          28,
          41,
          30,
          19,
          8
         ],
         "yaxis": "y"
        },
        {
         "alignmentgroup": "True",
         "hoverlabel": {
          "namelength": 0
         },
         "hovertemplate": "LABEL=Scheduled<br>INCIDENT_OPENED_FIS_QUARTER=%{x}<br>Count=%{y}",
         "legendgroup": "LABEL=Scheduled",
         "marker": {
          "color": "#FFA15A"
         },
         "name": "LABEL=Scheduled",
         "offsetgroup": "LABEL=Scheduled",
         "orientation": "v",
         "showlegend": true,
         "textposition": "auto",
         "type": "bar",
         "x": [
          "FY2021 Q2",
          "FY2021 Q1",
          "FY2020 Q4",
          "FY2020 Q3",
          "FY2020 Q2",
          "FY2020 Q1",
          "FY2019 Q4",
          "FY2019 Q3",
          "FY2019 Q2",
          "FY2019 Q1",
          "FY2018 Q4",
          "FY2018 Q3",
          "FY2018 Q2",
          "FY2018 Q1"
         ],
         "xaxis": "x",
         "y": [
          14,
          16,
          22,
          13,
          5,
          25,
          38,
          17,
          30,
          67,
          125,
          155,
          114,
          69
         ],
         "yaxis": "y"
        },
        {
         "alignmentgroup": "True",
         "hoverlabel": {
          "namelength": 0
         },
         "hovertemplate": "LABEL=Portal<br>INCIDENT_OPENED_FIS_QUARTER=%{x}<br>Count=%{y}",
         "legendgroup": "LABEL=Portal",
         "marker": {
          "color": "#19d3f3"
         },
         "name": "LABEL=Portal",
         "offsetgroup": "LABEL=Portal",
         "orientation": "v",
         "showlegend": true,
         "textposition": "auto",
         "type": "bar",
         "x": [
          "FY2021 Q2",
          "FY2021 Q1",
          "FY2020 Q4",
          "FY2020 Q3",
          "FY2020 Q2",
          "FY2020 Q1",
          "FY2019 Q4",
          "FY2019 Q3",
          "FY2019 Q2",
          "FY2019 Q1",
          "FY2018 Q4",
          "FY2018 Q3",
          "FY2018 Q2",
          "FY2018 Q1"
         ],
         "xaxis": "x",
         "y": [
          1555,
          1616,
          1664,
          2279,
          1706,
          1676,
          1880,
          2171,
          2325,
          2033,
          1534,
          1428,
          1329,
          700
         ],
         "yaxis": "y"
        },
        {
         "alignmentgroup": "True",
         "hoverlabel": {
          "namelength": 0
         },
         "hovertemplate": "LABEL=Phone<br>INCIDENT_OPENED_FIS_QUARTER=%{x}<br>Count=%{y}",
         "legendgroup": "LABEL=Phone",
         "marker": {
          "color": "#FF6692"
         },
         "name": "LABEL=Phone",
         "offsetgroup": "LABEL=Phone",
         "orientation": "v",
         "showlegend": true,
         "textposition": "auto",
         "type": "bar",
         "x": [
          "FY2021 Q2",
          "FY2021 Q1",
          "FY2020 Q4",
          "FY2020 Q3",
          "FY2020 Q2",
          "FY2020 Q1",
          "FY2019 Q4",
          "FY2019 Q3",
          "FY2019 Q2",
          "FY2019 Q1",
          "FY2018 Q4",
          "FY2018 Q3",
          "FY2018 Q2",
          "FY2018 Q1"
         ],
         "xaxis": "x",
         "y": [
          1569,
          1874,
          1671,
          2375,
          2401,
          2956,
          3084,
          3654,
          3282,
          3538,
          3064,
          3400,
          3376,
          1333
         ],
         "yaxis": "y"
        },
        {
         "alignmentgroup": "True",
         "hoverlabel": {
          "namelength": 0
         },
         "hovertemplate": "LABEL=Monitoring<br>INCIDENT_OPENED_FIS_QUARTER=%{x}<br>Count=%{y}",
         "legendgroup": "LABEL=Monitoring",
         "marker": {
          "color": "#B6E880"
         },
         "name": "LABEL=Monitoring",
         "offsetgroup": "LABEL=Monitoring",
         "orientation": "v",
         "showlegend": true,
         "textposition": "auto",
         "type": "bar",
         "x": [
          "FY2021 Q2",
          "FY2021 Q1",
          "FY2020 Q4",
          "FY2020 Q3",
          "FY2020 Q2",
          "FY2020 Q1",
          "FY2019 Q4",
          "FY2019 Q3",
          "FY2019 Q2",
          "FY2019 Q1",
          "FY2018 Q4",
          "FY2018 Q3",
          "FY2018 Q2",
          "FY2018 Q1"
         ],
         "xaxis": "x",
         "y": [
          15,
          10,
          321,
          399,
          421,
          392,
          395,
          329,
          220,
          266,
          183,
          88,
          92,
          51
         ],
         "yaxis": "y"
        },
        {
         "alignmentgroup": "True",
         "hoverlabel": {
          "namelength": 0
         },
         "hovertemplate": "LABEL=Email<br>INCIDENT_OPENED_FIS_QUARTER=%{x}<br>Count=%{y}",
         "legendgroup": "LABEL=Email",
         "marker": {
          "color": "#FF97FF"
         },
         "name": "LABEL=Email",
         "offsetgroup": "LABEL=Email",
         "orientation": "v",
         "showlegend": true,
         "textposition": "auto",
         "type": "bar",
         "x": [
          "FY2021 Q2",
          "FY2021 Q1",
          "FY2020 Q4",
          "FY2020 Q3",
          "FY2020 Q2",
          "FY2020 Q1",
          "FY2019 Q4",
          "FY2019 Q3",
          "FY2019 Q2",
          "FY2019 Q1",
          "FY2018 Q4",
          "FY2018 Q3",
          "FY2018 Q2",
          "FY2018 Q1"
         ],
         "xaxis": "x",
         "y": [
          95,
          119,
          78,
          109,
          79,
          45,
          34,
          30,
          34,
          68,
          44,
          117,
          61,
          54
         ],
         "yaxis": "y"
        },
        {
         "alignmentgroup": "True",
         "hoverlabel": {
          "namelength": 0
         },
         "hovertemplate": "LABEL=Chat<br>INCIDENT_OPENED_FIS_QUARTER=%{x}<br>Count=%{y}",
         "legendgroup": "LABEL=Chat",
         "marker": {
          "color": "#FECB52"
         },
         "name": "LABEL=Chat",
         "offsetgroup": "LABEL=Chat",
         "orientation": "v",
         "showlegend": true,
         "textposition": "auto",
         "type": "bar",
         "x": [
          "FY2021 Q2",
          "FY2021 Q1",
          "FY2020 Q4",
          "FY2020 Q3",
          "FY2020 Q2",
          "FY2020 Q1",
          "FY2019 Q4",
          "FY2019 Q3",
          "FY2019 Q2",
          "FY2019 Q1",
          "FY2018 Q4",
          "FY2018 Q3",
          "FY2018 Q2",
          "FY2018 Q1"
         ],
         "xaxis": "x",
         "y": [
          378,
          430,
          359,
          274,
          123,
          80,
          100,
          132,
          138,
          250,
          414,
          500,
          492,
          208
         ],
         "yaxis": "y"
        },
        {
         "alignmentgroup": "True",
         "hoverlabel": {
          "namelength": 0
         },
         "hovertemplate": "LABEL=ServiceGrid<br>INCIDENT_OPENED_FIS_QUARTER=%{x}<br>Count=%{y}",
         "legendgroup": "LABEL=ServiceGrid",
         "marker": {
          "color": "#636efa"
         },
         "name": "LABEL=ServiceGrid",
         "offsetgroup": "LABEL=ServiceGrid",
         "orientation": "v",
         "showlegend": true,
         "textposition": "auto",
         "type": "bar",
         "x": [
          "FY2020 Q3",
          "FY2019 Q3",
          "FY2019 Q1",
          "FY2018 Q4"
         ],
         "xaxis": "x",
         "y": [
          3,
          1,
          1,
          1
         ],
         "yaxis": "y"
        }
       ],
       "layout": {
        "barmode": "relative",
        "height": 400,
        "legend": {
         "tracegroupgap": 0
        },
        "margin": {
         "t": 60
        },
        "template": {
         "data": {
          "bar": [
           {
            "error_x": {
             "color": "#2a3f5f"
            },
            "error_y": {
             "color": "#2a3f5f"
            },
            "marker": {
             "line": {
              "color": "#E5ECF6",
              "width": 0.5
             }
            },
            "type": "bar"
           }
          ],
          "barpolar": [
           {
            "marker": {
             "line": {
              "color": "#E5ECF6",
              "width": 0.5
             }
            },
            "type": "barpolar"
           }
          ],
          "carpet": [
           {
            "aaxis": {
             "endlinecolor": "#2a3f5f",
             "gridcolor": "white",
             "linecolor": "white",
             "minorgridcolor": "white",
             "startlinecolor": "#2a3f5f"
            },
            "baxis": {
             "endlinecolor": "#2a3f5f",
             "gridcolor": "white",
             "linecolor": "white",
             "minorgridcolor": "white",
             "startlinecolor": "#2a3f5f"
            },
            "type": "carpet"
           }
          ],
          "choropleth": [
           {
            "colorbar": {
             "outlinewidth": 0,
             "ticks": ""
            },
            "type": "choropleth"
           }
          ],
          "contour": [
           {
            "colorbar": {
             "outlinewidth": 0,
             "ticks": ""
            },
            "colorscale": [
             [
              0,
              "#0d0887"
             ],
             [
              0.1111111111111111,
              "#46039f"
             ],
             [
              0.2222222222222222,
              "#7201a8"
             ],
             [
              0.3333333333333333,
              "#9c179e"
             ],
             [
              0.4444444444444444,
              "#bd3786"
             ],
             [
              0.5555555555555556,
              "#d8576b"
             ],
             [
              0.6666666666666666,
              "#ed7953"
             ],
             [
              0.7777777777777778,
              "#fb9f3a"
             ],
             [
              0.8888888888888888,
              "#fdca26"
             ],
             [
              1,
              "#f0f921"
             ]
            ],
            "type": "contour"
           }
          ],
          "contourcarpet": [
           {
            "colorbar": {
             "outlinewidth": 0,
             "ticks": ""
            },
            "type": "contourcarpet"
           }
          ],
          "heatmap": [
           {
            "colorbar": {
             "outlinewidth": 0,
             "ticks": ""
            },
            "colorscale": [
             [
              0,
              "#0d0887"
             ],
             [
              0.1111111111111111,
              "#46039f"
             ],
             [
              0.2222222222222222,
              "#7201a8"
             ],
             [
              0.3333333333333333,
              "#9c179e"
             ],
             [
              0.4444444444444444,
              "#bd3786"
             ],
             [
              0.5555555555555556,
              "#d8576b"
             ],
             [
              0.6666666666666666,
              "#ed7953"
             ],
             [
              0.7777777777777778,
              "#fb9f3a"
             ],
             [
              0.8888888888888888,
              "#fdca26"
             ],
             [
              1,
              "#f0f921"
             ]
            ],
            "type": "heatmap"
           }
          ],
          "heatmapgl": [
           {
            "colorbar": {
             "outlinewidth": 0,
             "ticks": ""
            },
            "colorscale": [
             [
              0,
              "#0d0887"
             ],
             [
              0.1111111111111111,
              "#46039f"
             ],
             [
              0.2222222222222222,
              "#7201a8"
             ],
             [
              0.3333333333333333,
              "#9c179e"
             ],
             [
              0.4444444444444444,
              "#bd3786"
             ],
             [
              0.5555555555555556,
              "#d8576b"
             ],
             [
              0.6666666666666666,
              "#ed7953"
             ],
             [
              0.7777777777777778,
              "#fb9f3a"
             ],
             [
              0.8888888888888888,
              "#fdca26"
             ],
             [
              1,
              "#f0f921"
             ]
            ],
            "type": "heatmapgl"
           }
          ],
          "histogram": [
           {
            "marker": {
             "colorbar": {
              "outlinewidth": 0,
              "ticks": ""
             }
            },
            "type": "histogram"
           }
          ],
          "histogram2d": [
           {
            "colorbar": {
             "outlinewidth": 0,
             "ticks": ""
            },
            "colorscale": [
             [
              0,
              "#0d0887"
             ],
             [
              0.1111111111111111,
              "#46039f"
             ],
             [
              0.2222222222222222,
              "#7201a8"
             ],
             [
              0.3333333333333333,
              "#9c179e"
             ],
             [
              0.4444444444444444,
              "#bd3786"
             ],
             [
              0.5555555555555556,
              "#d8576b"
             ],
             [
              0.6666666666666666,
              "#ed7953"
             ],
             [
              0.7777777777777778,
              "#fb9f3a"
             ],
             [
              0.8888888888888888,
              "#fdca26"
             ],
             [
              1,
              "#f0f921"
             ]
            ],
            "type": "histogram2d"
           }
          ],
          "histogram2dcontour": [
           {
            "colorbar": {
             "outlinewidth": 0,
             "ticks": ""
            },
            "colorscale": [
             [
              0,
              "#0d0887"
             ],
             [
              0.1111111111111111,
              "#46039f"
             ],
             [
              0.2222222222222222,
              "#7201a8"
             ],
             [
              0.3333333333333333,
              "#9c179e"
             ],
             [
              0.4444444444444444,
              "#bd3786"
             ],
             [
              0.5555555555555556,
              "#d8576b"
             ],
             [
              0.6666666666666666,
              "#ed7953"
             ],
             [
              0.7777777777777778,
              "#fb9f3a"
             ],
             [
              0.8888888888888888,
              "#fdca26"
             ],
             [
              1,
              "#f0f921"
             ]
            ],
            "type": "histogram2dcontour"
           }
          ],
          "mesh3d": [
           {
            "colorbar": {
             "outlinewidth": 0,
             "ticks": ""
            },
            "type": "mesh3d"
           }
          ],
          "parcoords": [
           {
            "line": {
             "colorbar": {
              "outlinewidth": 0,
              "ticks": ""
             }
            },
            "type": "parcoords"
           }
          ],
          "scatter": [
           {
            "marker": {
             "colorbar": {
              "outlinewidth": 0,
              "ticks": ""
             }
            },
            "type": "scatter"
           }
          ],
          "scatter3d": [
           {
            "line": {
             "colorbar": {
              "outlinewidth": 0,
              "ticks": ""
             }
            },
            "marker": {
             "colorbar": {
              "outlinewidth": 0,
              "ticks": ""
             }
            },
            "type": "scatter3d"
           }
          ],
          "scattercarpet": [
           {
            "marker": {
             "colorbar": {
              "outlinewidth": 0,
              "ticks": ""
             }
            },
            "type": "scattercarpet"
           }
          ],
          "scattergeo": [
           {
            "marker": {
             "colorbar": {
              "outlinewidth": 0,
              "ticks": ""
             }
            },
            "type": "scattergeo"
           }
          ],
          "scattergl": [
           {
            "marker": {
             "colorbar": {
              "outlinewidth": 0,
              "ticks": ""
             }
            },
            "type": "scattergl"
           }
          ],
          "scattermapbox": [
           {
            "marker": {
             "colorbar": {
              "outlinewidth": 0,
              "ticks": ""
             }
            },
            "type": "scattermapbox"
           }
          ],
          "scatterpolar": [
           {
            "marker": {
             "colorbar": {
              "outlinewidth": 0,
              "ticks": ""
             }
            },
            "type": "scatterpolar"
           }
          ],
          "scatterpolargl": [
           {
            "marker": {
             "colorbar": {
              "outlinewidth": 0,
              "ticks": ""
             }
            },
            "type": "scatterpolargl"
           }
          ],
          "scatterternary": [
           {
            "marker": {
             "colorbar": {
              "outlinewidth": 0,
              "ticks": ""
             }
            },
            "type": "scatterternary"
           }
          ],
          "surface": [
           {
            "colorbar": {
             "outlinewidth": 0,
             "ticks": ""
            },
            "colorscale": [
             [
              0,
              "#0d0887"
             ],
             [
              0.1111111111111111,
              "#46039f"
             ],
             [
              0.2222222222222222,
              "#7201a8"
             ],
             [
              0.3333333333333333,
              "#9c179e"
             ],
             [
              0.4444444444444444,
              "#bd3786"
             ],
             [
              0.5555555555555556,
              "#d8576b"
             ],
             [
              0.6666666666666666,
              "#ed7953"
             ],
             [
              0.7777777777777778,
              "#fb9f3a"
             ],
             [
              0.8888888888888888,
              "#fdca26"
             ],
             [
              1,
              "#f0f921"
             ]
            ],
            "type": "surface"
           }
          ],
          "table": [
           {
            "cells": {
             "fill": {
              "color": "#EBF0F8"
             },
             "line": {
              "color": "white"
             }
            },
            "header": {
             "fill": {
              "color": "#C8D4E3"
             },
             "line": {
              "color": "white"
             }
            },
            "type": "table"
           }
          ]
         },
         "layout": {
          "annotationdefaults": {
           "arrowcolor": "#2a3f5f",
           "arrowhead": 0,
           "arrowwidth": 1
          },
          "colorscale": {
           "diverging": [
            [
             0,
             "#8e0152"
            ],
            [
             0.1,
             "#c51b7d"
            ],
            [
             0.2,
             "#de77ae"
            ],
            [
             0.3,
             "#f1b6da"
            ],
            [
             0.4,
             "#fde0ef"
            ],
            [
             0.5,
             "#f7f7f7"
            ],
            [
             0.6,
             "#e6f5d0"
            ],
            [
             0.7,
             "#b8e186"
            ],
            [
             0.8,
             "#7fbc41"
            ],
            [
             0.9,
             "#4d9221"
            ],
            [
             1,
             "#276419"
            ]
           ],
           "sequential": [
            [
             0,
             "#0d0887"
            ],
            [
             0.1111111111111111,
             "#46039f"
            ],
            [
             0.2222222222222222,
             "#7201a8"
            ],
            [
             0.3333333333333333,
             "#9c179e"
            ],
            [
             0.4444444444444444,
             "#bd3786"
            ],
            [
             0.5555555555555556,
             "#d8576b"
            ],
            [
             0.6666666666666666,
             "#ed7953"
            ],
            [
             0.7777777777777778,
             "#fb9f3a"
            ],
            [
             0.8888888888888888,
             "#fdca26"
            ],
            [
             1,
             "#f0f921"
            ]
           ],
           "sequentialminus": [
            [
             0,
             "#0d0887"
            ],
            [
             0.1111111111111111,
             "#46039f"
            ],
            [
             0.2222222222222222,
             "#7201a8"
            ],
            [
             0.3333333333333333,
             "#9c179e"
            ],
            [
             0.4444444444444444,
             "#bd3786"
            ],
            [
             0.5555555555555556,
             "#d8576b"
            ],
            [
             0.6666666666666666,
             "#ed7953"
            ],
            [
             0.7777777777777778,
             "#fb9f3a"
            ],
            [
             0.8888888888888888,
             "#fdca26"
            ],
            [
             1,
             "#f0f921"
            ]
           ]
          },
          "colorway": [
           "#636efa",
           "#EF553B",
           "#00cc96",
           "#ab63fa",
           "#FFA15A",
           "#19d3f3",
           "#FF6692",
           "#B6E880",
           "#FF97FF",
           "#FECB52"
          ],
          "font": {
           "color": "#2a3f5f"
          },
          "geo": {
           "bgcolor": "white",
           "lakecolor": "white",
           "landcolor": "#E5ECF6",
           "showlakes": true,
           "showland": true,
           "subunitcolor": "white"
          },
          "hoverlabel": {
           "align": "left"
          },
          "hovermode": "closest",
          "mapbox": {
           "style": "light"
          },
          "paper_bgcolor": "white",
          "plot_bgcolor": "#E5ECF6",
          "polar": {
           "angularaxis": {
            "gridcolor": "white",
            "linecolor": "white",
            "ticks": ""
           },
           "bgcolor": "#E5ECF6",
           "radialaxis": {
            "gridcolor": "white",
            "linecolor": "white",
            "ticks": ""
           }
          },
          "scene": {
           "xaxis": {
            "backgroundcolor": "#E5ECF6",
            "gridcolor": "white",
            "gridwidth": 2,
            "linecolor": "white",
            "showbackground": true,
            "ticks": "",
            "zerolinecolor": "white"
           },
           "yaxis": {
            "backgroundcolor": "#E5ECF6",
            "gridcolor": "white",
            "gridwidth": 2,
            "linecolor": "white",
            "showbackground": true,
            "ticks": "",
            "zerolinecolor": "white"
           },
           "zaxis": {
            "backgroundcolor": "#E5ECF6",
            "gridcolor": "white",
            "gridwidth": 2,
            "linecolor": "white",
            "showbackground": true,
            "ticks": "",
            "zerolinecolor": "white"
           }
          },
          "shapedefaults": {
           "line": {
            "color": "#2a3f5f"
           }
          },
          "ternary": {
           "aaxis": {
            "gridcolor": "white",
            "linecolor": "white",
            "ticks": ""
           },
           "baxis": {
            "gridcolor": "white",
            "linecolor": "white",
            "ticks": ""
           },
           "bgcolor": "#E5ECF6",
           "caxis": {
            "gridcolor": "white",
            "linecolor": "white",
            "ticks": ""
           }
          },
          "title": {
           "x": 0.05
          },
          "xaxis": {
           "automargin": true,
           "gridcolor": "white",
           "linecolor": "white",
           "ticks": "",
           "zerolinecolor": "white",
           "zerolinewidth": 2
          },
          "yaxis": {
           "automargin": true,
           "gridcolor": "white",
           "linecolor": "white",
           "ticks": "",
           "zerolinecolor": "white",
           "zerolinewidth": 2
          }
         }
        },
        "width": 1000,
        "xaxis": {
         "anchor": "y",
         "domain": [
          0,
          0.98
         ],
         "title": {
          "text": "INCIDENT_OPENED_FIS_QUARTER"
         }
        },
        "yaxis": {
         "anchor": "x",
         "domain": [
          0,
          1
         ],
         "title": {
          "text": "Count"
         }
        }
       }
      },
      "text/html": [
       "<div>\n",
       "        \n",
       "        \n",
       "            <div id=\"f1927fbe-8fc7-45ac-92f1-f401aa3dc8fe\" class=\"plotly-graph-div\" style=\"height:400px; width:1000px;\"></div>\n",
       "            <script type=\"text/javascript\">\n",
       "                require([\"plotly\"], function(Plotly) {\n",
       "                    window.PLOTLYENV=window.PLOTLYENV || {};\n",
       "                    \n",
       "                if (document.getElementById(\"f1927fbe-8fc7-45ac-92f1-f401aa3dc8fe\")) {\n",
       "                    Plotly.newPlot(\n",
       "                        'f1927fbe-8fc7-45ac-92f1-f401aa3dc8fe',\n",
       "                        [{\"alignmentgroup\": \"True\", \"hoverlabel\": {\"namelength\": 0}, \"hovertemplate\": \"LABEL=Web<br>INCIDENT_OPENED_FIS_QUARTER=%{x}<br>Count=%{y}\", \"legendgroup\": \"LABEL=Web\", \"marker\": {\"color\": \"#636efa\"}, \"name\": \"LABEL=Web\", \"offsetgroup\": \"LABEL=Web\", \"orientation\": \"v\", \"showlegend\": true, \"textposition\": \"auto\", \"type\": \"bar\", \"x\": [\"FY2021 Q2\", \"FY2021 Q1\", \"FY2020 Q4\", \"FY2020 Q3\", \"FY2020 Q2\", \"FY2020 Q1\", \"FY2019 Q4\", \"FY2019 Q3\", \"FY2019 Q2\", \"FY2019 Q1\", \"FY2018 Q4\", \"FY2018 Q3\", \"FY2018 Q2\", \"FY2018 Q1\"], \"xaxis\": \"x\", \"y\": [9, 14, 8, 19, 359, 494, 524, 784, 700, 521, 476, 556, 502, 140], \"yaxis\": \"y\"}, {\"alignmentgroup\": \"True\", \"hoverlabel\": {\"namelength\": 0}, \"hovertemplate\": \"LABEL=Walk-in<br>INCIDENT_OPENED_FIS_QUARTER=%{x}<br>Count=%{y}\", \"legendgroup\": \"LABEL=Walk-in\", \"marker\": {\"color\": \"#EF553B\"}, \"name\": \"LABEL=Walk-in\", \"offsetgroup\": \"LABEL=Walk-in\", \"orientation\": \"v\", \"showlegend\": true, \"textposition\": \"auto\", \"type\": \"bar\", \"x\": [\"FY2021 Q2\", \"FY2021 Q1\", \"FY2020 Q4\", \"FY2020 Q3\", \"FY2020 Q2\", \"FY2020 Q1\", \"FY2019 Q4\", \"FY2019 Q3\", \"FY2019 Q2\", \"FY2019 Q1\", \"FY2018 Q4\", \"FY2018 Q3\", \"FY2018 Q2\", \"FY2018 Q1\"], \"xaxis\": \"x\", \"y\": [154, 176, 139, 573, 812, 1006, 876, 662, 538, 605, 586, 891, 793, 252], \"yaxis\": \"y\"}, {\"alignmentgroup\": \"True\", \"hoverlabel\": {\"namelength\": 0}, \"hovertemplate\": \"LABEL=Service Request<br>INCIDENT_OPENED_FIS_QUARTER=%{x}<br>Count=%{y}\", \"legendgroup\": \"LABEL=Service Request\", \"marker\": {\"color\": \"#00cc96\"}, \"name\": \"LABEL=Service Request\", \"offsetgroup\": \"LABEL=Service Request\", \"orientation\": \"v\", \"showlegend\": true, \"textposition\": \"auto\", \"type\": \"bar\", \"x\": [\"FY2021 Q2\", \"FY2021 Q1\", \"FY2020 Q4\", \"FY2020 Q3\", \"FY2020 Q2\", \"FY2020 Q1\", \"FY2019 Q4\"], \"xaxis\": \"x\", \"y\": [11, 38, 19, 15, 34, 20, 19], \"yaxis\": \"y\"}, {\"alignmentgroup\": \"True\", \"hoverlabel\": {\"namelength\": 0}, \"hovertemplate\": \"LABEL=Self-Service<br>INCIDENT_OPENED_FIS_QUARTER=%{x}<br>Count=%{y}\", \"legendgroup\": \"LABEL=Self-Service\", \"marker\": {\"color\": \"#ab63fa\"}, \"name\": \"LABEL=Self-Service\", \"offsetgroup\": \"LABEL=Self-Service\", \"orientation\": \"v\", \"showlegend\": true, \"textposition\": \"auto\", \"type\": \"bar\", \"x\": [\"FY2021 Q2\", \"FY2021 Q1\", \"FY2020 Q4\", \"FY2020 Q3\", \"FY2020 Q2\", \"FY2020 Q1\", \"FY2019 Q4\", \"FY2019 Q3\", \"FY2019 Q2\", \"FY2019 Q1\", \"FY2018 Q4\", \"FY2018 Q3\", \"FY2018 Q2\", \"FY2018 Q1\"], \"xaxis\": \"x\", \"y\": [198, 291, 90, 16, 24, 27, 35, 32, 39, 28, 41, 30, 19, 8], \"yaxis\": \"y\"}, {\"alignmentgroup\": \"True\", \"hoverlabel\": {\"namelength\": 0}, \"hovertemplate\": \"LABEL=Scheduled<br>INCIDENT_OPENED_FIS_QUARTER=%{x}<br>Count=%{y}\", \"legendgroup\": \"LABEL=Scheduled\", \"marker\": {\"color\": \"#FFA15A\"}, \"name\": \"LABEL=Scheduled\", \"offsetgroup\": \"LABEL=Scheduled\", \"orientation\": \"v\", \"showlegend\": true, \"textposition\": \"auto\", \"type\": \"bar\", \"x\": [\"FY2021 Q2\", \"FY2021 Q1\", \"FY2020 Q4\", \"FY2020 Q3\", \"FY2020 Q2\", \"FY2020 Q1\", \"FY2019 Q4\", \"FY2019 Q3\", \"FY2019 Q2\", \"FY2019 Q1\", \"FY2018 Q4\", \"FY2018 Q3\", \"FY2018 Q2\", \"FY2018 Q1\"], \"xaxis\": \"x\", \"y\": [14, 16, 22, 13, 5, 25, 38, 17, 30, 67, 125, 155, 114, 69], \"yaxis\": \"y\"}, {\"alignmentgroup\": \"True\", \"hoverlabel\": {\"namelength\": 0}, \"hovertemplate\": \"LABEL=Portal<br>INCIDENT_OPENED_FIS_QUARTER=%{x}<br>Count=%{y}\", \"legendgroup\": \"LABEL=Portal\", \"marker\": {\"color\": \"#19d3f3\"}, \"name\": \"LABEL=Portal\", \"offsetgroup\": \"LABEL=Portal\", \"orientation\": \"v\", \"showlegend\": true, \"textposition\": \"auto\", \"type\": \"bar\", \"x\": [\"FY2021 Q2\", \"FY2021 Q1\", \"FY2020 Q4\", \"FY2020 Q3\", \"FY2020 Q2\", \"FY2020 Q1\", \"FY2019 Q4\", \"FY2019 Q3\", \"FY2019 Q2\", \"FY2019 Q1\", \"FY2018 Q4\", \"FY2018 Q3\", \"FY2018 Q2\", \"FY2018 Q1\"], \"xaxis\": \"x\", \"y\": [1555, 1616, 1664, 2279, 1706, 1676, 1880, 2171, 2325, 2033, 1534, 1428, 1329, 700], \"yaxis\": \"y\"}, {\"alignmentgroup\": \"True\", \"hoverlabel\": {\"namelength\": 0}, \"hovertemplate\": \"LABEL=Phone<br>INCIDENT_OPENED_FIS_QUARTER=%{x}<br>Count=%{y}\", \"legendgroup\": \"LABEL=Phone\", \"marker\": {\"color\": \"#FF6692\"}, \"name\": \"LABEL=Phone\", \"offsetgroup\": \"LABEL=Phone\", \"orientation\": \"v\", \"showlegend\": true, \"textposition\": \"auto\", \"type\": \"bar\", \"x\": [\"FY2021 Q2\", \"FY2021 Q1\", \"FY2020 Q4\", \"FY2020 Q3\", \"FY2020 Q2\", \"FY2020 Q1\", \"FY2019 Q4\", \"FY2019 Q3\", \"FY2019 Q2\", \"FY2019 Q1\", \"FY2018 Q4\", \"FY2018 Q3\", \"FY2018 Q2\", \"FY2018 Q1\"], \"xaxis\": \"x\", \"y\": [1569, 1874, 1671, 2375, 2401, 2956, 3084, 3654, 3282, 3538, 3064, 3400, 3376, 1333], \"yaxis\": \"y\"}, {\"alignmentgroup\": \"True\", \"hoverlabel\": {\"namelength\": 0}, \"hovertemplate\": \"LABEL=Monitoring<br>INCIDENT_OPENED_FIS_QUARTER=%{x}<br>Count=%{y}\", \"legendgroup\": \"LABEL=Monitoring\", \"marker\": {\"color\": \"#B6E880\"}, \"name\": \"LABEL=Monitoring\", \"offsetgroup\": \"LABEL=Monitoring\", \"orientation\": \"v\", \"showlegend\": true, \"textposition\": \"auto\", \"type\": \"bar\", \"x\": [\"FY2021 Q2\", \"FY2021 Q1\", \"FY2020 Q4\", \"FY2020 Q3\", \"FY2020 Q2\", \"FY2020 Q1\", \"FY2019 Q4\", \"FY2019 Q3\", \"FY2019 Q2\", \"FY2019 Q1\", \"FY2018 Q4\", \"FY2018 Q3\", \"FY2018 Q2\", \"FY2018 Q1\"], \"xaxis\": \"x\", \"y\": [15, 10, 321, 399, 421, 392, 395, 329, 220, 266, 183, 88, 92, 51], \"yaxis\": \"y\"}, {\"alignmentgroup\": \"True\", \"hoverlabel\": {\"namelength\": 0}, \"hovertemplate\": \"LABEL=Email<br>INCIDENT_OPENED_FIS_QUARTER=%{x}<br>Count=%{y}\", \"legendgroup\": \"LABEL=Email\", \"marker\": {\"color\": \"#FF97FF\"}, \"name\": \"LABEL=Email\", \"offsetgroup\": \"LABEL=Email\", \"orientation\": \"v\", \"showlegend\": true, \"textposition\": \"auto\", \"type\": \"bar\", \"x\": [\"FY2021 Q2\", \"FY2021 Q1\", \"FY2020 Q4\", \"FY2020 Q3\", \"FY2020 Q2\", \"FY2020 Q1\", \"FY2019 Q4\", \"FY2019 Q3\", \"FY2019 Q2\", \"FY2019 Q1\", \"FY2018 Q4\", \"FY2018 Q3\", \"FY2018 Q2\", \"FY2018 Q1\"], \"xaxis\": \"x\", \"y\": [95, 119, 78, 109, 79, 45, 34, 30, 34, 68, 44, 117, 61, 54], \"yaxis\": \"y\"}, {\"alignmentgroup\": \"True\", \"hoverlabel\": {\"namelength\": 0}, \"hovertemplate\": \"LABEL=Chat<br>INCIDENT_OPENED_FIS_QUARTER=%{x}<br>Count=%{y}\", \"legendgroup\": \"LABEL=Chat\", \"marker\": {\"color\": \"#FECB52\"}, \"name\": \"LABEL=Chat\", \"offsetgroup\": \"LABEL=Chat\", \"orientation\": \"v\", \"showlegend\": true, \"textposition\": \"auto\", \"type\": \"bar\", \"x\": [\"FY2021 Q2\", \"FY2021 Q1\", \"FY2020 Q4\", \"FY2020 Q3\", \"FY2020 Q2\", \"FY2020 Q1\", \"FY2019 Q4\", \"FY2019 Q3\", \"FY2019 Q2\", \"FY2019 Q1\", \"FY2018 Q4\", \"FY2018 Q3\", \"FY2018 Q2\", \"FY2018 Q1\"], \"xaxis\": \"x\", \"y\": [378, 430, 359, 274, 123, 80, 100, 132, 138, 250, 414, 500, 492, 208], \"yaxis\": \"y\"}, {\"alignmentgroup\": \"True\", \"hoverlabel\": {\"namelength\": 0}, \"hovertemplate\": \"LABEL=ServiceGrid<br>INCIDENT_OPENED_FIS_QUARTER=%{x}<br>Count=%{y}\", \"legendgroup\": \"LABEL=ServiceGrid\", \"marker\": {\"color\": \"#636efa\"}, \"name\": \"LABEL=ServiceGrid\", \"offsetgroup\": \"LABEL=ServiceGrid\", \"orientation\": \"v\", \"showlegend\": true, \"textposition\": \"auto\", \"type\": \"bar\", \"x\": [\"FY2020 Q3\", \"FY2019 Q3\", \"FY2019 Q1\", \"FY2018 Q4\"], \"xaxis\": \"x\", \"y\": [3, 1, 1, 1], \"yaxis\": \"y\"}],\n",
       "                        {\"barmode\": \"relative\", \"height\": 400, \"legend\": {\"tracegroupgap\": 0}, \"margin\": {\"t\": 60}, \"template\": {\"data\": {\"bar\": [{\"error_x\": {\"color\": \"#2a3f5f\"}, \"error_y\": {\"color\": \"#2a3f5f\"}, \"marker\": {\"line\": {\"color\": \"#E5ECF6\", \"width\": 0.5}}, \"type\": \"bar\"}], \"barpolar\": [{\"marker\": {\"line\": {\"color\": \"#E5ECF6\", \"width\": 0.5}}, \"type\": \"barpolar\"}], \"carpet\": [{\"aaxis\": {\"endlinecolor\": \"#2a3f5f\", \"gridcolor\": \"white\", \"linecolor\": \"white\", \"minorgridcolor\": \"white\", \"startlinecolor\": \"#2a3f5f\"}, \"baxis\": {\"endlinecolor\": \"#2a3f5f\", \"gridcolor\": \"white\", \"linecolor\": \"white\", \"minorgridcolor\": \"white\", \"startlinecolor\": \"#2a3f5f\"}, \"type\": \"carpet\"}], \"choropleth\": [{\"colorbar\": {\"outlinewidth\": 0, \"ticks\": \"\"}, \"type\": \"choropleth\"}], \"contour\": [{\"colorbar\": {\"outlinewidth\": 0, \"ticks\": \"\"}, \"colorscale\": [[0.0, \"#0d0887\"], [0.1111111111111111, \"#46039f\"], [0.2222222222222222, \"#7201a8\"], [0.3333333333333333, \"#9c179e\"], [0.4444444444444444, \"#bd3786\"], [0.5555555555555556, \"#d8576b\"], [0.6666666666666666, \"#ed7953\"], [0.7777777777777778, \"#fb9f3a\"], [0.8888888888888888, \"#fdca26\"], [1.0, \"#f0f921\"]], \"type\": \"contour\"}], \"contourcarpet\": [{\"colorbar\": {\"outlinewidth\": 0, \"ticks\": \"\"}, \"type\": \"contourcarpet\"}], \"heatmap\": [{\"colorbar\": {\"outlinewidth\": 0, \"ticks\": \"\"}, \"colorscale\": [[0.0, \"#0d0887\"], [0.1111111111111111, \"#46039f\"], [0.2222222222222222, \"#7201a8\"], [0.3333333333333333, \"#9c179e\"], [0.4444444444444444, \"#bd3786\"], [0.5555555555555556, \"#d8576b\"], [0.6666666666666666, \"#ed7953\"], [0.7777777777777778, \"#fb9f3a\"], [0.8888888888888888, \"#fdca26\"], [1.0, \"#f0f921\"]], \"type\": \"heatmap\"}], \"heatmapgl\": [{\"colorbar\": {\"outlinewidth\": 0, \"ticks\": \"\"}, \"colorscale\": [[0.0, \"#0d0887\"], [0.1111111111111111, \"#46039f\"], [0.2222222222222222, \"#7201a8\"], [0.3333333333333333, \"#9c179e\"], [0.4444444444444444, \"#bd3786\"], [0.5555555555555556, \"#d8576b\"], [0.6666666666666666, \"#ed7953\"], [0.7777777777777778, \"#fb9f3a\"], [0.8888888888888888, \"#fdca26\"], [1.0, \"#f0f921\"]], \"type\": \"heatmapgl\"}], \"histogram\": [{\"marker\": {\"colorbar\": {\"outlinewidth\": 0, \"ticks\": \"\"}}, \"type\": \"histogram\"}], \"histogram2d\": [{\"colorbar\": {\"outlinewidth\": 0, \"ticks\": \"\"}, \"colorscale\": [[0.0, \"#0d0887\"], [0.1111111111111111, \"#46039f\"], [0.2222222222222222, \"#7201a8\"], [0.3333333333333333, \"#9c179e\"], [0.4444444444444444, \"#bd3786\"], [0.5555555555555556, \"#d8576b\"], [0.6666666666666666, \"#ed7953\"], [0.7777777777777778, \"#fb9f3a\"], [0.8888888888888888, \"#fdca26\"], [1.0, \"#f0f921\"]], \"type\": \"histogram2d\"}], \"histogram2dcontour\": [{\"colorbar\": {\"outlinewidth\": 0, \"ticks\": \"\"}, \"colorscale\": [[0.0, \"#0d0887\"], [0.1111111111111111, \"#46039f\"], [0.2222222222222222, \"#7201a8\"], [0.3333333333333333, \"#9c179e\"], [0.4444444444444444, \"#bd3786\"], [0.5555555555555556, \"#d8576b\"], [0.6666666666666666, \"#ed7953\"], [0.7777777777777778, \"#fb9f3a\"], [0.8888888888888888, \"#fdca26\"], [1.0, \"#f0f921\"]], \"type\": \"histogram2dcontour\"}], \"mesh3d\": [{\"colorbar\": {\"outlinewidth\": 0, \"ticks\": \"\"}, \"type\": \"mesh3d\"}], \"parcoords\": [{\"line\": {\"colorbar\": {\"outlinewidth\": 0, \"ticks\": \"\"}}, \"type\": \"parcoords\"}], \"scatter\": [{\"marker\": {\"colorbar\": {\"outlinewidth\": 0, \"ticks\": \"\"}}, \"type\": \"scatter\"}], \"scatter3d\": [{\"line\": {\"colorbar\": {\"outlinewidth\": 0, \"ticks\": \"\"}}, \"marker\": {\"colorbar\": {\"outlinewidth\": 0, \"ticks\": \"\"}}, \"type\": \"scatter3d\"}], \"scattercarpet\": [{\"marker\": {\"colorbar\": {\"outlinewidth\": 0, \"ticks\": \"\"}}, \"type\": \"scattercarpet\"}], \"scattergeo\": [{\"marker\": {\"colorbar\": {\"outlinewidth\": 0, \"ticks\": \"\"}}, \"type\": \"scattergeo\"}], \"scattergl\": [{\"marker\": {\"colorbar\": {\"outlinewidth\": 0, \"ticks\": \"\"}}, \"type\": \"scattergl\"}], \"scattermapbox\": [{\"marker\": {\"colorbar\": {\"outlinewidth\": 0, \"ticks\": \"\"}}, \"type\": \"scattermapbox\"}], \"scatterpolar\": [{\"marker\": {\"colorbar\": {\"outlinewidth\": 0, \"ticks\": \"\"}}, \"type\": \"scatterpolar\"}], \"scatterpolargl\": [{\"marker\": {\"colorbar\": {\"outlinewidth\": 0, \"ticks\": \"\"}}, \"type\": \"scatterpolargl\"}], \"scatterternary\": [{\"marker\": {\"colorbar\": {\"outlinewidth\": 0, \"ticks\": \"\"}}, \"type\": \"scatterternary\"}], \"surface\": [{\"colorbar\": {\"outlinewidth\": 0, \"ticks\": \"\"}, \"colorscale\": [[0.0, \"#0d0887\"], [0.1111111111111111, \"#46039f\"], [0.2222222222222222, \"#7201a8\"], [0.3333333333333333, \"#9c179e\"], [0.4444444444444444, \"#bd3786\"], [0.5555555555555556, \"#d8576b\"], [0.6666666666666666, \"#ed7953\"], [0.7777777777777778, \"#fb9f3a\"], [0.8888888888888888, \"#fdca26\"], [1.0, \"#f0f921\"]], \"type\": \"surface\"}], \"table\": [{\"cells\": {\"fill\": {\"color\": \"#EBF0F8\"}, \"line\": {\"color\": \"white\"}}, \"header\": {\"fill\": {\"color\": \"#C8D4E3\"}, \"line\": {\"color\": \"white\"}}, \"type\": \"table\"}]}, \"layout\": {\"annotationdefaults\": {\"arrowcolor\": \"#2a3f5f\", \"arrowhead\": 0, \"arrowwidth\": 1}, \"colorscale\": {\"diverging\": [[0, \"#8e0152\"], [0.1, \"#c51b7d\"], [0.2, \"#de77ae\"], [0.3, \"#f1b6da\"], [0.4, \"#fde0ef\"], [0.5, \"#f7f7f7\"], [0.6, \"#e6f5d0\"], [0.7, \"#b8e186\"], [0.8, \"#7fbc41\"], [0.9, \"#4d9221\"], [1, \"#276419\"]], \"sequential\": [[0.0, \"#0d0887\"], [0.1111111111111111, \"#46039f\"], [0.2222222222222222, \"#7201a8\"], [0.3333333333333333, \"#9c179e\"], [0.4444444444444444, \"#bd3786\"], [0.5555555555555556, \"#d8576b\"], [0.6666666666666666, \"#ed7953\"], [0.7777777777777778, \"#fb9f3a\"], [0.8888888888888888, \"#fdca26\"], [1.0, \"#f0f921\"]], \"sequentialminus\": [[0.0, \"#0d0887\"], [0.1111111111111111, \"#46039f\"], [0.2222222222222222, \"#7201a8\"], [0.3333333333333333, \"#9c179e\"], [0.4444444444444444, \"#bd3786\"], [0.5555555555555556, \"#d8576b\"], [0.6666666666666666, \"#ed7953\"], [0.7777777777777778, \"#fb9f3a\"], [0.8888888888888888, \"#fdca26\"], [1.0, \"#f0f921\"]]}, \"colorway\": [\"#636efa\", \"#EF553B\", \"#00cc96\", \"#ab63fa\", \"#FFA15A\", \"#19d3f3\", \"#FF6692\", \"#B6E880\", \"#FF97FF\", \"#FECB52\"], \"font\": {\"color\": \"#2a3f5f\"}, \"geo\": {\"bgcolor\": \"white\", \"lakecolor\": \"white\", \"landcolor\": \"#E5ECF6\", \"showlakes\": true, \"showland\": true, \"subunitcolor\": \"white\"}, \"hoverlabel\": {\"align\": \"left\"}, \"hovermode\": \"closest\", \"mapbox\": {\"style\": \"light\"}, \"paper_bgcolor\": \"white\", \"plot_bgcolor\": \"#E5ECF6\", \"polar\": {\"angularaxis\": {\"gridcolor\": \"white\", \"linecolor\": \"white\", \"ticks\": \"\"}, \"bgcolor\": \"#E5ECF6\", \"radialaxis\": {\"gridcolor\": \"white\", \"linecolor\": \"white\", \"ticks\": \"\"}}, \"scene\": {\"xaxis\": {\"backgroundcolor\": \"#E5ECF6\", \"gridcolor\": \"white\", \"gridwidth\": 2, \"linecolor\": \"white\", \"showbackground\": true, \"ticks\": \"\", \"zerolinecolor\": \"white\"}, \"yaxis\": {\"backgroundcolor\": \"#E5ECF6\", \"gridcolor\": \"white\", \"gridwidth\": 2, \"linecolor\": \"white\", \"showbackground\": true, \"ticks\": \"\", \"zerolinecolor\": \"white\"}, \"zaxis\": {\"backgroundcolor\": \"#E5ECF6\", \"gridcolor\": \"white\", \"gridwidth\": 2, \"linecolor\": \"white\", \"showbackground\": true, \"ticks\": \"\", \"zerolinecolor\": \"white\"}}, \"shapedefaults\": {\"line\": {\"color\": \"#2a3f5f\"}}, \"ternary\": {\"aaxis\": {\"gridcolor\": \"white\", \"linecolor\": \"white\", \"ticks\": \"\"}, \"baxis\": {\"gridcolor\": \"white\", \"linecolor\": \"white\", \"ticks\": \"\"}, \"bgcolor\": \"#E5ECF6\", \"caxis\": {\"gridcolor\": \"white\", \"linecolor\": \"white\", \"ticks\": \"\"}}, \"title\": {\"x\": 0.05}, \"xaxis\": {\"automargin\": true, \"gridcolor\": \"white\", \"linecolor\": \"white\", \"ticks\": \"\", \"zerolinecolor\": \"white\", \"zerolinewidth\": 2}, \"yaxis\": {\"automargin\": true, \"gridcolor\": \"white\", \"linecolor\": \"white\", \"ticks\": \"\", \"zerolinecolor\": \"white\", \"zerolinewidth\": 2}}}, \"width\": 1000, \"xaxis\": {\"anchor\": \"y\", \"domain\": [0.0, 0.98], \"title\": {\"text\": \"INCIDENT_OPENED_FIS_QUARTER\"}}, \"yaxis\": {\"anchor\": \"x\", \"domain\": [0.0, 1.0], \"title\": {\"text\": \"Count\"}}},\n",
       "                        {\"responsive\": true}\n",
       "                    ).then(function(){\n",
       "                            \n",
       "var gd = document.getElementById('f1927fbe-8fc7-45ac-92f1-f401aa3dc8fe');\n",
       "var x = new MutationObserver(function (mutations, observer) {{\n",
       "        var display = window.getComputedStyle(gd).display;\n",
       "        if (!display || display === 'none') {{\n",
       "            console.log([gd, 'removed!']);\n",
       "            Plotly.purge(gd);\n",
       "            observer.disconnect();\n",
       "        }}\n",
       "}});\n",
       "\n",
       "// Listen for the removal of the full notebook cells\n",
       "var notebookContainer = gd.closest('#notebook-container');\n",
       "if (notebookContainer) {{\n",
       "    x.observe(notebookContainer, {childList: true});\n",
       "}}\n",
       "\n",
       "// Listen for the clearing of the current output cell\n",
       "var outputEl = gd.closest('.output');\n",
       "if (outputEl) {{\n",
       "    x.observe(outputEl, {childList: true});\n",
       "}}\n",
       "\n",
       "                        })\n",
       "                };\n",
       "                });\n",
       "            </script>\n",
       "        </div>"
      ]
     },
     "metadata": {},
     "output_type": "display_data"
    }
   ],
   "source": [
    "import plotly.express as px\n",
    "\n",
    "fig = px.bar(dnew, x=\"INCIDENT_OPENED_FIS_QUARTER\", y=\"Count\", color='LABEL'\n",
    "             #,\n",
    "              #title='Alerts with Elvis policy distribution',\n",
    "             , width=1000,height=400\n",
    "               )  \n",
    "    \n",
    " \n",
    "#fig.update_xaxes(matches=None, showticklabels=True, visible=True)\n",
    "fig.show()"
   ]
  },
  {
   "cell_type": "code",
   "execution_count": 16,
   "metadata": {},
   "outputs": [
    {
     "data": {
      "text/plain": [
       "Error              24537\n",
       "Access             21565\n",
       "Service Request    19733\n",
       "Service/Process     9915\n",
       "Performance         8233\n",
       "Name: INCIDENT_CATEGORY, dtype: int64"
      ]
     },
     "execution_count": 16,
     "metadata": {},
     "output_type": "execute_result"
    }
   ],
   "source": [
    "data.INCIDENT_CATEGORY.value_counts()"
   ]
  },
  {
   "cell_type": "code",
   "execution_count": 20,
   "metadata": {},
   "outputs": [],
   "source": [
    "#data.INCIDENT_CATEGORY.value_counts().iplot('bar')\n",
    "dnew = data.groupby(['INCIDENT_OPENED_FIS_QUARTER','INCIDENT_CATEGORY']).size().reset_index(name=\"Count\")\n"
   ]
  },
  {
   "cell_type": "markdown",
   "metadata": {},
   "source": [
    "#### Service request related cases have gone down if we see below graph"
   ]
  },
  {
   "cell_type": "code",
   "execution_count": 22,
   "metadata": {},
   "outputs": [
    {
     "data": {
      "application/vnd.plotly.v1+json": {
       "config": {
        "plotlyServerURL": "https://plot.ly"
       },
       "data": [
        {
         "alignmentgroup": "True",
         "hoverlabel": {
          "namelength": 0
         },
         "hovertemplate": "INCIDENT_CATEGORY=Access<br>INCIDENT_OPENED_FIS_QUARTER=%{x}<br>Count=%{y}",
         "legendgroup": "INCIDENT_CATEGORY=Access",
         "marker": {
          "color": "#636efa"
         },
         "name": "INCIDENT_CATEGORY=Access",
         "offsetgroup": "INCIDENT_CATEGORY=Access",
         "orientation": "v",
         "showlegend": true,
         "textposition": "auto",
         "type": "bar",
         "x": [
          "FY2018 Q1",
          "FY2018 Q2",
          "FY2018 Q3",
          "FY2018 Q4",
          "FY2019 Q1",
          "FY2019 Q2",
          "FY2019 Q3",
          "FY2019 Q4",
          "FY2020 Q1",
          "FY2020 Q2",
          "FY2020 Q3",
          "FY2020 Q4",
          "FY2021 Q1",
          "FY2021 Q2"
         ],
         "xaxis": "x",
         "y": [
          739,
          2336,
          2525,
          2154,
          2038,
          1934,
          2034,
          1658,
          1582,
          1229,
          1205,
          618,
          762,
          751
         ],
         "yaxis": "y"
        },
        {
         "alignmentgroup": "True",
         "hoverlabel": {
          "namelength": 0
         },
         "hovertemplate": "INCIDENT_CATEGORY=Error<br>INCIDENT_OPENED_FIS_QUARTER=%{x}<br>Count=%{y}",
         "legendgroup": "INCIDENT_CATEGORY=Error",
         "marker": {
          "color": "#EF553B"
         },
         "name": "INCIDENT_CATEGORY=Error",
         "offsetgroup": "INCIDENT_CATEGORY=Error",
         "orientation": "v",
         "showlegend": true,
         "textposition": "auto",
         "type": "bar",
         "x": [
          "FY2018 Q1",
          "FY2018 Q2",
          "FY2018 Q3",
          "FY2018 Q4",
          "FY2019 Q1",
          "FY2019 Q2",
          "FY2019 Q3",
          "FY2019 Q4",
          "FY2020 Q1",
          "FY2020 Q2",
          "FY2020 Q3",
          "FY2020 Q4",
          "FY2021 Q1",
          "FY2021 Q2"
         ],
         "xaxis": "x",
         "y": [
          918,
          2108,
          2414,
          2120,
          2335,
          2070,
          2333,
          1890,
          1772,
          1543,
          1724,
          1247,
          1183,
          880
         ],
         "yaxis": "y"
        },
        {
         "alignmentgroup": "True",
         "hoverlabel": {
          "namelength": 0
         },
         "hovertemplate": "INCIDENT_CATEGORY=Performance<br>INCIDENT_OPENED_FIS_QUARTER=%{x}<br>Count=%{y}",
         "legendgroup": "INCIDENT_CATEGORY=Performance",
         "marker": {
          "color": "#00cc96"
         },
         "name": "INCIDENT_CATEGORY=Performance",
         "offsetgroup": "INCIDENT_CATEGORY=Performance",
         "orientation": "v",
         "showlegend": true,
         "textposition": "auto",
         "type": "bar",
         "x": [
          "FY2018 Q1",
          "FY2018 Q2",
          "FY2018 Q3",
          "FY2018 Q4",
          "FY2019 Q1",
          "FY2019 Q2",
          "FY2019 Q3",
          "FY2019 Q4",
          "FY2020 Q1",
          "FY2020 Q2",
          "FY2020 Q3",
          "FY2020 Q4",
          "FY2021 Q1",
          "FY2021 Q2"
         ],
         "xaxis": "x",
         "y": [
          377,
          565,
          474,
          461,
          587,
          486,
          657,
          766,
          727,
          756,
          689,
          669,
          559,
          460
         ],
         "yaxis": "y"
        },
        {
         "alignmentgroup": "True",
         "hoverlabel": {
          "namelength": 0
         },
         "hovertemplate": "INCIDENT_CATEGORY=Service Request<br>INCIDENT_OPENED_FIS_QUARTER=%{x}<br>Count=%{y}",
         "legendgroup": "INCIDENT_CATEGORY=Service Request",
         "marker": {
          "color": "#ab63fa"
         },
         "name": "INCIDENT_CATEGORY=Service Request",
         "offsetgroup": "INCIDENT_CATEGORY=Service Request",
         "orientation": "v",
         "showlegend": true,
         "textposition": "auto",
         "type": "bar",
         "x": [
          "FY2018 Q1",
          "FY2018 Q2",
          "FY2018 Q3",
          "FY2018 Q4",
          "FY2019 Q1",
          "FY2019 Q2",
          "FY2019 Q3",
          "FY2019 Q4",
          "FY2020 Q1",
          "FY2020 Q2",
          "FY2020 Q3",
          "FY2020 Q4",
          "FY2021 Q1",
          "FY2021 Q2"
         ],
         "xaxis": "x",
         "y": [
          289,
          727,
          747,
          797,
          1511,
          1454,
          1779,
          1914,
          2012,
          1822,
          1972,
          1495,
          1748,
          1466
         ],
         "yaxis": "y"
        },
        {
         "alignmentgroup": "True",
         "hoverlabel": {
          "namelength": 0
         },
         "hovertemplate": "INCIDENT_CATEGORY=Service/Process<br>INCIDENT_OPENED_FIS_QUARTER=%{x}<br>Count=%{y}",
         "legendgroup": "INCIDENT_CATEGORY=Service/Process",
         "marker": {
          "color": "#FFA15A"
         },
         "name": "INCIDENT_CATEGORY=Service/Process",
         "offsetgroup": "INCIDENT_CATEGORY=Service/Process",
         "orientation": "v",
         "showlegend": true,
         "textposition": "auto",
         "type": "bar",
         "x": [
          "FY2018 Q1",
          "FY2018 Q2",
          "FY2018 Q3",
          "FY2018 Q4",
          "FY2019 Q1",
          "FY2019 Q2",
          "FY2019 Q3",
          "FY2019 Q4",
          "FY2020 Q1",
          "FY2020 Q2",
          "FY2020 Q3",
          "FY2020 Q4",
          "FY2021 Q1",
          "FY2021 Q2"
         ],
         "xaxis": "x",
         "y": [
          483,
          1032,
          976,
          917,
          887,
          1352,
          993,
          746,
          611,
          596,
          451,
          331,
          259,
          281
         ],
         "yaxis": "y"
        }
       ],
       "layout": {
        "barmode": "relative",
        "height": 400,
        "legend": {
         "tracegroupgap": 0
        },
        "margin": {
         "t": 60
        },
        "template": {
         "data": {
          "bar": [
           {
            "error_x": {
             "color": "#2a3f5f"
            },
            "error_y": {
             "color": "#2a3f5f"
            },
            "marker": {
             "line": {
              "color": "#E5ECF6",
              "width": 0.5
             }
            },
            "type": "bar"
           }
          ],
          "barpolar": [
           {
            "marker": {
             "line": {
              "color": "#E5ECF6",
              "width": 0.5
             }
            },
            "type": "barpolar"
           }
          ],
          "carpet": [
           {
            "aaxis": {
             "endlinecolor": "#2a3f5f",
             "gridcolor": "white",
             "linecolor": "white",
             "minorgridcolor": "white",
             "startlinecolor": "#2a3f5f"
            },
            "baxis": {
             "endlinecolor": "#2a3f5f",
             "gridcolor": "white",
             "linecolor": "white",
             "minorgridcolor": "white",
             "startlinecolor": "#2a3f5f"
            },
            "type": "carpet"
           }
          ],
          "choropleth": [
           {
            "colorbar": {
             "outlinewidth": 0,
             "ticks": ""
            },
            "type": "choropleth"
           }
          ],
          "contour": [
           {
            "colorbar": {
             "outlinewidth": 0,
             "ticks": ""
            },
            "colorscale": [
             [
              0,
              "#0d0887"
             ],
             [
              0.1111111111111111,
              "#46039f"
             ],
             [
              0.2222222222222222,
              "#7201a8"
             ],
             [
              0.3333333333333333,
              "#9c179e"
             ],
             [
              0.4444444444444444,
              "#bd3786"
             ],
             [
              0.5555555555555556,
              "#d8576b"
             ],
             [
              0.6666666666666666,
              "#ed7953"
             ],
             [
              0.7777777777777778,
              "#fb9f3a"
             ],
             [
              0.8888888888888888,
              "#fdca26"
             ],
             [
              1,
              "#f0f921"
             ]
            ],
            "type": "contour"
           }
          ],
          "contourcarpet": [
           {
            "colorbar": {
             "outlinewidth": 0,
             "ticks": ""
            },
            "type": "contourcarpet"
           }
          ],
          "heatmap": [
           {
            "colorbar": {
             "outlinewidth": 0,
             "ticks": ""
            },
            "colorscale": [
             [
              0,
              "#0d0887"
             ],
             [
              0.1111111111111111,
              "#46039f"
             ],
             [
              0.2222222222222222,
              "#7201a8"
             ],
             [
              0.3333333333333333,
              "#9c179e"
             ],
             [
              0.4444444444444444,
              "#bd3786"
             ],
             [
              0.5555555555555556,
              "#d8576b"
             ],
             [
              0.6666666666666666,
              "#ed7953"
             ],
             [
              0.7777777777777778,
              "#fb9f3a"
             ],
             [
              0.8888888888888888,
              "#fdca26"
             ],
             [
              1,
              "#f0f921"
             ]
            ],
            "type": "heatmap"
           }
          ],
          "heatmapgl": [
           {
            "colorbar": {
             "outlinewidth": 0,
             "ticks": ""
            },
            "colorscale": [
             [
              0,
              "#0d0887"
             ],
             [
              0.1111111111111111,
              "#46039f"
             ],
             [
              0.2222222222222222,
              "#7201a8"
             ],
             [
              0.3333333333333333,
              "#9c179e"
             ],
             [
              0.4444444444444444,
              "#bd3786"
             ],
             [
              0.5555555555555556,
              "#d8576b"
             ],
             [
              0.6666666666666666,
              "#ed7953"
             ],
             [
              0.7777777777777778,
              "#fb9f3a"
             ],
             [
              0.8888888888888888,
              "#fdca26"
             ],
             [
              1,
              "#f0f921"
             ]
            ],
            "type": "heatmapgl"
           }
          ],
          "histogram": [
           {
            "marker": {
             "colorbar": {
              "outlinewidth": 0,
              "ticks": ""
             }
            },
            "type": "histogram"
           }
          ],
          "histogram2d": [
           {
            "colorbar": {
             "outlinewidth": 0,
             "ticks": ""
            },
            "colorscale": [
             [
              0,
              "#0d0887"
             ],
             [
              0.1111111111111111,
              "#46039f"
             ],
             [
              0.2222222222222222,
              "#7201a8"
             ],
             [
              0.3333333333333333,
              "#9c179e"
             ],
             [
              0.4444444444444444,
              "#bd3786"
             ],
             [
              0.5555555555555556,
              "#d8576b"
             ],
             [
              0.6666666666666666,
              "#ed7953"
             ],
             [
              0.7777777777777778,
              "#fb9f3a"
             ],
             [
              0.8888888888888888,
              "#fdca26"
             ],
             [
              1,
              "#f0f921"
             ]
            ],
            "type": "histogram2d"
           }
          ],
          "histogram2dcontour": [
           {
            "colorbar": {
             "outlinewidth": 0,
             "ticks": ""
            },
            "colorscale": [
             [
              0,
              "#0d0887"
             ],
             [
              0.1111111111111111,
              "#46039f"
             ],
             [
              0.2222222222222222,
              "#7201a8"
             ],
             [
              0.3333333333333333,
              "#9c179e"
             ],
             [
              0.4444444444444444,
              "#bd3786"
             ],
             [
              0.5555555555555556,
              "#d8576b"
             ],
             [
              0.6666666666666666,
              "#ed7953"
             ],
             [
              0.7777777777777778,
              "#fb9f3a"
             ],
             [
              0.8888888888888888,
              "#fdca26"
             ],
             [
              1,
              "#f0f921"
             ]
            ],
            "type": "histogram2dcontour"
           }
          ],
          "mesh3d": [
           {
            "colorbar": {
             "outlinewidth": 0,
             "ticks": ""
            },
            "type": "mesh3d"
           }
          ],
          "parcoords": [
           {
            "line": {
             "colorbar": {
              "outlinewidth": 0,
              "ticks": ""
             }
            },
            "type": "parcoords"
           }
          ],
          "scatter": [
           {
            "marker": {
             "colorbar": {
              "outlinewidth": 0,
              "ticks": ""
             }
            },
            "type": "scatter"
           }
          ],
          "scatter3d": [
           {
            "line": {
             "colorbar": {
              "outlinewidth": 0,
              "ticks": ""
             }
            },
            "marker": {
             "colorbar": {
              "outlinewidth": 0,
              "ticks": ""
             }
            },
            "type": "scatter3d"
           }
          ],
          "scattercarpet": [
           {
            "marker": {
             "colorbar": {
              "outlinewidth": 0,
              "ticks": ""
             }
            },
            "type": "scattercarpet"
           }
          ],
          "scattergeo": [
           {
            "marker": {
             "colorbar": {
              "outlinewidth": 0,
              "ticks": ""
             }
            },
            "type": "scattergeo"
           }
          ],
          "scattergl": [
           {
            "marker": {
             "colorbar": {
              "outlinewidth": 0,
              "ticks": ""
             }
            },
            "type": "scattergl"
           }
          ],
          "scattermapbox": [
           {
            "marker": {
             "colorbar": {
              "outlinewidth": 0,
              "ticks": ""
             }
            },
            "type": "scattermapbox"
           }
          ],
          "scatterpolar": [
           {
            "marker": {
             "colorbar": {
              "outlinewidth": 0,
              "ticks": ""
             }
            },
            "type": "scatterpolar"
           }
          ],
          "scatterpolargl": [
           {
            "marker": {
             "colorbar": {
              "outlinewidth": 0,
              "ticks": ""
             }
            },
            "type": "scatterpolargl"
           }
          ],
          "scatterternary": [
           {
            "marker": {
             "colorbar": {
              "outlinewidth": 0,
              "ticks": ""
             }
            },
            "type": "scatterternary"
           }
          ],
          "surface": [
           {
            "colorbar": {
             "outlinewidth": 0,
             "ticks": ""
            },
            "colorscale": [
             [
              0,
              "#0d0887"
             ],
             [
              0.1111111111111111,
              "#46039f"
             ],
             [
              0.2222222222222222,
              "#7201a8"
             ],
             [
              0.3333333333333333,
              "#9c179e"
             ],
             [
              0.4444444444444444,
              "#bd3786"
             ],
             [
              0.5555555555555556,
              "#d8576b"
             ],
             [
              0.6666666666666666,
              "#ed7953"
             ],
             [
              0.7777777777777778,
              "#fb9f3a"
             ],
             [
              0.8888888888888888,
              "#fdca26"
             ],
             [
              1,
              "#f0f921"
             ]
            ],
            "type": "surface"
           }
          ],
          "table": [
           {
            "cells": {
             "fill": {
              "color": "#EBF0F8"
             },
             "line": {
              "color": "white"
             }
            },
            "header": {
             "fill": {
              "color": "#C8D4E3"
             },
             "line": {
              "color": "white"
             }
            },
            "type": "table"
           }
          ]
         },
         "layout": {
          "annotationdefaults": {
           "arrowcolor": "#2a3f5f",
           "arrowhead": 0,
           "arrowwidth": 1
          },
          "colorscale": {
           "diverging": [
            [
             0,
             "#8e0152"
            ],
            [
             0.1,
             "#c51b7d"
            ],
            [
             0.2,
             "#de77ae"
            ],
            [
             0.3,
             "#f1b6da"
            ],
            [
             0.4,
             "#fde0ef"
            ],
            [
             0.5,
             "#f7f7f7"
            ],
            [
             0.6,
             "#e6f5d0"
            ],
            [
             0.7,
             "#b8e186"
            ],
            [
             0.8,
             "#7fbc41"
            ],
            [
             0.9,
             "#4d9221"
            ],
            [
             1,
             "#276419"
            ]
           ],
           "sequential": [
            [
             0,
             "#0d0887"
            ],
            [
             0.1111111111111111,
             "#46039f"
            ],
            [
             0.2222222222222222,
             "#7201a8"
            ],
            [
             0.3333333333333333,
             "#9c179e"
            ],
            [
             0.4444444444444444,
             "#bd3786"
            ],
            [
             0.5555555555555556,
             "#d8576b"
            ],
            [
             0.6666666666666666,
             "#ed7953"
            ],
            [
             0.7777777777777778,
             "#fb9f3a"
            ],
            [
             0.8888888888888888,
             "#fdca26"
            ],
            [
             1,
             "#f0f921"
            ]
           ],
           "sequentialminus": [
            [
             0,
             "#0d0887"
            ],
            [
             0.1111111111111111,
             "#46039f"
            ],
            [
             0.2222222222222222,
             "#7201a8"
            ],
            [
             0.3333333333333333,
             "#9c179e"
            ],
            [
             0.4444444444444444,
             "#bd3786"
            ],
            [
             0.5555555555555556,
             "#d8576b"
            ],
            [
             0.6666666666666666,
             "#ed7953"
            ],
            [
             0.7777777777777778,
             "#fb9f3a"
            ],
            [
             0.8888888888888888,
             "#fdca26"
            ],
            [
             1,
             "#f0f921"
            ]
           ]
          },
          "colorway": [
           "#636efa",
           "#EF553B",
           "#00cc96",
           "#ab63fa",
           "#FFA15A",
           "#19d3f3",
           "#FF6692",
           "#B6E880",
           "#FF97FF",
           "#FECB52"
          ],
          "font": {
           "color": "#2a3f5f"
          },
          "geo": {
           "bgcolor": "white",
           "lakecolor": "white",
           "landcolor": "#E5ECF6",
           "showlakes": true,
           "showland": true,
           "subunitcolor": "white"
          },
          "hoverlabel": {
           "align": "left"
          },
          "hovermode": "closest",
          "mapbox": {
           "style": "light"
          },
          "paper_bgcolor": "white",
          "plot_bgcolor": "#E5ECF6",
          "polar": {
           "angularaxis": {
            "gridcolor": "white",
            "linecolor": "white",
            "ticks": ""
           },
           "bgcolor": "#E5ECF6",
           "radialaxis": {
            "gridcolor": "white",
            "linecolor": "white",
            "ticks": ""
           }
          },
          "scene": {
           "xaxis": {
            "backgroundcolor": "#E5ECF6",
            "gridcolor": "white",
            "gridwidth": 2,
            "linecolor": "white",
            "showbackground": true,
            "ticks": "",
            "zerolinecolor": "white"
           },
           "yaxis": {
            "backgroundcolor": "#E5ECF6",
            "gridcolor": "white",
            "gridwidth": 2,
            "linecolor": "white",
            "showbackground": true,
            "ticks": "",
            "zerolinecolor": "white"
           },
           "zaxis": {
            "backgroundcolor": "#E5ECF6",
            "gridcolor": "white",
            "gridwidth": 2,
            "linecolor": "white",
            "showbackground": true,
            "ticks": "",
            "zerolinecolor": "white"
           }
          },
          "shapedefaults": {
           "line": {
            "color": "#2a3f5f"
           }
          },
          "ternary": {
           "aaxis": {
            "gridcolor": "white",
            "linecolor": "white",
            "ticks": ""
           },
           "baxis": {
            "gridcolor": "white",
            "linecolor": "white",
            "ticks": ""
           },
           "bgcolor": "#E5ECF6",
           "caxis": {
            "gridcolor": "white",
            "linecolor": "white",
            "ticks": ""
           }
          },
          "title": {
           "x": 0.05
          },
          "xaxis": {
           "automargin": true,
           "gridcolor": "white",
           "linecolor": "white",
           "ticks": "",
           "zerolinecolor": "white",
           "zerolinewidth": 2
          },
          "yaxis": {
           "automargin": true,
           "gridcolor": "white",
           "linecolor": "white",
           "ticks": "",
           "zerolinecolor": "white",
           "zerolinewidth": 2
          }
         }
        },
        "width": 1000,
        "xaxis": {
         "anchor": "y",
         "domain": [
          0,
          0.98
         ],
         "title": {
          "text": "INCIDENT_OPENED_FIS_QUARTER"
         }
        },
        "yaxis": {
         "anchor": "x",
         "domain": [
          0,
          1
         ],
         "title": {
          "text": "Count"
         }
        }
       }
      },
      "text/html": [
       "<div>\n",
       "        \n",
       "        \n",
       "            <div id=\"790daba9-0f02-4f10-89ef-2095de3d1616\" class=\"plotly-graph-div\" style=\"height:400px; width:1000px;\"></div>\n",
       "            <script type=\"text/javascript\">\n",
       "                require([\"plotly\"], function(Plotly) {\n",
       "                    window.PLOTLYENV=window.PLOTLYENV || {};\n",
       "                    \n",
       "                if (document.getElementById(\"790daba9-0f02-4f10-89ef-2095de3d1616\")) {\n",
       "                    Plotly.newPlot(\n",
       "                        '790daba9-0f02-4f10-89ef-2095de3d1616',\n",
       "                        [{\"alignmentgroup\": \"True\", \"hoverlabel\": {\"namelength\": 0}, \"hovertemplate\": \"INCIDENT_CATEGORY=Access<br>INCIDENT_OPENED_FIS_QUARTER=%{x}<br>Count=%{y}\", \"legendgroup\": \"INCIDENT_CATEGORY=Access\", \"marker\": {\"color\": \"#636efa\"}, \"name\": \"INCIDENT_CATEGORY=Access\", \"offsetgroup\": \"INCIDENT_CATEGORY=Access\", \"orientation\": \"v\", \"showlegend\": true, \"textposition\": \"auto\", \"type\": \"bar\", \"x\": [\"FY2018 Q1\", \"FY2018 Q2\", \"FY2018 Q3\", \"FY2018 Q4\", \"FY2019 Q1\", \"FY2019 Q2\", \"FY2019 Q3\", \"FY2019 Q4\", \"FY2020 Q1\", \"FY2020 Q2\", \"FY2020 Q3\", \"FY2020 Q4\", \"FY2021 Q1\", \"FY2021 Q2\"], \"xaxis\": \"x\", \"y\": [739, 2336, 2525, 2154, 2038, 1934, 2034, 1658, 1582, 1229, 1205, 618, 762, 751], \"yaxis\": \"y\"}, {\"alignmentgroup\": \"True\", \"hoverlabel\": {\"namelength\": 0}, \"hovertemplate\": \"INCIDENT_CATEGORY=Error<br>INCIDENT_OPENED_FIS_QUARTER=%{x}<br>Count=%{y}\", \"legendgroup\": \"INCIDENT_CATEGORY=Error\", \"marker\": {\"color\": \"#EF553B\"}, \"name\": \"INCIDENT_CATEGORY=Error\", \"offsetgroup\": \"INCIDENT_CATEGORY=Error\", \"orientation\": \"v\", \"showlegend\": true, \"textposition\": \"auto\", \"type\": \"bar\", \"x\": [\"FY2018 Q1\", \"FY2018 Q2\", \"FY2018 Q3\", \"FY2018 Q4\", \"FY2019 Q1\", \"FY2019 Q2\", \"FY2019 Q3\", \"FY2019 Q4\", \"FY2020 Q1\", \"FY2020 Q2\", \"FY2020 Q3\", \"FY2020 Q4\", \"FY2021 Q1\", \"FY2021 Q2\"], \"xaxis\": \"x\", \"y\": [918, 2108, 2414, 2120, 2335, 2070, 2333, 1890, 1772, 1543, 1724, 1247, 1183, 880], \"yaxis\": \"y\"}, {\"alignmentgroup\": \"True\", \"hoverlabel\": {\"namelength\": 0}, \"hovertemplate\": \"INCIDENT_CATEGORY=Performance<br>INCIDENT_OPENED_FIS_QUARTER=%{x}<br>Count=%{y}\", \"legendgroup\": \"INCIDENT_CATEGORY=Performance\", \"marker\": {\"color\": \"#00cc96\"}, \"name\": \"INCIDENT_CATEGORY=Performance\", \"offsetgroup\": \"INCIDENT_CATEGORY=Performance\", \"orientation\": \"v\", \"showlegend\": true, \"textposition\": \"auto\", \"type\": \"bar\", \"x\": [\"FY2018 Q1\", \"FY2018 Q2\", \"FY2018 Q3\", \"FY2018 Q4\", \"FY2019 Q1\", \"FY2019 Q2\", \"FY2019 Q3\", \"FY2019 Q4\", \"FY2020 Q1\", \"FY2020 Q2\", \"FY2020 Q3\", \"FY2020 Q4\", \"FY2021 Q1\", \"FY2021 Q2\"], \"xaxis\": \"x\", \"y\": [377, 565, 474, 461, 587, 486, 657, 766, 727, 756, 689, 669, 559, 460], \"yaxis\": \"y\"}, {\"alignmentgroup\": \"True\", \"hoverlabel\": {\"namelength\": 0}, \"hovertemplate\": \"INCIDENT_CATEGORY=Service Request<br>INCIDENT_OPENED_FIS_QUARTER=%{x}<br>Count=%{y}\", \"legendgroup\": \"INCIDENT_CATEGORY=Service Request\", \"marker\": {\"color\": \"#ab63fa\"}, \"name\": \"INCIDENT_CATEGORY=Service Request\", \"offsetgroup\": \"INCIDENT_CATEGORY=Service Request\", \"orientation\": \"v\", \"showlegend\": true, \"textposition\": \"auto\", \"type\": \"bar\", \"x\": [\"FY2018 Q1\", \"FY2018 Q2\", \"FY2018 Q3\", \"FY2018 Q4\", \"FY2019 Q1\", \"FY2019 Q2\", \"FY2019 Q3\", \"FY2019 Q4\", \"FY2020 Q1\", \"FY2020 Q2\", \"FY2020 Q3\", \"FY2020 Q4\", \"FY2021 Q1\", \"FY2021 Q2\"], \"xaxis\": \"x\", \"y\": [289, 727, 747, 797, 1511, 1454, 1779, 1914, 2012, 1822, 1972, 1495, 1748, 1466], \"yaxis\": \"y\"}, {\"alignmentgroup\": \"True\", \"hoverlabel\": {\"namelength\": 0}, \"hovertemplate\": \"INCIDENT_CATEGORY=Service/Process<br>INCIDENT_OPENED_FIS_QUARTER=%{x}<br>Count=%{y}\", \"legendgroup\": \"INCIDENT_CATEGORY=Service/Process\", \"marker\": {\"color\": \"#FFA15A\"}, \"name\": \"INCIDENT_CATEGORY=Service/Process\", \"offsetgroup\": \"INCIDENT_CATEGORY=Service/Process\", \"orientation\": \"v\", \"showlegend\": true, \"textposition\": \"auto\", \"type\": \"bar\", \"x\": [\"FY2018 Q1\", \"FY2018 Q2\", \"FY2018 Q3\", \"FY2018 Q4\", \"FY2019 Q1\", \"FY2019 Q2\", \"FY2019 Q3\", \"FY2019 Q4\", \"FY2020 Q1\", \"FY2020 Q2\", \"FY2020 Q3\", \"FY2020 Q4\", \"FY2021 Q1\", \"FY2021 Q2\"], \"xaxis\": \"x\", \"y\": [483, 1032, 976, 917, 887, 1352, 993, 746, 611, 596, 451, 331, 259, 281], \"yaxis\": \"y\"}],\n",
       "                        {\"barmode\": \"relative\", \"height\": 400, \"legend\": {\"tracegroupgap\": 0}, \"margin\": {\"t\": 60}, \"template\": {\"data\": {\"bar\": [{\"error_x\": {\"color\": \"#2a3f5f\"}, \"error_y\": {\"color\": \"#2a3f5f\"}, \"marker\": {\"line\": {\"color\": \"#E5ECF6\", \"width\": 0.5}}, \"type\": \"bar\"}], \"barpolar\": [{\"marker\": {\"line\": {\"color\": \"#E5ECF6\", \"width\": 0.5}}, \"type\": \"barpolar\"}], \"carpet\": [{\"aaxis\": {\"endlinecolor\": \"#2a3f5f\", \"gridcolor\": \"white\", \"linecolor\": \"white\", \"minorgridcolor\": \"white\", \"startlinecolor\": \"#2a3f5f\"}, \"baxis\": {\"endlinecolor\": \"#2a3f5f\", \"gridcolor\": \"white\", \"linecolor\": \"white\", \"minorgridcolor\": \"white\", \"startlinecolor\": \"#2a3f5f\"}, \"type\": \"carpet\"}], \"choropleth\": [{\"colorbar\": {\"outlinewidth\": 0, \"ticks\": \"\"}, \"type\": \"choropleth\"}], \"contour\": [{\"colorbar\": {\"outlinewidth\": 0, \"ticks\": \"\"}, \"colorscale\": [[0.0, \"#0d0887\"], [0.1111111111111111, \"#46039f\"], [0.2222222222222222, \"#7201a8\"], [0.3333333333333333, \"#9c179e\"], [0.4444444444444444, \"#bd3786\"], [0.5555555555555556, \"#d8576b\"], [0.6666666666666666, \"#ed7953\"], [0.7777777777777778, \"#fb9f3a\"], [0.8888888888888888, \"#fdca26\"], [1.0, \"#f0f921\"]], \"type\": \"contour\"}], \"contourcarpet\": [{\"colorbar\": {\"outlinewidth\": 0, \"ticks\": \"\"}, \"type\": \"contourcarpet\"}], \"heatmap\": [{\"colorbar\": {\"outlinewidth\": 0, \"ticks\": \"\"}, \"colorscale\": [[0.0, \"#0d0887\"], [0.1111111111111111, \"#46039f\"], [0.2222222222222222, \"#7201a8\"], [0.3333333333333333, \"#9c179e\"], [0.4444444444444444, \"#bd3786\"], [0.5555555555555556, \"#d8576b\"], [0.6666666666666666, \"#ed7953\"], [0.7777777777777778, \"#fb9f3a\"], [0.8888888888888888, \"#fdca26\"], [1.0, \"#f0f921\"]], \"type\": \"heatmap\"}], \"heatmapgl\": [{\"colorbar\": {\"outlinewidth\": 0, \"ticks\": \"\"}, \"colorscale\": [[0.0, \"#0d0887\"], [0.1111111111111111, \"#46039f\"], [0.2222222222222222, \"#7201a8\"], [0.3333333333333333, \"#9c179e\"], [0.4444444444444444, \"#bd3786\"], [0.5555555555555556, \"#d8576b\"], [0.6666666666666666, \"#ed7953\"], [0.7777777777777778, \"#fb9f3a\"], [0.8888888888888888, \"#fdca26\"], [1.0, \"#f0f921\"]], \"type\": \"heatmapgl\"}], \"histogram\": [{\"marker\": {\"colorbar\": {\"outlinewidth\": 0, \"ticks\": \"\"}}, \"type\": \"histogram\"}], \"histogram2d\": [{\"colorbar\": {\"outlinewidth\": 0, \"ticks\": \"\"}, \"colorscale\": [[0.0, \"#0d0887\"], [0.1111111111111111, \"#46039f\"], [0.2222222222222222, \"#7201a8\"], [0.3333333333333333, \"#9c179e\"], [0.4444444444444444, \"#bd3786\"], [0.5555555555555556, \"#d8576b\"], [0.6666666666666666, \"#ed7953\"], [0.7777777777777778, \"#fb9f3a\"], [0.8888888888888888, \"#fdca26\"], [1.0, \"#f0f921\"]], \"type\": \"histogram2d\"}], \"histogram2dcontour\": [{\"colorbar\": {\"outlinewidth\": 0, \"ticks\": \"\"}, \"colorscale\": [[0.0, \"#0d0887\"], [0.1111111111111111, \"#46039f\"], [0.2222222222222222, \"#7201a8\"], [0.3333333333333333, \"#9c179e\"], [0.4444444444444444, \"#bd3786\"], [0.5555555555555556, \"#d8576b\"], [0.6666666666666666, \"#ed7953\"], [0.7777777777777778, \"#fb9f3a\"], [0.8888888888888888, \"#fdca26\"], [1.0, \"#f0f921\"]], \"type\": \"histogram2dcontour\"}], \"mesh3d\": [{\"colorbar\": {\"outlinewidth\": 0, \"ticks\": \"\"}, \"type\": \"mesh3d\"}], \"parcoords\": [{\"line\": {\"colorbar\": {\"outlinewidth\": 0, \"ticks\": \"\"}}, \"type\": \"parcoords\"}], \"scatter\": [{\"marker\": {\"colorbar\": {\"outlinewidth\": 0, \"ticks\": \"\"}}, \"type\": \"scatter\"}], \"scatter3d\": [{\"line\": {\"colorbar\": {\"outlinewidth\": 0, \"ticks\": \"\"}}, \"marker\": {\"colorbar\": {\"outlinewidth\": 0, \"ticks\": \"\"}}, \"type\": \"scatter3d\"}], \"scattercarpet\": [{\"marker\": {\"colorbar\": {\"outlinewidth\": 0, \"ticks\": \"\"}}, \"type\": \"scattercarpet\"}], \"scattergeo\": [{\"marker\": {\"colorbar\": {\"outlinewidth\": 0, \"ticks\": \"\"}}, \"type\": \"scattergeo\"}], \"scattergl\": [{\"marker\": {\"colorbar\": {\"outlinewidth\": 0, \"ticks\": \"\"}}, \"type\": \"scattergl\"}], \"scattermapbox\": [{\"marker\": {\"colorbar\": {\"outlinewidth\": 0, \"ticks\": \"\"}}, \"type\": \"scattermapbox\"}], \"scatterpolar\": [{\"marker\": {\"colorbar\": {\"outlinewidth\": 0, \"ticks\": \"\"}}, \"type\": \"scatterpolar\"}], \"scatterpolargl\": [{\"marker\": {\"colorbar\": {\"outlinewidth\": 0, \"ticks\": \"\"}}, \"type\": \"scatterpolargl\"}], \"scatterternary\": [{\"marker\": {\"colorbar\": {\"outlinewidth\": 0, \"ticks\": \"\"}}, \"type\": \"scatterternary\"}], \"surface\": [{\"colorbar\": {\"outlinewidth\": 0, \"ticks\": \"\"}, \"colorscale\": [[0.0, \"#0d0887\"], [0.1111111111111111, \"#46039f\"], [0.2222222222222222, \"#7201a8\"], [0.3333333333333333, \"#9c179e\"], [0.4444444444444444, \"#bd3786\"], [0.5555555555555556, \"#d8576b\"], [0.6666666666666666, \"#ed7953\"], [0.7777777777777778, \"#fb9f3a\"], [0.8888888888888888, \"#fdca26\"], [1.0, \"#f0f921\"]], \"type\": \"surface\"}], \"table\": [{\"cells\": {\"fill\": {\"color\": \"#EBF0F8\"}, \"line\": {\"color\": \"white\"}}, \"header\": {\"fill\": {\"color\": \"#C8D4E3\"}, \"line\": {\"color\": \"white\"}}, \"type\": \"table\"}]}, \"layout\": {\"annotationdefaults\": {\"arrowcolor\": \"#2a3f5f\", \"arrowhead\": 0, \"arrowwidth\": 1}, \"colorscale\": {\"diverging\": [[0, \"#8e0152\"], [0.1, \"#c51b7d\"], [0.2, \"#de77ae\"], [0.3, \"#f1b6da\"], [0.4, \"#fde0ef\"], [0.5, \"#f7f7f7\"], [0.6, \"#e6f5d0\"], [0.7, \"#b8e186\"], [0.8, \"#7fbc41\"], [0.9, \"#4d9221\"], [1, \"#276419\"]], \"sequential\": [[0.0, \"#0d0887\"], [0.1111111111111111, \"#46039f\"], [0.2222222222222222, \"#7201a8\"], [0.3333333333333333, \"#9c179e\"], [0.4444444444444444, \"#bd3786\"], [0.5555555555555556, \"#d8576b\"], [0.6666666666666666, \"#ed7953\"], [0.7777777777777778, \"#fb9f3a\"], [0.8888888888888888, \"#fdca26\"], [1.0, \"#f0f921\"]], \"sequentialminus\": [[0.0, \"#0d0887\"], [0.1111111111111111, \"#46039f\"], [0.2222222222222222, \"#7201a8\"], [0.3333333333333333, \"#9c179e\"], [0.4444444444444444, \"#bd3786\"], [0.5555555555555556, \"#d8576b\"], [0.6666666666666666, \"#ed7953\"], [0.7777777777777778, \"#fb9f3a\"], [0.8888888888888888, \"#fdca26\"], [1.0, \"#f0f921\"]]}, \"colorway\": [\"#636efa\", \"#EF553B\", \"#00cc96\", \"#ab63fa\", \"#FFA15A\", \"#19d3f3\", \"#FF6692\", \"#B6E880\", \"#FF97FF\", \"#FECB52\"], \"font\": {\"color\": \"#2a3f5f\"}, \"geo\": {\"bgcolor\": \"white\", \"lakecolor\": \"white\", \"landcolor\": \"#E5ECF6\", \"showlakes\": true, \"showland\": true, \"subunitcolor\": \"white\"}, \"hoverlabel\": {\"align\": \"left\"}, \"hovermode\": \"closest\", \"mapbox\": {\"style\": \"light\"}, \"paper_bgcolor\": \"white\", \"plot_bgcolor\": \"#E5ECF6\", \"polar\": {\"angularaxis\": {\"gridcolor\": \"white\", \"linecolor\": \"white\", \"ticks\": \"\"}, \"bgcolor\": \"#E5ECF6\", \"radialaxis\": {\"gridcolor\": \"white\", \"linecolor\": \"white\", \"ticks\": \"\"}}, \"scene\": {\"xaxis\": {\"backgroundcolor\": \"#E5ECF6\", \"gridcolor\": \"white\", \"gridwidth\": 2, \"linecolor\": \"white\", \"showbackground\": true, \"ticks\": \"\", \"zerolinecolor\": \"white\"}, \"yaxis\": {\"backgroundcolor\": \"#E5ECF6\", \"gridcolor\": \"white\", \"gridwidth\": 2, \"linecolor\": \"white\", \"showbackground\": true, \"ticks\": \"\", \"zerolinecolor\": \"white\"}, \"zaxis\": {\"backgroundcolor\": \"#E5ECF6\", \"gridcolor\": \"white\", \"gridwidth\": 2, \"linecolor\": \"white\", \"showbackground\": true, \"ticks\": \"\", \"zerolinecolor\": \"white\"}}, \"shapedefaults\": {\"line\": {\"color\": \"#2a3f5f\"}}, \"ternary\": {\"aaxis\": {\"gridcolor\": \"white\", \"linecolor\": \"white\", \"ticks\": \"\"}, \"baxis\": {\"gridcolor\": \"white\", \"linecolor\": \"white\", \"ticks\": \"\"}, \"bgcolor\": \"#E5ECF6\", \"caxis\": {\"gridcolor\": \"white\", \"linecolor\": \"white\", \"ticks\": \"\"}}, \"title\": {\"x\": 0.05}, \"xaxis\": {\"automargin\": true, \"gridcolor\": \"white\", \"linecolor\": \"white\", \"ticks\": \"\", \"zerolinecolor\": \"white\", \"zerolinewidth\": 2}, \"yaxis\": {\"automargin\": true, \"gridcolor\": \"white\", \"linecolor\": \"white\", \"ticks\": \"\", \"zerolinecolor\": \"white\", \"zerolinewidth\": 2}}}, \"width\": 1000, \"xaxis\": {\"anchor\": \"y\", \"domain\": [0.0, 0.98], \"title\": {\"text\": \"INCIDENT_OPENED_FIS_QUARTER\"}}, \"yaxis\": {\"anchor\": \"x\", \"domain\": [0.0, 1.0], \"title\": {\"text\": \"Count\"}}},\n",
       "                        {\"responsive\": true}\n",
       "                    ).then(function(){\n",
       "                            \n",
       "var gd = document.getElementById('790daba9-0f02-4f10-89ef-2095de3d1616');\n",
       "var x = new MutationObserver(function (mutations, observer) {{\n",
       "        var display = window.getComputedStyle(gd).display;\n",
       "        if (!display || display === 'none') {{\n",
       "            console.log([gd, 'removed!']);\n",
       "            Plotly.purge(gd);\n",
       "            observer.disconnect();\n",
       "        }}\n",
       "}});\n",
       "\n",
       "// Listen for the removal of the full notebook cells\n",
       "var notebookContainer = gd.closest('#notebook-container');\n",
       "if (notebookContainer) {{\n",
       "    x.observe(notebookContainer, {childList: true});\n",
       "}}\n",
       "\n",
       "// Listen for the clearing of the current output cell\n",
       "var outputEl = gd.closest('.output');\n",
       "if (outputEl) {{\n",
       "    x.observe(outputEl, {childList: true});\n",
       "}}\n",
       "\n",
       "                        })\n",
       "                };\n",
       "                });\n",
       "            </script>\n",
       "        </div>"
      ]
     },
     "metadata": {},
     "output_type": "display_data"
    }
   ],
   "source": [
    "import plotly.express as px\n",
    "\n",
    "fig = px.bar(dnew, x=\"INCIDENT_OPENED_FIS_QUARTER\", y=\"Count\", color='INCIDENT_CATEGORY'\n",
    "             #,\n",
    "              #title='Alerts with Elvis policy distribution',\n",
    "             , width=1000,height=400\n",
    "               )  \n",
    "    \n",
    " \n",
    "#fig.update_xaxes(matches=None, showticklabels=True, visible=True)\n",
    "fig.show()"
   ]
  },
  {
   "cell_type": "code",
   "execution_count": 17,
   "metadata": {},
   "outputs": [
    {
     "data": {
      "text/html": [
       "<div>\n",
       "<style scoped>\n",
       "    .dataframe tbody tr th:only-of-type {\n",
       "        vertical-align: middle;\n",
       "    }\n",
       "\n",
       "    .dataframe tbody tr th {\n",
       "        vertical-align: top;\n",
       "    }\n",
       "\n",
       "    .dataframe thead th {\n",
       "        text-align: right;\n",
       "    }\n",
       "</style>\n",
       "<table border=\"1\" class=\"dataframe\">\n",
       "  <thead>\n",
       "    <tr style=\"text-align: right;\">\n",
       "      <th></th>\n",
       "      <th>INCIDENT_OPENED_FIS_QUARTER</th>\n",
       "      <th>INCIDENT_SUBCATEGORY</th>\n",
       "      <th>Count</th>\n",
       "    </tr>\n",
       "  </thead>\n",
       "  <tbody>\n",
       "    <tr>\n",
       "      <th>277</th>\n",
       "      <td>FY2021 Q2</td>\n",
       "      <td>User Call</td>\n",
       "      <td>185</td>\n",
       "    </tr>\n",
       "    <tr>\n",
       "      <th>268</th>\n",
       "      <td>FY2021 Q2</td>\n",
       "      <td>General Inquiry</td>\n",
       "      <td>1208</td>\n",
       "    </tr>\n",
       "    <tr>\n",
       "      <th>259</th>\n",
       "      <td>FY2021 Q2</td>\n",
       "      <td>Authentication</td>\n",
       "      <td>335</td>\n",
       "    </tr>\n",
       "    <tr>\n",
       "      <th>260</th>\n",
       "      <td>FY2021 Q2</td>\n",
       "      <td>Business Process</td>\n",
       "      <td>281</td>\n",
       "    </tr>\n",
       "    <tr>\n",
       "      <th>261</th>\n",
       "      <td>FY2021 Q2</td>\n",
       "      <td>Configuration</td>\n",
       "      <td>67</td>\n",
       "    </tr>\n",
       "    <tr>\n",
       "      <th>262</th>\n",
       "      <td>FY2021 Q2</td>\n",
       "      <td>Data</td>\n",
       "      <td>29</td>\n",
       "    </tr>\n",
       "    <tr>\n",
       "      <th>263</th>\n",
       "      <td>FY2021 Q2</td>\n",
       "      <td>Data or Configuration</td>\n",
       "      <td>1</td>\n",
       "    </tr>\n",
       "    <tr>\n",
       "      <th>265</th>\n",
       "      <td>FY2021 Q2</td>\n",
       "      <td>Degraded</td>\n",
       "      <td>318</td>\n",
       "    </tr>\n",
       "    <tr>\n",
       "      <th>266</th>\n",
       "      <td>FY2021 Q2</td>\n",
       "      <td>Document</td>\n",
       "      <td>1</td>\n",
       "    </tr>\n",
       "    <tr>\n",
       "      <th>267</th>\n",
       "      <td>FY2021 Q2</td>\n",
       "      <td>Function Not Working</td>\n",
       "      <td>133</td>\n",
       "    </tr>\n",
       "  </tbody>\n",
       "</table>\n",
       "</div>"
      ],
      "text/plain": [
       "    INCIDENT_OPENED_FIS_QUARTER   INCIDENT_SUBCATEGORY  Count\n",
       "277                   FY2021 Q2              User Call    185\n",
       "268                   FY2021 Q2        General Inquiry   1208\n",
       "259                   FY2021 Q2         Authentication    335\n",
       "260                   FY2021 Q2       Business Process    281\n",
       "261                   FY2021 Q2          Configuration     67\n",
       "262                   FY2021 Q2                   Data     29\n",
       "263                   FY2021 Q2  Data or Configuration      1\n",
       "265                   FY2021 Q2               Degraded    318\n",
       "266                   FY2021 Q2               Document      1\n",
       "267                   FY2021 Q2   Function Not Working    133"
      ]
     },
     "execution_count": 17,
     "metadata": {},
     "output_type": "execute_result"
    }
   ],
   "source": [
    "### Looking by Incident subcategory\n",
    "data.groupby(['INCIDENT_OPENED_FIS_QUARTER','INCIDENT_SUBCATEGORY']).size().reset_index(name=\"Count\").sort_values(by='INCIDENT_OPENED_FIS_QUARTER',ascending=False).head(10)"
   ]
  },
  {
   "cell_type": "code",
   "execution_count": 18,
   "metadata": {},
   "outputs": [],
   "source": [
    "#data.INCIDENT_SUBCATEGORY.value_counts().iplot('bar')\n",
    "dnew = data.groupby(['INCIDENT_OPENED_FIS_QUARTER','INCIDENT_SUBCATEGORY']).size().reset_index(name=\"Count\")\n"
   ]
  },
  {
   "cell_type": "markdown",
   "metadata": {},
   "source": [
    "## Quick Points\n",
    "###### General Inquiry,self service,Data has gone up in past 6 quarters\n",
    "###### Business Process, Network,Authentication ,H/w & S/w related issue have gone down"
   ]
  },
  {
   "cell_type": "code",
   "execution_count": 19,
   "metadata": {
    "scrolled": true
   },
   "outputs": [
    {
     "data": {
      "application/vnd.plotly.v1+json": {
       "config": {
        "plotlyServerURL": "https://plot.ly"
       },
       "data": [
        {
         "alignmentgroup": "True",
         "hoverlabel": {
          "namelength": 0
         },
         "hovertemplate": "INCIDENT_SUBCATEGORY=Authentication<br>INCIDENT_OPENED_FIS_QUARTER=%{x}<br>Count=%{y}",
         "legendgroup": "INCIDENT_SUBCATEGORY=Authentication",
         "marker": {
          "color": "#636efa"
         },
         "name": "INCIDENT_SUBCATEGORY=Authentication",
         "offsetgroup": "INCIDENT_SUBCATEGORY=Authentication",
         "orientation": "v",
         "showlegend": true,
         "textposition": "auto",
         "type": "bar",
         "x": [
          "FY2018 Q1",
          "FY2018 Q2",
          "FY2018 Q3",
          "FY2018 Q4",
          "FY2019 Q1",
          "FY2019 Q2",
          "FY2019 Q3",
          "FY2019 Q4",
          "FY2020 Q1",
          "FY2020 Q2",
          "FY2020 Q3",
          "FY2020 Q4",
          "FY2021 Q1",
          "FY2021 Q2"
         ],
         "xaxis": "x",
         "y": [
          288,
          974,
          1183,
          912,
          925,
          870,
          863,
          658,
          745,
          641,
          670,
          329,
          455,
          335
         ],
         "yaxis": "y"
        },
        {
         "alignmentgroup": "True",
         "hoverlabel": {
          "namelength": 0
         },
         "hovertemplate": "INCIDENT_SUBCATEGORY=Business Process<br>INCIDENT_OPENED_FIS_QUARTER=%{x}<br>Count=%{y}",
         "legendgroup": "INCIDENT_SUBCATEGORY=Business Process",
         "marker": {
          "color": "#EF553B"
         },
         "name": "INCIDENT_SUBCATEGORY=Business Process",
         "offsetgroup": "INCIDENT_SUBCATEGORY=Business Process",
         "orientation": "v",
         "showlegend": true,
         "textposition": "auto",
         "type": "bar",
         "x": [
          "FY2018 Q1",
          "FY2018 Q2",
          "FY2018 Q3",
          "FY2018 Q4",
          "FY2019 Q1",
          "FY2019 Q2",
          "FY2019 Q3",
          "FY2019 Q4",
          "FY2020 Q1",
          "FY2020 Q2",
          "FY2020 Q3",
          "FY2020 Q4",
          "FY2021 Q1",
          "FY2021 Q2"
         ],
         "xaxis": "x",
         "y": [
          451,
          1002,
          943,
          883,
          855,
          1341,
          983,
          736,
          606,
          588,
          449,
          326,
          258,
          281
         ],
         "yaxis": "y"
        },
        {
         "alignmentgroup": "True",
         "hoverlabel": {
          "namelength": 0
         },
         "hovertemplate": "INCIDENT_SUBCATEGORY=Configuration<br>INCIDENT_OPENED_FIS_QUARTER=%{x}<br>Count=%{y}",
         "legendgroup": "INCIDENT_SUBCATEGORY=Configuration",
         "marker": {
          "color": "#00cc96"
         },
         "name": "INCIDENT_SUBCATEGORY=Configuration",
         "offsetgroup": "INCIDENT_SUBCATEGORY=Configuration",
         "orientation": "v",
         "showlegend": true,
         "textposition": "auto",
         "type": "bar",
         "x": [
          "FY2018 Q1",
          "FY2018 Q2",
          "FY2018 Q3",
          "FY2018 Q4",
          "FY2019 Q1",
          "FY2019 Q2",
          "FY2019 Q3",
          "FY2019 Q4",
          "FY2020 Q1",
          "FY2020 Q2",
          "FY2020 Q3",
          "FY2020 Q4",
          "FY2021 Q1",
          "FY2021 Q2"
         ],
         "xaxis": "x",
         "y": [
          159,
          210,
          214,
          157,
          227,
          193,
          385,
          152,
          145,
          198,
          205,
          105,
          81,
          67
         ],
         "yaxis": "y"
        },
        {
         "alignmentgroup": "True",
         "hoverlabel": {
          "namelength": 0
         },
         "hovertemplate": "INCIDENT_SUBCATEGORY=Data<br>INCIDENT_OPENED_FIS_QUARTER=%{x}<br>Count=%{y}",
         "legendgroup": "INCIDENT_SUBCATEGORY=Data",
         "marker": {
          "color": "#ab63fa"
         },
         "name": "INCIDENT_SUBCATEGORY=Data",
         "offsetgroup": "INCIDENT_SUBCATEGORY=Data",
         "orientation": "v",
         "showlegend": true,
         "textposition": "auto",
         "type": "bar",
         "x": [
          "FY2018 Q1",
          "FY2018 Q2",
          "FY2018 Q3",
          "FY2018 Q4",
          "FY2019 Q1",
          "FY2019 Q2",
          "FY2019 Q3",
          "FY2019 Q4",
          "FY2020 Q1",
          "FY2020 Q2",
          "FY2020 Q3",
          "FY2020 Q4",
          "FY2021 Q1",
          "FY2021 Q2"
         ],
         "xaxis": "x",
         "y": [
          93,
          228,
          196,
          194,
          195,
          208,
          152,
          94,
          101,
          73,
          64,
          34,
          48,
          29
         ],
         "yaxis": "y"
        },
        {
         "alignmentgroup": "True",
         "hoverlabel": {
          "namelength": 0
         },
         "hovertemplate": "INCIDENT_SUBCATEGORY=Database<br>INCIDENT_OPENED_FIS_QUARTER=%{x}<br>Count=%{y}",
         "legendgroup": "INCIDENT_SUBCATEGORY=Database",
         "marker": {
          "color": "#FFA15A"
         },
         "name": "INCIDENT_SUBCATEGORY=Database",
         "offsetgroup": "INCIDENT_SUBCATEGORY=Database",
         "orientation": "v",
         "showlegend": true,
         "textposition": "auto",
         "type": "bar",
         "x": [
          "FY2018 Q1",
          "FY2018 Q2",
          "FY2018 Q3",
          "FY2018 Q4",
          "FY2019 Q1",
          "FY2019 Q2",
          "FY2019 Q3",
          "FY2019 Q4",
          "FY2020 Q2",
          "FY2020 Q3",
          "FY2020 Q4",
          "FY2021 Q2"
         ],
         "xaxis": "x",
         "y": [
          4,
          3,
          7,
          2,
          1,
          2,
          4,
          3,
          1,
          2,
          3,
          2
         ],
         "yaxis": "y"
        },
        {
         "alignmentgroup": "True",
         "hoverlabel": {
          "namelength": 0
         },
         "hovertemplate": "INCIDENT_SUBCATEGORY=Degraded<br>INCIDENT_OPENED_FIS_QUARTER=%{x}<br>Count=%{y}",
         "legendgroup": "INCIDENT_SUBCATEGORY=Degraded",
         "marker": {
          "color": "#19d3f3"
         },
         "name": "INCIDENT_SUBCATEGORY=Degraded",
         "offsetgroup": "INCIDENT_SUBCATEGORY=Degraded",
         "orientation": "v",
         "showlegend": true,
         "textposition": "auto",
         "type": "bar",
         "x": [
          "FY2018 Q1",
          "FY2018 Q2",
          "FY2018 Q3",
          "FY2018 Q4",
          "FY2019 Q1",
          "FY2019 Q2",
          "FY2019 Q3",
          "FY2019 Q4",
          "FY2020 Q1",
          "FY2020 Q2",
          "FY2020 Q3",
          "FY2020 Q4",
          "FY2021 Q1",
          "FY2021 Q2"
         ],
         "xaxis": "x",
         "y": [
          95,
          167,
          179,
          235,
          333,
          300,
          409,
          515,
          516,
          582,
          514,
          549,
          395,
          318
         ],
         "yaxis": "y"
        },
        {
         "alignmentgroup": "True",
         "hoverlabel": {
          "namelength": 0
         },
         "hovertemplate": "INCIDENT_SUBCATEGORY=Document<br>INCIDENT_OPENED_FIS_QUARTER=%{x}<br>Count=%{y}",
         "legendgroup": "INCIDENT_SUBCATEGORY=Document",
         "marker": {
          "color": "#FF6692"
         },
         "name": "INCIDENT_SUBCATEGORY=Document",
         "offsetgroup": "INCIDENT_SUBCATEGORY=Document",
         "orientation": "v",
         "showlegend": true,
         "textposition": "auto",
         "type": "bar",
         "x": [
          "FY2018 Q1",
          "FY2018 Q2",
          "FY2018 Q3",
          "FY2018 Q4",
          "FY2019 Q1",
          "FY2019 Q2",
          "FY2019 Q3",
          "FY2019 Q4",
          "FY2020 Q1",
          "FY2020 Q2",
          "FY2020 Q3",
          "FY2020 Q4",
          "FY2021 Q1",
          "FY2021 Q2"
         ],
         "xaxis": "x",
         "y": [
          3,
          5,
          4,
          3,
          2,
          5,
          1,
          1,
          2,
          4,
          2,
          2,
          2,
          1
         ],
         "yaxis": "y"
        },
        {
         "alignmentgroup": "True",
         "hoverlabel": {
          "namelength": 0
         },
         "hovertemplate": "INCIDENT_SUBCATEGORY=Function Not Working<br>INCIDENT_OPENED_FIS_QUARTER=%{x}<br>Count=%{y}",
         "legendgroup": "INCIDENT_SUBCATEGORY=Function Not Working",
         "marker": {
          "color": "#B6E880"
         },
         "name": "INCIDENT_SUBCATEGORY=Function Not Working",
         "offsetgroup": "INCIDENT_SUBCATEGORY=Function Not Working",
         "orientation": "v",
         "showlegend": true,
         "textposition": "auto",
         "type": "bar",
         "x": [
          "FY2018 Q1",
          "FY2018 Q2",
          "FY2018 Q3",
          "FY2018 Q4",
          "FY2019 Q1",
          "FY2019 Q2",
          "FY2019 Q3",
          "FY2019 Q4",
          "FY2020 Q1",
          "FY2020 Q2",
          "FY2020 Q3",
          "FY2020 Q4",
          "FY2021 Q1",
          "FY2021 Q2"
         ],
         "xaxis": "x",
         "y": [
          253,
          333,
          235,
          198,
          237,
          167,
          223,
          229,
          189,
          156,
          161,
          109,
          146,
          133
         ],
         "yaxis": "y"
        },
        {
         "alignmentgroup": "True",
         "hoverlabel": {
          "namelength": 0
         },
         "hovertemplate": "INCIDENT_SUBCATEGORY=General Inquiry<br>INCIDENT_OPENED_FIS_QUARTER=%{x}<br>Count=%{y}",
         "legendgroup": "INCIDENT_SUBCATEGORY=General Inquiry",
         "marker": {
          "color": "#FF97FF"
         },
         "name": "INCIDENT_SUBCATEGORY=General Inquiry",
         "offsetgroup": "INCIDENT_SUBCATEGORY=General Inquiry",
         "orientation": "v",
         "showlegend": true,
         "textposition": "auto",
         "type": "bar",
         "x": [
          "FY2018 Q1",
          "FY2018 Q2",
          "FY2018 Q3",
          "FY2018 Q4",
          "FY2019 Q1",
          "FY2019 Q2",
          "FY2019 Q3",
          "FY2019 Q4",
          "FY2020 Q1",
          "FY2020 Q2",
          "FY2020 Q3",
          "FY2020 Q4",
          "FY2021 Q1",
          "FY2021 Q2"
         ],
         "xaxis": "x",
         "y": [
          214,
          556,
          442,
          462,
          1018,
          924,
          1178,
          1284,
          1530,
          1430,
          1410,
          1216,
          1456,
          1208
         ],
         "yaxis": "y"
        },
        {
         "alignmentgroup": "True",
         "hoverlabel": {
          "namelength": 0
         },
         "hovertemplate": "INCIDENT_SUBCATEGORY=Hardware<br>INCIDENT_OPENED_FIS_QUARTER=%{x}<br>Count=%{y}",
         "legendgroup": "INCIDENT_SUBCATEGORY=Hardware",
         "marker": {
          "color": "#FECB52"
         },
         "name": "INCIDENT_SUBCATEGORY=Hardware",
         "offsetgroup": "INCIDENT_SUBCATEGORY=Hardware",
         "orientation": "v",
         "showlegend": true,
         "textposition": "auto",
         "type": "bar",
         "x": [
          "FY2018 Q1",
          "FY2018 Q2",
          "FY2018 Q3",
          "FY2018 Q4",
          "FY2019 Q1",
          "FY2019 Q2",
          "FY2019 Q3",
          "FY2019 Q4",
          "FY2020 Q1",
          "FY2020 Q2",
          "FY2020 Q3",
          "FY2020 Q4",
          "FY2021 Q1",
          "FY2021 Q2"
         ],
         "xaxis": "x",
         "y": [
          396,
          1122,
          958,
          957,
          922,
          842,
          826,
          860,
          834,
          614,
          550,
          393,
          351,
          338
         ],
         "yaxis": "y"
        },
        {
         "alignmentgroup": "True",
         "hoverlabel": {
          "namelength": 0
         },
         "hovertemplate": "INCIDENT_SUBCATEGORY=Job Failure<br>INCIDENT_OPENED_FIS_QUARTER=%{x}<br>Count=%{y}",
         "legendgroup": "INCIDENT_SUBCATEGORY=Job Failure",
         "marker": {
          "color": "#636efa"
         },
         "name": "INCIDENT_SUBCATEGORY=Job Failure",
         "offsetgroup": "INCIDENT_SUBCATEGORY=Job Failure",
         "orientation": "v",
         "showlegend": true,
         "textposition": "auto",
         "type": "bar",
         "x": [
          "FY2018 Q1",
          "FY2018 Q2",
          "FY2018 Q3",
          "FY2018 Q4",
          "FY2019 Q1",
          "FY2019 Q2",
          "FY2019 Q3",
          "FY2019 Q4",
          "FY2020 Q1",
          "FY2020 Q2",
          "FY2020 Q3",
          "FY2021 Q1",
          "FY2021 Q2"
         ],
         "xaxis": "x",
         "y": [
          7,
          10,
          14,
          10,
          10,
          5,
          2,
          8,
          3,
          2,
          3,
          7,
          4
         ],
         "yaxis": "y"
        },
        {
         "alignmentgroup": "True",
         "hoverlabel": {
          "namelength": 0
         },
         "hovertemplate": "INCIDENT_SUBCATEGORY=Misclassified<br>INCIDENT_OPENED_FIS_QUARTER=%{x}<br>Count=%{y}",
         "legendgroup": "INCIDENT_SUBCATEGORY=Misclassified",
         "marker": {
          "color": "#EF553B"
         },
         "name": "INCIDENT_SUBCATEGORY=Misclassified",
         "offsetgroup": "INCIDENT_SUBCATEGORY=Misclassified",
         "orientation": "v",
         "showlegend": true,
         "textposition": "auto",
         "type": "bar",
         "x": [
          "FY2018 Q1",
          "FY2018 Q2",
          "FY2018 Q3",
          "FY2018 Q4",
          "FY2019 Q1",
          "FY2019 Q2",
          "FY2019 Q3",
          "FY2019 Q4",
          "FY2020 Q1",
          "FY2020 Q2",
          "FY2020 Q3",
          "FY2020 Q4",
          "FY2021 Q1",
          "FY2021 Q2"
         ],
         "xaxis": "x",
         "y": [
          7,
          57,
          116,
          119,
          75,
          77,
          31,
          19,
          33,
          16,
          19,
          10,
          6,
          4
         ],
         "yaxis": "y"
        },
        {
         "alignmentgroup": "True",
         "hoverlabel": {
          "namelength": 0
         },
         "hovertemplate": "INCIDENT_SUBCATEGORY=Network<br>INCIDENT_OPENED_FIS_QUARTER=%{x}<br>Count=%{y}",
         "legendgroup": "INCIDENT_SUBCATEGORY=Network",
         "marker": {
          "color": "#00cc96"
         },
         "name": "INCIDENT_SUBCATEGORY=Network",
         "offsetgroup": "INCIDENT_SUBCATEGORY=Network",
         "orientation": "v",
         "showlegend": true,
         "textposition": "auto",
         "type": "bar",
         "x": [
          "FY2018 Q1",
          "FY2018 Q2",
          "FY2018 Q3",
          "FY2018 Q4",
          "FY2019 Q1",
          "FY2019 Q2",
          "FY2019 Q3",
          "FY2019 Q4",
          "FY2020 Q1",
          "FY2020 Q2",
          "FY2020 Q3",
          "FY2020 Q4",
          "FY2021 Q1",
          "FY2021 Q2"
         ],
         "xaxis": "x",
         "y": [
          190,
          505,
          519,
          493,
          320,
          187,
          266,
          325,
          218,
          173,
          122,
          89,
          67,
          64
         ],
         "yaxis": "y"
        },
        {
         "alignmentgroup": "True",
         "hoverlabel": {
          "namelength": 0
         },
         "hovertemplate": "INCIDENT_SUBCATEGORY=Offline<br>INCIDENT_OPENED_FIS_QUARTER=%{x}<br>Count=%{y}",
         "legendgroup": "INCIDENT_SUBCATEGORY=Offline",
         "marker": {
          "color": "#ab63fa"
         },
         "name": "INCIDENT_SUBCATEGORY=Offline",
         "offsetgroup": "INCIDENT_SUBCATEGORY=Offline",
         "orientation": "v",
         "showlegend": true,
         "textposition": "auto",
         "type": "bar",
         "x": [
          "FY2018 Q1",
          "FY2018 Q2",
          "FY2018 Q3",
          "FY2018 Q4",
          "FY2019 Q1",
          "FY2019 Q2",
          "FY2019 Q3",
          "FY2019 Q4",
          "FY2020 Q1",
          "FY2020 Q2",
          "FY2020 Q3",
          "FY2020 Q4",
          "FY2021 Q1",
          "FY2021 Q2"
         ],
         "xaxis": "x",
         "y": [
          28,
          65,
          60,
          28,
          17,
          19,
          25,
          21,
          22,
          17,
          14,
          12,
          18,
          8
         ],
         "yaxis": "y"
        },
        {
         "alignmentgroup": "True",
         "hoverlabel": {
          "namelength": 0
         },
         "hovertemplate": "INCIDENT_SUBCATEGORY=Order<br>INCIDENT_OPENED_FIS_QUARTER=%{x}<br>Count=%{y}",
         "legendgroup": "INCIDENT_SUBCATEGORY=Order",
         "marker": {
          "color": "#FFA15A"
         },
         "name": "INCIDENT_SUBCATEGORY=Order",
         "offsetgroup": "INCIDENT_SUBCATEGORY=Order",
         "orientation": "v",
         "showlegend": true,
         "textposition": "auto",
         "type": "bar",
         "x": [
          "FY2018 Q1",
          "FY2018 Q2",
          "FY2018 Q3",
          "FY2018 Q4",
          "FY2019 Q1",
          "FY2019 Q2",
          "FY2019 Q3",
          "FY2019 Q4",
          "FY2020 Q2",
          "FY2020 Q3",
          "FY2020 Q4",
          "FY2021 Q1",
          "FY2021 Q2"
         ],
         "xaxis": "x",
         "y": [
          6,
          8,
          2,
          2,
          3,
          4,
          3,
          1,
          2,
          2,
          1,
          1,
          1
         ],
         "yaxis": "y"
        },
        {
         "alignmentgroup": "True",
         "hoverlabel": {
          "namelength": 0
         },
         "hovertemplate": "INCIDENT_SUBCATEGORY=Policy<br>INCIDENT_OPENED_FIS_QUARTER=%{x}<br>Count=%{y}",
         "legendgroup": "INCIDENT_SUBCATEGORY=Policy",
         "marker": {
          "color": "#19d3f3"
         },
         "name": "INCIDENT_SUBCATEGORY=Policy",
         "offsetgroup": "INCIDENT_SUBCATEGORY=Policy",
         "orientation": "v",
         "showlegend": true,
         "textposition": "auto",
         "type": "bar",
         "x": [
          "FY2018 Q1",
          "FY2018 Q2",
          "FY2018 Q3",
          "FY2018 Q4",
          "FY2019 Q1",
          "FY2019 Q2",
          "FY2019 Q3",
          "FY2019 Q4",
          "FY2020 Q1",
          "FY2020 Q2",
          "FY2020 Q3",
          "FY2020 Q4",
          "FY2021 Q1"
         ],
         "xaxis": "x",
         "y": [
          32,
          30,
          33,
          34,
          32,
          10,
          10,
          10,
          5,
          8,
          2,
          5,
          1
         ],
         "yaxis": "y"
        },
        {
         "alignmentgroup": "True",
         "hoverlabel": {
          "namelength": 0
         },
         "hovertemplate": "INCIDENT_SUBCATEGORY=Self-Service<br>INCIDENT_OPENED_FIS_QUARTER=%{x}<br>Count=%{y}",
         "legendgroup": "INCIDENT_SUBCATEGORY=Self-Service",
         "marker": {
          "color": "#FF6692"
         },
         "name": "INCIDENT_SUBCATEGORY=Self-Service",
         "offsetgroup": "INCIDENT_SUBCATEGORY=Self-Service",
         "orientation": "v",
         "showlegend": true,
         "textposition": "auto",
         "type": "bar",
         "x": [
          "FY2018 Q1",
          "FY2018 Q2",
          "FY2018 Q3",
          "FY2018 Q4",
          "FY2019 Q1",
          "FY2019 Q2",
          "FY2019 Q3",
          "FY2019 Q4",
          "FY2020 Q1",
          "FY2020 Q2",
          "FY2020 Q3",
          "FY2020 Q4",
          "FY2021 Q1",
          "FY2021 Q2"
         ],
         "xaxis": "x",
         "y": [
          31,
          57,
          62,
          48,
          143,
          195,
          211,
          155,
          109,
          103,
          118,
          70,
          103,
          69
         ],
         "yaxis": "y"
        },
        {
         "alignmentgroup": "True",
         "hoverlabel": {
          "namelength": 0
         },
         "hovertemplate": "INCIDENT_SUBCATEGORY=Software<br>INCIDENT_OPENED_FIS_QUARTER=%{x}<br>Count=%{y}",
         "legendgroup": "INCIDENT_SUBCATEGORY=Software",
         "marker": {
          "color": "#B6E880"
         },
         "name": "INCIDENT_SUBCATEGORY=Software",
         "offsetgroup": "INCIDENT_SUBCATEGORY=Software",
         "orientation": "v",
         "showlegend": true,
         "textposition": "auto",
         "type": "bar",
         "x": [
          "FY2018 Q1",
          "FY2018 Q2",
          "FY2018 Q3",
          "FY2018 Q4",
          "FY2019 Q1",
          "FY2019 Q2",
          "FY2019 Q3",
          "FY2019 Q4",
          "FY2020 Q1",
          "FY2020 Q2",
          "FY2020 Q3",
          "FY2020 Q4",
          "FY2021 Q1",
          "FY2021 Q2"
         ],
         "xaxis": "x",
         "y": [
          508,
          1372,
          1837,
          1538,
          1766,
          1682,
          1864,
          1444,
          1305,
          1064,
          1308,
          907,
          932,
          789
         ],
         "yaxis": "y"
        },
        {
         "alignmentgroup": "True",
         "hoverlabel": {
          "namelength": 0
         },
         "hovertemplate": "INCIDENT_SUBCATEGORY=User Call<br>INCIDENT_OPENED_FIS_QUARTER=%{x}<br>Count=%{y}",
         "legendgroup": "INCIDENT_SUBCATEGORY=User Call",
         "marker": {
          "color": "#FF97FF"
         },
         "name": "INCIDENT_SUBCATEGORY=User Call",
         "offsetgroup": "INCIDENT_SUBCATEGORY=User Call",
         "orientation": "v",
         "showlegend": true,
         "textposition": "auto",
         "type": "bar",
         "x": [
          "FY2018 Q1",
          "FY2018 Q2",
          "FY2018 Q3",
          "FY2018 Q4",
          "FY2019 Q1",
          "FY2019 Q2",
          "FY2019 Q3",
          "FY2019 Q4",
          "FY2020 Q1",
          "FY2020 Q2",
          "FY2020 Q3",
          "FY2020 Q4",
          "FY2021 Q1",
          "FY2021 Q2"
         ],
         "xaxis": "x",
         "y": [
          37,
          57,
          127,
          168,
          275,
          258,
          359,
          456,
          340,
          273,
          425,
          198,
          181,
          185
         ],
         "yaxis": "y"
        },
        {
         "alignmentgroup": "True",
         "hoverlabel": {
          "namelength": 0
         },
         "hovertemplate": "INCIDENT_SUBCATEGORY=Workflow<br>INCIDENT_OPENED_FIS_QUARTER=%{x}<br>Count=%{y}",
         "legendgroup": "INCIDENT_SUBCATEGORY=Workflow",
         "marker": {
          "color": "#FECB52"
         },
         "name": "INCIDENT_SUBCATEGORY=Workflow",
         "offsetgroup": "INCIDENT_SUBCATEGORY=Workflow",
         "orientation": "v",
         "showlegend": true,
         "textposition": "auto",
         "type": "bar",
         "x": [
          "FY2018 Q1",
          "FY2018 Q2",
          "FY2018 Q3",
          "FY2018 Q4",
          "FY2019 Q1",
          "FY2019 Q2",
          "FY2019 Q3",
          "FY2019 Q4",
          "FY2020 Q1",
          "FY2020 Q3"
         ],
         "xaxis": "x",
         "y": [
          3,
          6,
          4,
          5,
          2,
          4,
          1,
          3,
          1,
          1
         ],
         "yaxis": "y"
        },
        {
         "alignmentgroup": "True",
         "hoverlabel": {
          "namelength": 0
         },
         "hovertemplate": "INCIDENT_SUBCATEGORY=Invoice<br>INCIDENT_OPENED_FIS_QUARTER=%{x}<br>Count=%{y}",
         "legendgroup": "INCIDENT_SUBCATEGORY=Invoice",
         "marker": {
          "color": "#636efa"
         },
         "name": "INCIDENT_SUBCATEGORY=Invoice",
         "offsetgroup": "INCIDENT_SUBCATEGORY=Invoice",
         "orientation": "v",
         "showlegend": true,
         "textposition": "auto",
         "type": "bar",
         "x": [
          "FY2018 Q2",
          "FY2018 Q3",
          "FY2018 Q4",
          "FY2019 Q2"
         ],
         "xaxis": "x",
         "y": [
          1,
          1,
          1,
          3
         ],
         "yaxis": "y"
        },
        {
         "alignmentgroup": "True",
         "hoverlabel": {
          "namelength": 0
         },
         "hovertemplate": "INCIDENT_SUBCATEGORY=Data or Configuration<br>INCIDENT_OPENED_FIS_QUARTER=%{x}<br>Count=%{y}",
         "legendgroup": "INCIDENT_SUBCATEGORY=Data or Configuration",
         "marker": {
          "color": "#EF553B"
         },
         "name": "INCIDENT_SUBCATEGORY=Data or Configuration",
         "offsetgroup": "INCIDENT_SUBCATEGORY=Data or Configuration",
         "orientation": "v",
         "showlegend": true,
         "textposition": "auto",
         "type": "bar",
         "x": [
          "FY2020 Q4",
          "FY2021 Q1",
          "FY2021 Q2"
         ],
         "xaxis": "x",
         "y": [
          2,
          3,
          1
         ],
         "yaxis": "y"
        }
       ],
       "layout": {
        "barmode": "relative",
        "height": 400,
        "legend": {
         "tracegroupgap": 0
        },
        "margin": {
         "t": 60
        },
        "template": {
         "data": {
          "bar": [
           {
            "error_x": {
             "color": "#2a3f5f"
            },
            "error_y": {
             "color": "#2a3f5f"
            },
            "marker": {
             "line": {
              "color": "#E5ECF6",
              "width": 0.5
             }
            },
            "type": "bar"
           }
          ],
          "barpolar": [
           {
            "marker": {
             "line": {
              "color": "#E5ECF6",
              "width": 0.5
             }
            },
            "type": "barpolar"
           }
          ],
          "carpet": [
           {
            "aaxis": {
             "endlinecolor": "#2a3f5f",
             "gridcolor": "white",
             "linecolor": "white",
             "minorgridcolor": "white",
             "startlinecolor": "#2a3f5f"
            },
            "baxis": {
             "endlinecolor": "#2a3f5f",
             "gridcolor": "white",
             "linecolor": "white",
             "minorgridcolor": "white",
             "startlinecolor": "#2a3f5f"
            },
            "type": "carpet"
           }
          ],
          "choropleth": [
           {
            "colorbar": {
             "outlinewidth": 0,
             "ticks": ""
            },
            "type": "choropleth"
           }
          ],
          "contour": [
           {
            "colorbar": {
             "outlinewidth": 0,
             "ticks": ""
            },
            "colorscale": [
             [
              0,
              "#0d0887"
             ],
             [
              0.1111111111111111,
              "#46039f"
             ],
             [
              0.2222222222222222,
              "#7201a8"
             ],
             [
              0.3333333333333333,
              "#9c179e"
             ],
             [
              0.4444444444444444,
              "#bd3786"
             ],
             [
              0.5555555555555556,
              "#d8576b"
             ],
             [
              0.6666666666666666,
              "#ed7953"
             ],
             [
              0.7777777777777778,
              "#fb9f3a"
             ],
             [
              0.8888888888888888,
              "#fdca26"
             ],
             [
              1,
              "#f0f921"
             ]
            ],
            "type": "contour"
           }
          ],
          "contourcarpet": [
           {
            "colorbar": {
             "outlinewidth": 0,
             "ticks": ""
            },
            "type": "contourcarpet"
           }
          ],
          "heatmap": [
           {
            "colorbar": {
             "outlinewidth": 0,
             "ticks": ""
            },
            "colorscale": [
             [
              0,
              "#0d0887"
             ],
             [
              0.1111111111111111,
              "#46039f"
             ],
             [
              0.2222222222222222,
              "#7201a8"
             ],
             [
              0.3333333333333333,
              "#9c179e"
             ],
             [
              0.4444444444444444,
              "#bd3786"
             ],
             [
              0.5555555555555556,
              "#d8576b"
             ],
             [
              0.6666666666666666,
              "#ed7953"
             ],
             [
              0.7777777777777778,
              "#fb9f3a"
             ],
             [
              0.8888888888888888,
              "#fdca26"
             ],
             [
              1,
              "#f0f921"
             ]
            ],
            "type": "heatmap"
           }
          ],
          "heatmapgl": [
           {
            "colorbar": {
             "outlinewidth": 0,
             "ticks": ""
            },
            "colorscale": [
             [
              0,
              "#0d0887"
             ],
             [
              0.1111111111111111,
              "#46039f"
             ],
             [
              0.2222222222222222,
              "#7201a8"
             ],
             [
              0.3333333333333333,
              "#9c179e"
             ],
             [
              0.4444444444444444,
              "#bd3786"
             ],
             [
              0.5555555555555556,
              "#d8576b"
             ],
             [
              0.6666666666666666,
              "#ed7953"
             ],
             [
              0.7777777777777778,
              "#fb9f3a"
             ],
             [
              0.8888888888888888,
              "#fdca26"
             ],
             [
              1,
              "#f0f921"
             ]
            ],
            "type": "heatmapgl"
           }
          ],
          "histogram": [
           {
            "marker": {
             "colorbar": {
              "outlinewidth": 0,
              "ticks": ""
             }
            },
            "type": "histogram"
           }
          ],
          "histogram2d": [
           {
            "colorbar": {
             "outlinewidth": 0,
             "ticks": ""
            },
            "colorscale": [
             [
              0,
              "#0d0887"
             ],
             [
              0.1111111111111111,
              "#46039f"
             ],
             [
              0.2222222222222222,
              "#7201a8"
             ],
             [
              0.3333333333333333,
              "#9c179e"
             ],
             [
              0.4444444444444444,
              "#bd3786"
             ],
             [
              0.5555555555555556,
              "#d8576b"
             ],
             [
              0.6666666666666666,
              "#ed7953"
             ],
             [
              0.7777777777777778,
              "#fb9f3a"
             ],
             [
              0.8888888888888888,
              "#fdca26"
             ],
             [
              1,
              "#f0f921"
             ]
            ],
            "type": "histogram2d"
           }
          ],
          "histogram2dcontour": [
           {
            "colorbar": {
             "outlinewidth": 0,
             "ticks": ""
            },
            "colorscale": [
             [
              0,
              "#0d0887"
             ],
             [
              0.1111111111111111,
              "#46039f"
             ],
             [
              0.2222222222222222,
              "#7201a8"
             ],
             [
              0.3333333333333333,
              "#9c179e"
             ],
             [
              0.4444444444444444,
              "#bd3786"
             ],
             [
              0.5555555555555556,
              "#d8576b"
             ],
             [
              0.6666666666666666,
              "#ed7953"
             ],
             [
              0.7777777777777778,
              "#fb9f3a"
             ],
             [
              0.8888888888888888,
              "#fdca26"
             ],
             [
              1,
              "#f0f921"
             ]
            ],
            "type": "histogram2dcontour"
           }
          ],
          "mesh3d": [
           {
            "colorbar": {
             "outlinewidth": 0,
             "ticks": ""
            },
            "type": "mesh3d"
           }
          ],
          "parcoords": [
           {
            "line": {
             "colorbar": {
              "outlinewidth": 0,
              "ticks": ""
             }
            },
            "type": "parcoords"
           }
          ],
          "scatter": [
           {
            "marker": {
             "colorbar": {
              "outlinewidth": 0,
              "ticks": ""
             }
            },
            "type": "scatter"
           }
          ],
          "scatter3d": [
           {
            "line": {
             "colorbar": {
              "outlinewidth": 0,
              "ticks": ""
             }
            },
            "marker": {
             "colorbar": {
              "outlinewidth": 0,
              "ticks": ""
             }
            },
            "type": "scatter3d"
           }
          ],
          "scattercarpet": [
           {
            "marker": {
             "colorbar": {
              "outlinewidth": 0,
              "ticks": ""
             }
            },
            "type": "scattercarpet"
           }
          ],
          "scattergeo": [
           {
            "marker": {
             "colorbar": {
              "outlinewidth": 0,
              "ticks": ""
             }
            },
            "type": "scattergeo"
           }
          ],
          "scattergl": [
           {
            "marker": {
             "colorbar": {
              "outlinewidth": 0,
              "ticks": ""
             }
            },
            "type": "scattergl"
           }
          ],
          "scattermapbox": [
           {
            "marker": {
             "colorbar": {
              "outlinewidth": 0,
              "ticks": ""
             }
            },
            "type": "scattermapbox"
           }
          ],
          "scatterpolar": [
           {
            "marker": {
             "colorbar": {
              "outlinewidth": 0,
              "ticks": ""
             }
            },
            "type": "scatterpolar"
           }
          ],
          "scatterpolargl": [
           {
            "marker": {
             "colorbar": {
              "outlinewidth": 0,
              "ticks": ""
             }
            },
            "type": "scatterpolargl"
           }
          ],
          "scatterternary": [
           {
            "marker": {
             "colorbar": {
              "outlinewidth": 0,
              "ticks": ""
             }
            },
            "type": "scatterternary"
           }
          ],
          "surface": [
           {
            "colorbar": {
             "outlinewidth": 0,
             "ticks": ""
            },
            "colorscale": [
             [
              0,
              "#0d0887"
             ],
             [
              0.1111111111111111,
              "#46039f"
             ],
             [
              0.2222222222222222,
              "#7201a8"
             ],
             [
              0.3333333333333333,
              "#9c179e"
             ],
             [
              0.4444444444444444,
              "#bd3786"
             ],
             [
              0.5555555555555556,
              "#d8576b"
             ],
             [
              0.6666666666666666,
              "#ed7953"
             ],
             [
              0.7777777777777778,
              "#fb9f3a"
             ],
             [
              0.8888888888888888,
              "#fdca26"
             ],
             [
              1,
              "#f0f921"
             ]
            ],
            "type": "surface"
           }
          ],
          "table": [
           {
            "cells": {
             "fill": {
              "color": "#EBF0F8"
             },
             "line": {
              "color": "white"
             }
            },
            "header": {
             "fill": {
              "color": "#C8D4E3"
             },
             "line": {
              "color": "white"
             }
            },
            "type": "table"
           }
          ]
         },
         "layout": {
          "annotationdefaults": {
           "arrowcolor": "#2a3f5f",
           "arrowhead": 0,
           "arrowwidth": 1
          },
          "colorscale": {
           "diverging": [
            [
             0,
             "#8e0152"
            ],
            [
             0.1,
             "#c51b7d"
            ],
            [
             0.2,
             "#de77ae"
            ],
            [
             0.3,
             "#f1b6da"
            ],
            [
             0.4,
             "#fde0ef"
            ],
            [
             0.5,
             "#f7f7f7"
            ],
            [
             0.6,
             "#e6f5d0"
            ],
            [
             0.7,
             "#b8e186"
            ],
            [
             0.8,
             "#7fbc41"
            ],
            [
             0.9,
             "#4d9221"
            ],
            [
             1,
             "#276419"
            ]
           ],
           "sequential": [
            [
             0,
             "#0d0887"
            ],
            [
             0.1111111111111111,
             "#46039f"
            ],
            [
             0.2222222222222222,
             "#7201a8"
            ],
            [
             0.3333333333333333,
             "#9c179e"
            ],
            [
             0.4444444444444444,
             "#bd3786"
            ],
            [
             0.5555555555555556,
             "#d8576b"
            ],
            [
             0.6666666666666666,
             "#ed7953"
            ],
            [
             0.7777777777777778,
             "#fb9f3a"
            ],
            [
             0.8888888888888888,
             "#fdca26"
            ],
            [
             1,
             "#f0f921"
            ]
           ],
           "sequentialminus": [
            [
             0,
             "#0d0887"
            ],
            [
             0.1111111111111111,
             "#46039f"
            ],
            [
             0.2222222222222222,
             "#7201a8"
            ],
            [
             0.3333333333333333,
             "#9c179e"
            ],
            [
             0.4444444444444444,
             "#bd3786"
            ],
            [
             0.5555555555555556,
             "#d8576b"
            ],
            [
             0.6666666666666666,
             "#ed7953"
            ],
            [
             0.7777777777777778,
             "#fb9f3a"
            ],
            [
             0.8888888888888888,
             "#fdca26"
            ],
            [
             1,
             "#f0f921"
            ]
           ]
          },
          "colorway": [
           "#636efa",
           "#EF553B",
           "#00cc96",
           "#ab63fa",
           "#FFA15A",
           "#19d3f3",
           "#FF6692",
           "#B6E880",
           "#FF97FF",
           "#FECB52"
          ],
          "font": {
           "color": "#2a3f5f"
          },
          "geo": {
           "bgcolor": "white",
           "lakecolor": "white",
           "landcolor": "#E5ECF6",
           "showlakes": true,
           "showland": true,
           "subunitcolor": "white"
          },
          "hoverlabel": {
           "align": "left"
          },
          "hovermode": "closest",
          "mapbox": {
           "style": "light"
          },
          "paper_bgcolor": "white",
          "plot_bgcolor": "#E5ECF6",
          "polar": {
           "angularaxis": {
            "gridcolor": "white",
            "linecolor": "white",
            "ticks": ""
           },
           "bgcolor": "#E5ECF6",
           "radialaxis": {
            "gridcolor": "white",
            "linecolor": "white",
            "ticks": ""
           }
          },
          "scene": {
           "xaxis": {
            "backgroundcolor": "#E5ECF6",
            "gridcolor": "white",
            "gridwidth": 2,
            "linecolor": "white",
            "showbackground": true,
            "ticks": "",
            "zerolinecolor": "white"
           },
           "yaxis": {
            "backgroundcolor": "#E5ECF6",
            "gridcolor": "white",
            "gridwidth": 2,
            "linecolor": "white",
            "showbackground": true,
            "ticks": "",
            "zerolinecolor": "white"
           },
           "zaxis": {
            "backgroundcolor": "#E5ECF6",
            "gridcolor": "white",
            "gridwidth": 2,
            "linecolor": "white",
            "showbackground": true,
            "ticks": "",
            "zerolinecolor": "white"
           }
          },
          "shapedefaults": {
           "line": {
            "color": "#2a3f5f"
           }
          },
          "ternary": {
           "aaxis": {
            "gridcolor": "white",
            "linecolor": "white",
            "ticks": ""
           },
           "baxis": {
            "gridcolor": "white",
            "linecolor": "white",
            "ticks": ""
           },
           "bgcolor": "#E5ECF6",
           "caxis": {
            "gridcolor": "white",
            "linecolor": "white",
            "ticks": ""
           }
          },
          "title": {
           "x": 0.05
          },
          "xaxis": {
           "automargin": true,
           "gridcolor": "white",
           "linecolor": "white",
           "ticks": "",
           "zerolinecolor": "white",
           "zerolinewidth": 2
          },
          "yaxis": {
           "automargin": true,
           "gridcolor": "white",
           "linecolor": "white",
           "ticks": "",
           "zerolinecolor": "white",
           "zerolinewidth": 2
          }
         }
        },
        "width": 1000,
        "xaxis": {
         "anchor": "y",
         "domain": [
          0,
          0.98
         ],
         "title": {
          "text": "INCIDENT_OPENED_FIS_QUARTER"
         }
        },
        "yaxis": {
         "anchor": "x",
         "domain": [
          0,
          1
         ],
         "title": {
          "text": "Count"
         }
        }
       }
      },
      "text/html": [
       "<div>\n",
       "        \n",
       "        \n",
       "            <div id=\"2fe97d17-8cae-4e96-b07f-1aaeeac7fd81\" class=\"plotly-graph-div\" style=\"height:400px; width:1000px;\"></div>\n",
       "            <script type=\"text/javascript\">\n",
       "                require([\"plotly\"], function(Plotly) {\n",
       "                    window.PLOTLYENV=window.PLOTLYENV || {};\n",
       "                    \n",
       "                if (document.getElementById(\"2fe97d17-8cae-4e96-b07f-1aaeeac7fd81\")) {\n",
       "                    Plotly.newPlot(\n",
       "                        '2fe97d17-8cae-4e96-b07f-1aaeeac7fd81',\n",
       "                        [{\"alignmentgroup\": \"True\", \"hoverlabel\": {\"namelength\": 0}, \"hovertemplate\": \"INCIDENT_SUBCATEGORY=Authentication<br>INCIDENT_OPENED_FIS_QUARTER=%{x}<br>Count=%{y}\", \"legendgroup\": \"INCIDENT_SUBCATEGORY=Authentication\", \"marker\": {\"color\": \"#636efa\"}, \"name\": \"INCIDENT_SUBCATEGORY=Authentication\", \"offsetgroup\": \"INCIDENT_SUBCATEGORY=Authentication\", \"orientation\": \"v\", \"showlegend\": true, \"textposition\": \"auto\", \"type\": \"bar\", \"x\": [\"FY2018 Q1\", \"FY2018 Q2\", \"FY2018 Q3\", \"FY2018 Q4\", \"FY2019 Q1\", \"FY2019 Q2\", \"FY2019 Q3\", \"FY2019 Q4\", \"FY2020 Q1\", \"FY2020 Q2\", \"FY2020 Q3\", \"FY2020 Q4\", \"FY2021 Q1\", \"FY2021 Q2\"], \"xaxis\": \"x\", \"y\": [288, 974, 1183, 912, 925, 870, 863, 658, 745, 641, 670, 329, 455, 335], \"yaxis\": \"y\"}, {\"alignmentgroup\": \"True\", \"hoverlabel\": {\"namelength\": 0}, \"hovertemplate\": \"INCIDENT_SUBCATEGORY=Business Process<br>INCIDENT_OPENED_FIS_QUARTER=%{x}<br>Count=%{y}\", \"legendgroup\": \"INCIDENT_SUBCATEGORY=Business Process\", \"marker\": {\"color\": \"#EF553B\"}, \"name\": \"INCIDENT_SUBCATEGORY=Business Process\", \"offsetgroup\": \"INCIDENT_SUBCATEGORY=Business Process\", \"orientation\": \"v\", \"showlegend\": true, \"textposition\": \"auto\", \"type\": \"bar\", \"x\": [\"FY2018 Q1\", \"FY2018 Q2\", \"FY2018 Q3\", \"FY2018 Q4\", \"FY2019 Q1\", \"FY2019 Q2\", \"FY2019 Q3\", \"FY2019 Q4\", \"FY2020 Q1\", \"FY2020 Q2\", \"FY2020 Q3\", \"FY2020 Q4\", \"FY2021 Q1\", \"FY2021 Q2\"], \"xaxis\": \"x\", \"y\": [451, 1002, 943, 883, 855, 1341, 983, 736, 606, 588, 449, 326, 258, 281], \"yaxis\": \"y\"}, {\"alignmentgroup\": \"True\", \"hoverlabel\": {\"namelength\": 0}, \"hovertemplate\": \"INCIDENT_SUBCATEGORY=Configuration<br>INCIDENT_OPENED_FIS_QUARTER=%{x}<br>Count=%{y}\", \"legendgroup\": \"INCIDENT_SUBCATEGORY=Configuration\", \"marker\": {\"color\": \"#00cc96\"}, \"name\": \"INCIDENT_SUBCATEGORY=Configuration\", \"offsetgroup\": \"INCIDENT_SUBCATEGORY=Configuration\", \"orientation\": \"v\", \"showlegend\": true, \"textposition\": \"auto\", \"type\": \"bar\", \"x\": [\"FY2018 Q1\", \"FY2018 Q2\", \"FY2018 Q3\", \"FY2018 Q4\", \"FY2019 Q1\", \"FY2019 Q2\", \"FY2019 Q3\", \"FY2019 Q4\", \"FY2020 Q1\", \"FY2020 Q2\", \"FY2020 Q3\", \"FY2020 Q4\", \"FY2021 Q1\", \"FY2021 Q2\"], \"xaxis\": \"x\", \"y\": [159, 210, 214, 157, 227, 193, 385, 152, 145, 198, 205, 105, 81, 67], \"yaxis\": \"y\"}, {\"alignmentgroup\": \"True\", \"hoverlabel\": {\"namelength\": 0}, \"hovertemplate\": \"INCIDENT_SUBCATEGORY=Data<br>INCIDENT_OPENED_FIS_QUARTER=%{x}<br>Count=%{y}\", \"legendgroup\": \"INCIDENT_SUBCATEGORY=Data\", \"marker\": {\"color\": \"#ab63fa\"}, \"name\": \"INCIDENT_SUBCATEGORY=Data\", \"offsetgroup\": \"INCIDENT_SUBCATEGORY=Data\", \"orientation\": \"v\", \"showlegend\": true, \"textposition\": \"auto\", \"type\": \"bar\", \"x\": [\"FY2018 Q1\", \"FY2018 Q2\", \"FY2018 Q3\", \"FY2018 Q4\", \"FY2019 Q1\", \"FY2019 Q2\", \"FY2019 Q3\", \"FY2019 Q4\", \"FY2020 Q1\", \"FY2020 Q2\", \"FY2020 Q3\", \"FY2020 Q4\", \"FY2021 Q1\", \"FY2021 Q2\"], \"xaxis\": \"x\", \"y\": [93, 228, 196, 194, 195, 208, 152, 94, 101, 73, 64, 34, 48, 29], \"yaxis\": \"y\"}, {\"alignmentgroup\": \"True\", \"hoverlabel\": {\"namelength\": 0}, \"hovertemplate\": \"INCIDENT_SUBCATEGORY=Database<br>INCIDENT_OPENED_FIS_QUARTER=%{x}<br>Count=%{y}\", \"legendgroup\": \"INCIDENT_SUBCATEGORY=Database\", \"marker\": {\"color\": \"#FFA15A\"}, \"name\": \"INCIDENT_SUBCATEGORY=Database\", \"offsetgroup\": \"INCIDENT_SUBCATEGORY=Database\", \"orientation\": \"v\", \"showlegend\": true, \"textposition\": \"auto\", \"type\": \"bar\", \"x\": [\"FY2018 Q1\", \"FY2018 Q2\", \"FY2018 Q3\", \"FY2018 Q4\", \"FY2019 Q1\", \"FY2019 Q2\", \"FY2019 Q3\", \"FY2019 Q4\", \"FY2020 Q2\", \"FY2020 Q3\", \"FY2020 Q4\", \"FY2021 Q2\"], \"xaxis\": \"x\", \"y\": [4, 3, 7, 2, 1, 2, 4, 3, 1, 2, 3, 2], \"yaxis\": \"y\"}, {\"alignmentgroup\": \"True\", \"hoverlabel\": {\"namelength\": 0}, \"hovertemplate\": \"INCIDENT_SUBCATEGORY=Degraded<br>INCIDENT_OPENED_FIS_QUARTER=%{x}<br>Count=%{y}\", \"legendgroup\": \"INCIDENT_SUBCATEGORY=Degraded\", \"marker\": {\"color\": \"#19d3f3\"}, \"name\": \"INCIDENT_SUBCATEGORY=Degraded\", \"offsetgroup\": \"INCIDENT_SUBCATEGORY=Degraded\", \"orientation\": \"v\", \"showlegend\": true, \"textposition\": \"auto\", \"type\": \"bar\", \"x\": [\"FY2018 Q1\", \"FY2018 Q2\", \"FY2018 Q3\", \"FY2018 Q4\", \"FY2019 Q1\", \"FY2019 Q2\", \"FY2019 Q3\", \"FY2019 Q4\", \"FY2020 Q1\", \"FY2020 Q2\", \"FY2020 Q3\", \"FY2020 Q4\", \"FY2021 Q1\", \"FY2021 Q2\"], \"xaxis\": \"x\", \"y\": [95, 167, 179, 235, 333, 300, 409, 515, 516, 582, 514, 549, 395, 318], \"yaxis\": \"y\"}, {\"alignmentgroup\": \"True\", \"hoverlabel\": {\"namelength\": 0}, \"hovertemplate\": \"INCIDENT_SUBCATEGORY=Document<br>INCIDENT_OPENED_FIS_QUARTER=%{x}<br>Count=%{y}\", \"legendgroup\": \"INCIDENT_SUBCATEGORY=Document\", \"marker\": {\"color\": \"#FF6692\"}, \"name\": \"INCIDENT_SUBCATEGORY=Document\", \"offsetgroup\": \"INCIDENT_SUBCATEGORY=Document\", \"orientation\": \"v\", \"showlegend\": true, \"textposition\": \"auto\", \"type\": \"bar\", \"x\": [\"FY2018 Q1\", \"FY2018 Q2\", \"FY2018 Q3\", \"FY2018 Q4\", \"FY2019 Q1\", \"FY2019 Q2\", \"FY2019 Q3\", \"FY2019 Q4\", \"FY2020 Q1\", \"FY2020 Q2\", \"FY2020 Q3\", \"FY2020 Q4\", \"FY2021 Q1\", \"FY2021 Q2\"], \"xaxis\": \"x\", \"y\": [3, 5, 4, 3, 2, 5, 1, 1, 2, 4, 2, 2, 2, 1], \"yaxis\": \"y\"}, {\"alignmentgroup\": \"True\", \"hoverlabel\": {\"namelength\": 0}, \"hovertemplate\": \"INCIDENT_SUBCATEGORY=Function Not Working<br>INCIDENT_OPENED_FIS_QUARTER=%{x}<br>Count=%{y}\", \"legendgroup\": \"INCIDENT_SUBCATEGORY=Function Not Working\", \"marker\": {\"color\": \"#B6E880\"}, \"name\": \"INCIDENT_SUBCATEGORY=Function Not Working\", \"offsetgroup\": \"INCIDENT_SUBCATEGORY=Function Not Working\", \"orientation\": \"v\", \"showlegend\": true, \"textposition\": \"auto\", \"type\": \"bar\", \"x\": [\"FY2018 Q1\", \"FY2018 Q2\", \"FY2018 Q3\", \"FY2018 Q4\", \"FY2019 Q1\", \"FY2019 Q2\", \"FY2019 Q3\", \"FY2019 Q4\", \"FY2020 Q1\", \"FY2020 Q2\", \"FY2020 Q3\", \"FY2020 Q4\", \"FY2021 Q1\", \"FY2021 Q2\"], \"xaxis\": \"x\", \"y\": [253, 333, 235, 198, 237, 167, 223, 229, 189, 156, 161, 109, 146, 133], \"yaxis\": \"y\"}, {\"alignmentgroup\": \"True\", \"hoverlabel\": {\"namelength\": 0}, \"hovertemplate\": \"INCIDENT_SUBCATEGORY=General Inquiry<br>INCIDENT_OPENED_FIS_QUARTER=%{x}<br>Count=%{y}\", \"legendgroup\": \"INCIDENT_SUBCATEGORY=General Inquiry\", \"marker\": {\"color\": \"#FF97FF\"}, \"name\": \"INCIDENT_SUBCATEGORY=General Inquiry\", \"offsetgroup\": \"INCIDENT_SUBCATEGORY=General Inquiry\", \"orientation\": \"v\", \"showlegend\": true, \"textposition\": \"auto\", \"type\": \"bar\", \"x\": [\"FY2018 Q1\", \"FY2018 Q2\", \"FY2018 Q3\", \"FY2018 Q4\", \"FY2019 Q1\", \"FY2019 Q2\", \"FY2019 Q3\", \"FY2019 Q4\", \"FY2020 Q1\", \"FY2020 Q2\", \"FY2020 Q3\", \"FY2020 Q4\", \"FY2021 Q1\", \"FY2021 Q2\"], \"xaxis\": \"x\", \"y\": [214, 556, 442, 462, 1018, 924, 1178, 1284, 1530, 1430, 1410, 1216, 1456, 1208], \"yaxis\": \"y\"}, {\"alignmentgroup\": \"True\", \"hoverlabel\": {\"namelength\": 0}, \"hovertemplate\": \"INCIDENT_SUBCATEGORY=Hardware<br>INCIDENT_OPENED_FIS_QUARTER=%{x}<br>Count=%{y}\", \"legendgroup\": \"INCIDENT_SUBCATEGORY=Hardware\", \"marker\": {\"color\": \"#FECB52\"}, \"name\": \"INCIDENT_SUBCATEGORY=Hardware\", \"offsetgroup\": \"INCIDENT_SUBCATEGORY=Hardware\", \"orientation\": \"v\", \"showlegend\": true, \"textposition\": \"auto\", \"type\": \"bar\", \"x\": [\"FY2018 Q1\", \"FY2018 Q2\", \"FY2018 Q3\", \"FY2018 Q4\", \"FY2019 Q1\", \"FY2019 Q2\", \"FY2019 Q3\", \"FY2019 Q4\", \"FY2020 Q1\", \"FY2020 Q2\", \"FY2020 Q3\", \"FY2020 Q4\", \"FY2021 Q1\", \"FY2021 Q2\"], \"xaxis\": \"x\", \"y\": [396, 1122, 958, 957, 922, 842, 826, 860, 834, 614, 550, 393, 351, 338], \"yaxis\": \"y\"}, {\"alignmentgroup\": \"True\", \"hoverlabel\": {\"namelength\": 0}, \"hovertemplate\": \"INCIDENT_SUBCATEGORY=Job Failure<br>INCIDENT_OPENED_FIS_QUARTER=%{x}<br>Count=%{y}\", \"legendgroup\": \"INCIDENT_SUBCATEGORY=Job Failure\", \"marker\": {\"color\": \"#636efa\"}, \"name\": \"INCIDENT_SUBCATEGORY=Job Failure\", \"offsetgroup\": \"INCIDENT_SUBCATEGORY=Job Failure\", \"orientation\": \"v\", \"showlegend\": true, \"textposition\": \"auto\", \"type\": \"bar\", \"x\": [\"FY2018 Q1\", \"FY2018 Q2\", \"FY2018 Q3\", \"FY2018 Q4\", \"FY2019 Q1\", \"FY2019 Q2\", \"FY2019 Q3\", \"FY2019 Q4\", \"FY2020 Q1\", \"FY2020 Q2\", \"FY2020 Q3\", \"FY2021 Q1\", \"FY2021 Q2\"], \"xaxis\": \"x\", \"y\": [7, 10, 14, 10, 10, 5, 2, 8, 3, 2, 3, 7, 4], \"yaxis\": \"y\"}, {\"alignmentgroup\": \"True\", \"hoverlabel\": {\"namelength\": 0}, \"hovertemplate\": \"INCIDENT_SUBCATEGORY=Misclassified<br>INCIDENT_OPENED_FIS_QUARTER=%{x}<br>Count=%{y}\", \"legendgroup\": \"INCIDENT_SUBCATEGORY=Misclassified\", \"marker\": {\"color\": \"#EF553B\"}, \"name\": \"INCIDENT_SUBCATEGORY=Misclassified\", \"offsetgroup\": \"INCIDENT_SUBCATEGORY=Misclassified\", \"orientation\": \"v\", \"showlegend\": true, \"textposition\": \"auto\", \"type\": \"bar\", \"x\": [\"FY2018 Q1\", \"FY2018 Q2\", \"FY2018 Q3\", \"FY2018 Q4\", \"FY2019 Q1\", \"FY2019 Q2\", \"FY2019 Q3\", \"FY2019 Q4\", \"FY2020 Q1\", \"FY2020 Q2\", \"FY2020 Q3\", \"FY2020 Q4\", \"FY2021 Q1\", \"FY2021 Q2\"], \"xaxis\": \"x\", \"y\": [7, 57, 116, 119, 75, 77, 31, 19, 33, 16, 19, 10, 6, 4], \"yaxis\": \"y\"}, {\"alignmentgroup\": \"True\", \"hoverlabel\": {\"namelength\": 0}, \"hovertemplate\": \"INCIDENT_SUBCATEGORY=Network<br>INCIDENT_OPENED_FIS_QUARTER=%{x}<br>Count=%{y}\", \"legendgroup\": \"INCIDENT_SUBCATEGORY=Network\", \"marker\": {\"color\": \"#00cc96\"}, \"name\": \"INCIDENT_SUBCATEGORY=Network\", \"offsetgroup\": \"INCIDENT_SUBCATEGORY=Network\", \"orientation\": \"v\", \"showlegend\": true, \"textposition\": \"auto\", \"type\": \"bar\", \"x\": [\"FY2018 Q1\", \"FY2018 Q2\", \"FY2018 Q3\", \"FY2018 Q4\", \"FY2019 Q1\", \"FY2019 Q2\", \"FY2019 Q3\", \"FY2019 Q4\", \"FY2020 Q1\", \"FY2020 Q2\", \"FY2020 Q3\", \"FY2020 Q4\", \"FY2021 Q1\", \"FY2021 Q2\"], \"xaxis\": \"x\", \"y\": [190, 505, 519, 493, 320, 187, 266, 325, 218, 173, 122, 89, 67, 64], \"yaxis\": \"y\"}, {\"alignmentgroup\": \"True\", \"hoverlabel\": {\"namelength\": 0}, \"hovertemplate\": \"INCIDENT_SUBCATEGORY=Offline<br>INCIDENT_OPENED_FIS_QUARTER=%{x}<br>Count=%{y}\", \"legendgroup\": \"INCIDENT_SUBCATEGORY=Offline\", \"marker\": {\"color\": \"#ab63fa\"}, \"name\": \"INCIDENT_SUBCATEGORY=Offline\", \"offsetgroup\": \"INCIDENT_SUBCATEGORY=Offline\", \"orientation\": \"v\", \"showlegend\": true, \"textposition\": \"auto\", \"type\": \"bar\", \"x\": [\"FY2018 Q1\", \"FY2018 Q2\", \"FY2018 Q3\", \"FY2018 Q4\", \"FY2019 Q1\", \"FY2019 Q2\", \"FY2019 Q3\", \"FY2019 Q4\", \"FY2020 Q1\", \"FY2020 Q2\", \"FY2020 Q3\", \"FY2020 Q4\", \"FY2021 Q1\", \"FY2021 Q2\"], \"xaxis\": \"x\", \"y\": [28, 65, 60, 28, 17, 19, 25, 21, 22, 17, 14, 12, 18, 8], \"yaxis\": \"y\"}, {\"alignmentgroup\": \"True\", \"hoverlabel\": {\"namelength\": 0}, \"hovertemplate\": \"INCIDENT_SUBCATEGORY=Order<br>INCIDENT_OPENED_FIS_QUARTER=%{x}<br>Count=%{y}\", \"legendgroup\": \"INCIDENT_SUBCATEGORY=Order\", \"marker\": {\"color\": \"#FFA15A\"}, \"name\": \"INCIDENT_SUBCATEGORY=Order\", \"offsetgroup\": \"INCIDENT_SUBCATEGORY=Order\", \"orientation\": \"v\", \"showlegend\": true, \"textposition\": \"auto\", \"type\": \"bar\", \"x\": [\"FY2018 Q1\", \"FY2018 Q2\", \"FY2018 Q3\", \"FY2018 Q4\", \"FY2019 Q1\", \"FY2019 Q2\", \"FY2019 Q3\", \"FY2019 Q4\", \"FY2020 Q2\", \"FY2020 Q3\", \"FY2020 Q4\", \"FY2021 Q1\", \"FY2021 Q2\"], \"xaxis\": \"x\", \"y\": [6, 8, 2, 2, 3, 4, 3, 1, 2, 2, 1, 1, 1], \"yaxis\": \"y\"}, {\"alignmentgroup\": \"True\", \"hoverlabel\": {\"namelength\": 0}, \"hovertemplate\": \"INCIDENT_SUBCATEGORY=Policy<br>INCIDENT_OPENED_FIS_QUARTER=%{x}<br>Count=%{y}\", \"legendgroup\": \"INCIDENT_SUBCATEGORY=Policy\", \"marker\": {\"color\": \"#19d3f3\"}, \"name\": \"INCIDENT_SUBCATEGORY=Policy\", \"offsetgroup\": \"INCIDENT_SUBCATEGORY=Policy\", \"orientation\": \"v\", \"showlegend\": true, \"textposition\": \"auto\", \"type\": \"bar\", \"x\": [\"FY2018 Q1\", \"FY2018 Q2\", \"FY2018 Q3\", \"FY2018 Q4\", \"FY2019 Q1\", \"FY2019 Q2\", \"FY2019 Q3\", \"FY2019 Q4\", \"FY2020 Q1\", \"FY2020 Q2\", \"FY2020 Q3\", \"FY2020 Q4\", \"FY2021 Q1\"], \"xaxis\": \"x\", \"y\": [32, 30, 33, 34, 32, 10, 10, 10, 5, 8, 2, 5, 1], \"yaxis\": \"y\"}, {\"alignmentgroup\": \"True\", \"hoverlabel\": {\"namelength\": 0}, \"hovertemplate\": \"INCIDENT_SUBCATEGORY=Self-Service<br>INCIDENT_OPENED_FIS_QUARTER=%{x}<br>Count=%{y}\", \"legendgroup\": \"INCIDENT_SUBCATEGORY=Self-Service\", \"marker\": {\"color\": \"#FF6692\"}, \"name\": \"INCIDENT_SUBCATEGORY=Self-Service\", \"offsetgroup\": \"INCIDENT_SUBCATEGORY=Self-Service\", \"orientation\": \"v\", \"showlegend\": true, \"textposition\": \"auto\", \"type\": \"bar\", \"x\": [\"FY2018 Q1\", \"FY2018 Q2\", \"FY2018 Q3\", \"FY2018 Q4\", \"FY2019 Q1\", \"FY2019 Q2\", \"FY2019 Q3\", \"FY2019 Q4\", \"FY2020 Q1\", \"FY2020 Q2\", \"FY2020 Q3\", \"FY2020 Q4\", \"FY2021 Q1\", \"FY2021 Q2\"], \"xaxis\": \"x\", \"y\": [31, 57, 62, 48, 143, 195, 211, 155, 109, 103, 118, 70, 103, 69], \"yaxis\": \"y\"}, {\"alignmentgroup\": \"True\", \"hoverlabel\": {\"namelength\": 0}, \"hovertemplate\": \"INCIDENT_SUBCATEGORY=Software<br>INCIDENT_OPENED_FIS_QUARTER=%{x}<br>Count=%{y}\", \"legendgroup\": \"INCIDENT_SUBCATEGORY=Software\", \"marker\": {\"color\": \"#B6E880\"}, \"name\": \"INCIDENT_SUBCATEGORY=Software\", \"offsetgroup\": \"INCIDENT_SUBCATEGORY=Software\", \"orientation\": \"v\", \"showlegend\": true, \"textposition\": \"auto\", \"type\": \"bar\", \"x\": [\"FY2018 Q1\", \"FY2018 Q2\", \"FY2018 Q3\", \"FY2018 Q4\", \"FY2019 Q1\", \"FY2019 Q2\", \"FY2019 Q3\", \"FY2019 Q4\", \"FY2020 Q1\", \"FY2020 Q2\", \"FY2020 Q3\", \"FY2020 Q4\", \"FY2021 Q1\", \"FY2021 Q2\"], \"xaxis\": \"x\", \"y\": [508, 1372, 1837, 1538, 1766, 1682, 1864, 1444, 1305, 1064, 1308, 907, 932, 789], \"yaxis\": \"y\"}, {\"alignmentgroup\": \"True\", \"hoverlabel\": {\"namelength\": 0}, \"hovertemplate\": \"INCIDENT_SUBCATEGORY=User Call<br>INCIDENT_OPENED_FIS_QUARTER=%{x}<br>Count=%{y}\", \"legendgroup\": \"INCIDENT_SUBCATEGORY=User Call\", \"marker\": {\"color\": \"#FF97FF\"}, \"name\": \"INCIDENT_SUBCATEGORY=User Call\", \"offsetgroup\": \"INCIDENT_SUBCATEGORY=User Call\", \"orientation\": \"v\", \"showlegend\": true, \"textposition\": \"auto\", \"type\": \"bar\", \"x\": [\"FY2018 Q1\", \"FY2018 Q2\", \"FY2018 Q3\", \"FY2018 Q4\", \"FY2019 Q1\", \"FY2019 Q2\", \"FY2019 Q3\", \"FY2019 Q4\", \"FY2020 Q1\", \"FY2020 Q2\", \"FY2020 Q3\", \"FY2020 Q4\", \"FY2021 Q1\", \"FY2021 Q2\"], \"xaxis\": \"x\", \"y\": [37, 57, 127, 168, 275, 258, 359, 456, 340, 273, 425, 198, 181, 185], \"yaxis\": \"y\"}, {\"alignmentgroup\": \"True\", \"hoverlabel\": {\"namelength\": 0}, \"hovertemplate\": \"INCIDENT_SUBCATEGORY=Workflow<br>INCIDENT_OPENED_FIS_QUARTER=%{x}<br>Count=%{y}\", \"legendgroup\": \"INCIDENT_SUBCATEGORY=Workflow\", \"marker\": {\"color\": \"#FECB52\"}, \"name\": \"INCIDENT_SUBCATEGORY=Workflow\", \"offsetgroup\": \"INCIDENT_SUBCATEGORY=Workflow\", \"orientation\": \"v\", \"showlegend\": true, \"textposition\": \"auto\", \"type\": \"bar\", \"x\": [\"FY2018 Q1\", \"FY2018 Q2\", \"FY2018 Q3\", \"FY2018 Q4\", \"FY2019 Q1\", \"FY2019 Q2\", \"FY2019 Q3\", \"FY2019 Q4\", \"FY2020 Q1\", \"FY2020 Q3\"], \"xaxis\": \"x\", \"y\": [3, 6, 4, 5, 2, 4, 1, 3, 1, 1], \"yaxis\": \"y\"}, {\"alignmentgroup\": \"True\", \"hoverlabel\": {\"namelength\": 0}, \"hovertemplate\": \"INCIDENT_SUBCATEGORY=Invoice<br>INCIDENT_OPENED_FIS_QUARTER=%{x}<br>Count=%{y}\", \"legendgroup\": \"INCIDENT_SUBCATEGORY=Invoice\", \"marker\": {\"color\": \"#636efa\"}, \"name\": \"INCIDENT_SUBCATEGORY=Invoice\", \"offsetgroup\": \"INCIDENT_SUBCATEGORY=Invoice\", \"orientation\": \"v\", \"showlegend\": true, \"textposition\": \"auto\", \"type\": \"bar\", \"x\": [\"FY2018 Q2\", \"FY2018 Q3\", \"FY2018 Q4\", \"FY2019 Q2\"], \"xaxis\": \"x\", \"y\": [1, 1, 1, 3], \"yaxis\": \"y\"}, {\"alignmentgroup\": \"True\", \"hoverlabel\": {\"namelength\": 0}, \"hovertemplate\": \"INCIDENT_SUBCATEGORY=Data or Configuration<br>INCIDENT_OPENED_FIS_QUARTER=%{x}<br>Count=%{y}\", \"legendgroup\": \"INCIDENT_SUBCATEGORY=Data or Configuration\", \"marker\": {\"color\": \"#EF553B\"}, \"name\": \"INCIDENT_SUBCATEGORY=Data or Configuration\", \"offsetgroup\": \"INCIDENT_SUBCATEGORY=Data or Configuration\", \"orientation\": \"v\", \"showlegend\": true, \"textposition\": \"auto\", \"type\": \"bar\", \"x\": [\"FY2020 Q4\", \"FY2021 Q1\", \"FY2021 Q2\"], \"xaxis\": \"x\", \"y\": [2, 3, 1], \"yaxis\": \"y\"}],\n",
       "                        {\"barmode\": \"relative\", \"height\": 400, \"legend\": {\"tracegroupgap\": 0}, \"margin\": {\"t\": 60}, \"template\": {\"data\": {\"bar\": [{\"error_x\": {\"color\": \"#2a3f5f\"}, \"error_y\": {\"color\": \"#2a3f5f\"}, \"marker\": {\"line\": {\"color\": \"#E5ECF6\", \"width\": 0.5}}, \"type\": \"bar\"}], \"barpolar\": [{\"marker\": {\"line\": {\"color\": \"#E5ECF6\", \"width\": 0.5}}, \"type\": \"barpolar\"}], \"carpet\": [{\"aaxis\": {\"endlinecolor\": \"#2a3f5f\", \"gridcolor\": \"white\", \"linecolor\": \"white\", \"minorgridcolor\": \"white\", \"startlinecolor\": \"#2a3f5f\"}, \"baxis\": {\"endlinecolor\": \"#2a3f5f\", \"gridcolor\": \"white\", \"linecolor\": \"white\", \"minorgridcolor\": \"white\", \"startlinecolor\": \"#2a3f5f\"}, \"type\": \"carpet\"}], \"choropleth\": [{\"colorbar\": {\"outlinewidth\": 0, \"ticks\": \"\"}, \"type\": \"choropleth\"}], \"contour\": [{\"colorbar\": {\"outlinewidth\": 0, \"ticks\": \"\"}, \"colorscale\": [[0.0, \"#0d0887\"], [0.1111111111111111, \"#46039f\"], [0.2222222222222222, \"#7201a8\"], [0.3333333333333333, \"#9c179e\"], [0.4444444444444444, \"#bd3786\"], [0.5555555555555556, \"#d8576b\"], [0.6666666666666666, \"#ed7953\"], [0.7777777777777778, \"#fb9f3a\"], [0.8888888888888888, \"#fdca26\"], [1.0, \"#f0f921\"]], \"type\": \"contour\"}], \"contourcarpet\": [{\"colorbar\": {\"outlinewidth\": 0, \"ticks\": \"\"}, \"type\": \"contourcarpet\"}], \"heatmap\": [{\"colorbar\": {\"outlinewidth\": 0, \"ticks\": \"\"}, \"colorscale\": [[0.0, \"#0d0887\"], [0.1111111111111111, \"#46039f\"], [0.2222222222222222, \"#7201a8\"], [0.3333333333333333, \"#9c179e\"], [0.4444444444444444, \"#bd3786\"], [0.5555555555555556, \"#d8576b\"], [0.6666666666666666, \"#ed7953\"], [0.7777777777777778, \"#fb9f3a\"], [0.8888888888888888, \"#fdca26\"], [1.0, \"#f0f921\"]], \"type\": \"heatmap\"}], \"heatmapgl\": [{\"colorbar\": {\"outlinewidth\": 0, \"ticks\": \"\"}, \"colorscale\": [[0.0, \"#0d0887\"], [0.1111111111111111, \"#46039f\"], [0.2222222222222222, \"#7201a8\"], [0.3333333333333333, \"#9c179e\"], [0.4444444444444444, \"#bd3786\"], [0.5555555555555556, \"#d8576b\"], [0.6666666666666666, \"#ed7953\"], [0.7777777777777778, \"#fb9f3a\"], [0.8888888888888888, \"#fdca26\"], [1.0, \"#f0f921\"]], \"type\": \"heatmapgl\"}], \"histogram\": [{\"marker\": {\"colorbar\": {\"outlinewidth\": 0, \"ticks\": \"\"}}, \"type\": \"histogram\"}], \"histogram2d\": [{\"colorbar\": {\"outlinewidth\": 0, \"ticks\": \"\"}, \"colorscale\": [[0.0, \"#0d0887\"], [0.1111111111111111, \"#46039f\"], [0.2222222222222222, \"#7201a8\"], [0.3333333333333333, \"#9c179e\"], [0.4444444444444444, \"#bd3786\"], [0.5555555555555556, \"#d8576b\"], [0.6666666666666666, \"#ed7953\"], [0.7777777777777778, \"#fb9f3a\"], [0.8888888888888888, \"#fdca26\"], [1.0, \"#f0f921\"]], \"type\": \"histogram2d\"}], \"histogram2dcontour\": [{\"colorbar\": {\"outlinewidth\": 0, \"ticks\": \"\"}, \"colorscale\": [[0.0, \"#0d0887\"], [0.1111111111111111, \"#46039f\"], [0.2222222222222222, \"#7201a8\"], [0.3333333333333333, \"#9c179e\"], [0.4444444444444444, \"#bd3786\"], [0.5555555555555556, \"#d8576b\"], [0.6666666666666666, \"#ed7953\"], [0.7777777777777778, \"#fb9f3a\"], [0.8888888888888888, \"#fdca26\"], [1.0, \"#f0f921\"]], \"type\": \"histogram2dcontour\"}], \"mesh3d\": [{\"colorbar\": {\"outlinewidth\": 0, \"ticks\": \"\"}, \"type\": \"mesh3d\"}], \"parcoords\": [{\"line\": {\"colorbar\": {\"outlinewidth\": 0, \"ticks\": \"\"}}, \"type\": \"parcoords\"}], \"scatter\": [{\"marker\": {\"colorbar\": {\"outlinewidth\": 0, \"ticks\": \"\"}}, \"type\": \"scatter\"}], \"scatter3d\": [{\"line\": {\"colorbar\": {\"outlinewidth\": 0, \"ticks\": \"\"}}, \"marker\": {\"colorbar\": {\"outlinewidth\": 0, \"ticks\": \"\"}}, \"type\": \"scatter3d\"}], \"scattercarpet\": [{\"marker\": {\"colorbar\": {\"outlinewidth\": 0, \"ticks\": \"\"}}, \"type\": \"scattercarpet\"}], \"scattergeo\": [{\"marker\": {\"colorbar\": {\"outlinewidth\": 0, \"ticks\": \"\"}}, \"type\": \"scattergeo\"}], \"scattergl\": [{\"marker\": {\"colorbar\": {\"outlinewidth\": 0, \"ticks\": \"\"}}, \"type\": \"scattergl\"}], \"scattermapbox\": [{\"marker\": {\"colorbar\": {\"outlinewidth\": 0, \"ticks\": \"\"}}, \"type\": \"scattermapbox\"}], \"scatterpolar\": [{\"marker\": {\"colorbar\": {\"outlinewidth\": 0, \"ticks\": \"\"}}, \"type\": \"scatterpolar\"}], \"scatterpolargl\": [{\"marker\": {\"colorbar\": {\"outlinewidth\": 0, \"ticks\": \"\"}}, \"type\": \"scatterpolargl\"}], \"scatterternary\": [{\"marker\": {\"colorbar\": {\"outlinewidth\": 0, \"ticks\": \"\"}}, \"type\": \"scatterternary\"}], \"surface\": [{\"colorbar\": {\"outlinewidth\": 0, \"ticks\": \"\"}, \"colorscale\": [[0.0, \"#0d0887\"], [0.1111111111111111, \"#46039f\"], [0.2222222222222222, \"#7201a8\"], [0.3333333333333333, \"#9c179e\"], [0.4444444444444444, \"#bd3786\"], [0.5555555555555556, \"#d8576b\"], [0.6666666666666666, \"#ed7953\"], [0.7777777777777778, \"#fb9f3a\"], [0.8888888888888888, \"#fdca26\"], [1.0, \"#f0f921\"]], \"type\": \"surface\"}], \"table\": [{\"cells\": {\"fill\": {\"color\": \"#EBF0F8\"}, \"line\": {\"color\": \"white\"}}, \"header\": {\"fill\": {\"color\": \"#C8D4E3\"}, \"line\": {\"color\": \"white\"}}, \"type\": \"table\"}]}, \"layout\": {\"annotationdefaults\": {\"arrowcolor\": \"#2a3f5f\", \"arrowhead\": 0, \"arrowwidth\": 1}, \"colorscale\": {\"diverging\": [[0, \"#8e0152\"], [0.1, \"#c51b7d\"], [0.2, \"#de77ae\"], [0.3, \"#f1b6da\"], [0.4, \"#fde0ef\"], [0.5, \"#f7f7f7\"], [0.6, \"#e6f5d0\"], [0.7, \"#b8e186\"], [0.8, \"#7fbc41\"], [0.9, \"#4d9221\"], [1, \"#276419\"]], \"sequential\": [[0.0, \"#0d0887\"], [0.1111111111111111, \"#46039f\"], [0.2222222222222222, \"#7201a8\"], [0.3333333333333333, \"#9c179e\"], [0.4444444444444444, \"#bd3786\"], [0.5555555555555556, \"#d8576b\"], [0.6666666666666666, \"#ed7953\"], [0.7777777777777778, \"#fb9f3a\"], [0.8888888888888888, \"#fdca26\"], [1.0, \"#f0f921\"]], \"sequentialminus\": [[0.0, \"#0d0887\"], [0.1111111111111111, \"#46039f\"], [0.2222222222222222, \"#7201a8\"], [0.3333333333333333, \"#9c179e\"], [0.4444444444444444, \"#bd3786\"], [0.5555555555555556, \"#d8576b\"], [0.6666666666666666, \"#ed7953\"], [0.7777777777777778, \"#fb9f3a\"], [0.8888888888888888, \"#fdca26\"], [1.0, \"#f0f921\"]]}, \"colorway\": [\"#636efa\", \"#EF553B\", \"#00cc96\", \"#ab63fa\", \"#FFA15A\", \"#19d3f3\", \"#FF6692\", \"#B6E880\", \"#FF97FF\", \"#FECB52\"], \"font\": {\"color\": \"#2a3f5f\"}, \"geo\": {\"bgcolor\": \"white\", \"lakecolor\": \"white\", \"landcolor\": \"#E5ECF6\", \"showlakes\": true, \"showland\": true, \"subunitcolor\": \"white\"}, \"hoverlabel\": {\"align\": \"left\"}, \"hovermode\": \"closest\", \"mapbox\": {\"style\": \"light\"}, \"paper_bgcolor\": \"white\", \"plot_bgcolor\": \"#E5ECF6\", \"polar\": {\"angularaxis\": {\"gridcolor\": \"white\", \"linecolor\": \"white\", \"ticks\": \"\"}, \"bgcolor\": \"#E5ECF6\", \"radialaxis\": {\"gridcolor\": \"white\", \"linecolor\": \"white\", \"ticks\": \"\"}}, \"scene\": {\"xaxis\": {\"backgroundcolor\": \"#E5ECF6\", \"gridcolor\": \"white\", \"gridwidth\": 2, \"linecolor\": \"white\", \"showbackground\": true, \"ticks\": \"\", \"zerolinecolor\": \"white\"}, \"yaxis\": {\"backgroundcolor\": \"#E5ECF6\", \"gridcolor\": \"white\", \"gridwidth\": 2, \"linecolor\": \"white\", \"showbackground\": true, \"ticks\": \"\", \"zerolinecolor\": \"white\"}, \"zaxis\": {\"backgroundcolor\": \"#E5ECF6\", \"gridcolor\": \"white\", \"gridwidth\": 2, \"linecolor\": \"white\", \"showbackground\": true, \"ticks\": \"\", \"zerolinecolor\": \"white\"}}, \"shapedefaults\": {\"line\": {\"color\": \"#2a3f5f\"}}, \"ternary\": {\"aaxis\": {\"gridcolor\": \"white\", \"linecolor\": \"white\", \"ticks\": \"\"}, \"baxis\": {\"gridcolor\": \"white\", \"linecolor\": \"white\", \"ticks\": \"\"}, \"bgcolor\": \"#E5ECF6\", \"caxis\": {\"gridcolor\": \"white\", \"linecolor\": \"white\", \"ticks\": \"\"}}, \"title\": {\"x\": 0.05}, \"xaxis\": {\"automargin\": true, \"gridcolor\": \"white\", \"linecolor\": \"white\", \"ticks\": \"\", \"zerolinecolor\": \"white\", \"zerolinewidth\": 2}, \"yaxis\": {\"automargin\": true, \"gridcolor\": \"white\", \"linecolor\": \"white\", \"ticks\": \"\", \"zerolinecolor\": \"white\", \"zerolinewidth\": 2}}}, \"width\": 1000, \"xaxis\": {\"anchor\": \"y\", \"domain\": [0.0, 0.98], \"title\": {\"text\": \"INCIDENT_OPENED_FIS_QUARTER\"}}, \"yaxis\": {\"anchor\": \"x\", \"domain\": [0.0, 1.0], \"title\": {\"text\": \"Count\"}}},\n",
       "                        {\"responsive\": true}\n",
       "                    ).then(function(){\n",
       "                            \n",
       "var gd = document.getElementById('2fe97d17-8cae-4e96-b07f-1aaeeac7fd81');\n",
       "var x = new MutationObserver(function (mutations, observer) {{\n",
       "        var display = window.getComputedStyle(gd).display;\n",
       "        if (!display || display === 'none') {{\n",
       "            console.log([gd, 'removed!']);\n",
       "            Plotly.purge(gd);\n",
       "            observer.disconnect();\n",
       "        }}\n",
       "}});\n",
       "\n",
       "// Listen for the removal of the full notebook cells\n",
       "var notebookContainer = gd.closest('#notebook-container');\n",
       "if (notebookContainer) {{\n",
       "    x.observe(notebookContainer, {childList: true});\n",
       "}}\n",
       "\n",
       "// Listen for the clearing of the current output cell\n",
       "var outputEl = gd.closest('.output');\n",
       "if (outputEl) {{\n",
       "    x.observe(outputEl, {childList: true});\n",
       "}}\n",
       "\n",
       "                        })\n",
       "                };\n",
       "                });\n",
       "            </script>\n",
       "        </div>"
      ]
     },
     "metadata": {},
     "output_type": "display_data"
    }
   ],
   "source": [
    "import plotly.express as px\n",
    "\n",
    "fig = px.bar(dnew, x=\"INCIDENT_OPENED_FIS_QUARTER\", y=\"Count\", color='INCIDENT_SUBCATEGORY'\n",
    "             #,\n",
    "              #title='Alerts with Elvis policy distribution',\n",
    "             , width=1000,height=400\n",
    "               )  \n",
    "    \n",
    " \n",
    "#fig.update_xaxes(matches=None, showticklabels=True, visible=True)\n",
    "fig.show()"
   ]
  }
 ],
 "metadata": {
  "kernelspec": {
   "display_name": "Python 3",
   "language": "python",
   "name": "python3"
  },
  "language_info": {
   "codemirror_mode": {
    "name": "ipython",
    "version": 3
   },
   "file_extension": ".py",
   "mimetype": "text/x-python",
   "name": "python",
   "nbconvert_exporter": "python",
   "pygments_lexer": "ipython3",
   "version": "3.6.4"
  }
 },
 "nbformat": 4,
 "nbformat_minor": 2
}
